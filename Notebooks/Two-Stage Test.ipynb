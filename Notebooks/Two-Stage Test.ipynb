{
 "cells": [
  {
   "cell_type": "code",
   "execution_count": 1,
   "metadata": {},
   "outputs": [],
   "source": [
    "import os\n",
    "os.chdir(os.path.dirname(os.getcwd()))"
   ]
  },
  {
   "cell_type": "code",
   "execution_count": 2,
   "metadata": {},
   "outputs": [],
   "source": [
    "from Map import Map\n",
    "from Tabu import Tabu\n",
    "from TwoStage import TwoStage\n",
    "from L_shaped import MasterProblem as mp\n",
    "import matplotlib.pyplot as plt\n",
    "import matplotlib.pylab as pl \n",
    "import matplotlib.cm as cm\n",
    "import time\n",
    "import networkx as nx\n",
    "import matplotlib as mpl"
   ]
  },
  {
   "cell_type": "markdown",
   "metadata": {},
   "source": [
    "**Modelling Parameters**"
   ]
  },
  {
   "cell_type": "code",
   "execution_count": 3,
   "metadata": {},
   "outputs": [],
   "source": [
    "rides = 5\n",
    "bus = 1\n",
    "scenarios = 25\n",
    "MIPGap = 0.001\n",
    "probability = [0.7, 0.1, 0.15, 0.05]"
   ]
  },
  {
   "cell_type": "markdown",
   "metadata": {},
   "source": [
    "**Defining the Map**"
   ]
  },
  {
   "cell_type": "code",
   "execution_count": 4,
   "metadata": {},
   "outputs": [],
   "source": [
    "mappy = Map(rides)"
   ]
  },
  {
   "cell_type": "code",
   "execution_count": 5,
   "metadata": {},
   "outputs": [],
   "source": [
    "def Mod2(model=None):\n",
    "    t2 = time.time()\n",
    "    twosp = TwoStage(mappy, bus=bus, scenarios=scenarios, probability=probability)\n",
    "    twosp.model.params.MIPGap = MIPGap\n",
    "    if model is not None:\n",
    "        for i,j,k in twosp.MP.variables.x.keys():\n",
    "            twosp.MP.variables.x[i,j,k].start = model.variables.x[i,j,k].X\n",
    "    twosp.optimize()\n",
    "    t2 = time.time() - t2\n",
    "    return twosp, t2"
   ]
  },
  {
   "cell_type": "markdown",
   "metadata": {},
   "source": [
    "**Plotting Functions**"
   ]
  },
  {
   "cell_type": "code",
   "execution_count": 6,
   "metadata": {},
   "outputs": [],
   "source": [
    "def plot_trend(ub,lb,base):\n",
    "    x = list(range(len(ub)))\n",
    "    figure = plt.figure()\n",
    "    plt.plot(x,ub,label='upper-bound')\n",
    "    plt.plot(x,[base]*len(ub),label='two-stage')\n",
    "    plt.plot(x,lb,label='lower-bound')\n",
    "    plt.annotate(int(ub[-1]),[x[-1],ub[-1]])\n",
    "    plt.legend()\n",
    "    plt.savefig('./figures/trend.png')\n",
    "    plt.show()\n",
    "\n",
    "colors = ['green','blue','yellow','red','pink'] \n",
    "def displaygraph(n, e, modname):\n",
    "    for k in e.keys():\n",
    "        for i, j in e[k]:\n",
    "            plt.plot((n[i][0],n[j][0]),(n[i][1],n[j][1]), color=colors[k] ,marker='o', linewidth=2, linestyle='dashed')\n",
    "    for i in n:\n",
    "        plt.annotate(i,n[i],textcoords=\"offset points\",xytext=(0,10),ha='center')\n",
    "    plt.savefig('./figures/'+modname+'.png')\n",
    "    plt.show()\n"
   ]
  },
  {
   "cell_type": "code",
   "execution_count": 7,
   "metadata": {
    "scrolled": true
   },
   "outputs": [
    {
     "name": "stdout",
     "output_type": "stream",
     "text": [
      "Using license file C:\\Users\\lavkeshg\\gurobi.lic\n",
      "Academic license - for non-commercial use only\n",
      "Changed value of parameter NodefileStart to 0.5\n",
      "   Prev: inf  Min: 0.0  Max: inf  Default: inf\n",
      "Changed value of parameter MIPGap to 0.001\n",
      "   Prev: 0.0001  Min: 0.0  Max: inf  Default: 0.0001\n",
      "Gurobi Optimizer version 9.0.2 build v9.0.2rc0 (win64)\n",
      "Optimize a model with 8125 rows, 6226 columns and 31851 nonzeros\n",
      "Model fingerprint: 0x49cf63c6\n",
      "Variable types: 3340 continuous, 2886 integer (2886 binary)\n",
      "Coefficient statistics:\n",
      "  Matrix range     [1e+00, 1e+05]\n",
      "  Objective range  [1e-16, 4e-01]\n",
      "  Bounds range     [1e+00, 3e+00]\n",
      "  RHS range        [1e+00, 1e+05]\n",
      "Presolve removed 994 rows and 1969 columns\n",
      "Presolve time: 0.09s\n",
      "Presolved: 7131 rows, 4257 columns, 25943 nonzeros\n",
      "Variable types: 2225 continuous, 2032 integer (2032 binary)\n",
      "\n",
      "Root relaxation: objective 1.732029e+01, 3760 iterations, 0.48 seconds\n",
      "\n",
      "    Nodes    |    Current Node    |     Objective Bounds      |     Work\n",
      " Expl Unexpl |  Obj  Depth IntInf | Incumbent    BestBd   Gap | It/Node Time\n",
      "\n",
      "     0     0   17.32029    0  342          -   17.32029      -     -    0s\n",
      "     0     0   20.24000    0  344          -   20.24000      -     -    1s\n",
      "     0     0   20.24000    0  310          -   20.24000      -     -    1s\n",
      "     0     0   20.42454    0  378          -   20.42454      -     -    2s\n",
      "     0     0   20.42454    0  302          -   20.42454      -     -    2s\n",
      "     0     0   20.42454    0  428          -   20.42454      -     -    3s\n",
      "     0     0   20.42454    0  278          -   20.42454      -     -    3s\n",
      "     0     0   20.42454    0  336          -   20.42454      -     -    3s\n",
      "     0     0   20.43016    0  336          -   20.43016      -     -    3s\n",
      "     0     0   20.83724    0  460          -   20.83724      -     -    3s\n",
      "     0     0   20.88355    0  577          -   20.88355      -     -    3s\n",
      "     0     0   20.89796    0  542          -   20.89796      -     -    3s\n",
      "     0     0   20.89920    0  604          -   20.89920      -     -    3s\n",
      "     0     0   20.89920    0  604          -   20.89920      -     -    4s\n",
      "     0     0   21.21902    0  404          -   21.21902      -     -    4s\n",
      "     0     0   21.23568    0  374          -   21.23568      -     -    4s\n",
      "     0     0   21.25769    0  467          -   21.25769      -     -    4s\n",
      "     0     0   21.26812    0  469          -   21.26812      -     -    4s\n",
      "     0     0   21.94360    0  628          -   21.94360      -     -    5s\n",
      "     0     0   21.97571    0  603          -   21.97571      -     -    5s\n",
      "     0     0   21.98009    0  669          -   21.98009      -     -    5s\n",
      "     0     0   21.98284    0  632          -   21.98284      -     -    5s\n",
      "     0     0   22.01356    0  640          -   22.01356      -     -    5s\n",
      "     0     0   22.01517    0  667          -   22.01517      -     -    5s\n",
      "     0     0   22.01526    0  669          -   22.01526      -     -    5s\n",
      "     0     0   22.04387    0  663          -   22.04387      -     -    5s\n",
      "     0     0   22.05100    0  666          -   22.05100      -     -    5s\n",
      "     0     0   22.05145    0  663          -   22.05145      -     -    6s\n",
      "     0     0   23.16490    0  631          -   23.16490      -     -    6s\n",
      "     0     0   23.16490    0  598          -   23.16490      -     -    6s\n",
      "     0     0   23.16490    0  573          -   23.16490      -     -    6s\n",
      "     0     0   23.16490    0  573          -   23.16490      -     -    6s\n",
      "     0     0   23.16490    0  691          -   23.16490      -     -    6s\n",
      "     0     0   23.16490    0  691          -   23.16490      -     -    6s\n",
      "     0     0   23.16490    0  691          -   23.16490      -     -    6s\n",
      "     0     0   23.16490    0  674          -   23.16490      -     -    6s\n",
      "     0     0   23.16490    0  673          -   23.16490      -     -    6s\n",
      "     0     0   23.16490    0  665          -   23.16490      -     -    6s\n",
      "     0     0   23.16490    0  691          -   23.16490      -     -    6s\n",
      "     0     0   23.16490    0  700          -   23.16490      -     -    6s\n",
      "     0     0   23.16490    0  674          -   23.16490      -     -    6s\n",
      "     0     0   23.16490    0  703          -   23.16490      -     -    6s\n",
      "     0     0   23.17063    0  644          -   23.17063      -     -    6s\n",
      "     0     0   23.17063    0  648          -   23.17063      -     -    6s\n",
      "     0     0   23.17063    0  651          -   23.17063      -     -    6s\n",
      "     0     0   23.17063    0  701          -   23.17063      -     -    6s\n",
      "     0     0   23.17063    0  701          -   23.17063      -     -    7s\n",
      "     0     2   23.17063    0  701          -   23.17063      -     -    7s\n",
      "   109   106   33.40252   15  345          -   23.82367      -   331   10s\n",
      "*  932   399              39      39.9200000   24.82322  37.8%   157   14s\n",
      "  1058   409   39.84130   18  378   39.92000   25.38180  36.4%   154   17s\n",
      "  1071   419   26.41135   13  222   39.92000   25.38180  36.4%   157   20s\n",
      "  1164   479   26.23167   32  279   39.92000   25.80023  35.4%   174   25s\n",
      "  1492   585   30.41414   47  242   39.92000   25.80023  35.4%   188   30s\n",
      "  1853   724   36.45749   64  267   39.92000   25.80023  35.4%   186   35s\n",
      "  2623   940 infeasible   60        39.92000   27.17200  31.9%   183   40s\n",
      "  3572  1284   32.10667   38  250   39.92000   27.72125  30.6%   177   45s\n",
      "* 3720  1312              38      39.2000000   27.78866  29.1%   177   45s\n",
      "  4213  1503     cutoff   49        39.20000   27.90251  28.8%   177   51s\n",
      "H 4335  1459                      38.3600000   27.97552  27.1%   176   51s\n",
      "  4906  1657   31.86494   37  266   38.36000   28.16856  26.6%   175   57s\n",
      "  5319  1865   37.78669   48  300   38.36000   28.30592  26.2%   176   60s\n",
      "  6149  2195 infeasible   46        38.36000   28.59215  25.5%   174   65s\n",
      "  7155  2501   31.15771   40  256   38.36000   28.75872  25.0%   173   71s\n",
      "  7457  2517   33.22612   42  276   38.36000   28.77387  25.0%   172   76s\n",
      "* 7588  2586              60      38.2000000   28.80729  24.6%   171   77s\n",
      "  8129  2787   29.82830   44  282   38.20000   28.88033  24.4%   170   81s\n",
      "  9098  3125   31.61510   46  335   38.20000   29.02708  24.0%   170   87s\n",
      "  9752  3335   33.33784   51  312   38.20000   29.09772  23.8%   170   90s\n",
      " 10495  3601     cutoff   50        38.20000   29.20191  23.6%   170   95s\n",
      " 11731  4003   37.88759   49  319   38.20000   29.34415  23.2%   170  102s\n",
      " 12709  4300   36.95000   40  254   38.20000   29.47339  22.8%   169  108s\n",
      " 13164  4449   37.85899   50  337   38.20000   29.52711  22.7%   170  112s\n",
      " 13650  4612   31.39922   35  269   38.20000   29.58000  22.6%   170  115s\n",
      "*14826  4727              47      38.1600000   29.66702  22.3%   169  118s\n",
      " 14836  4893   36.02408   44  294   38.16000   29.68127  22.2%   169  122s\n",
      " 15455  5045   32.93944   47  347   38.16000   29.74339  22.1%   168  126s\n",
      "H15849  5039                      38.1200000   29.76450  21.9%   168  126s\n",
      " 16058  5214 infeasible   46        38.12000   29.80837  21.8%   168  130s\n",
      " 17412  5567 infeasible   58        38.12000   29.94124  21.5%   167  137s\n",
      " 18137  5755   31.01580   42  304   38.12000   29.99742  21.3%   167  141s\n",
      "*18584  5520              57      37.3200000   30.00192  19.6%   167  141s\n",
      " 18857  5625   35.79000   45  206   37.32000   30.04055  19.5%   167  145s\n",
      " 19596  5748   30.97798   48  367   37.32000   30.12481  19.3%   166  150s\n",
      " 20369  5861   36.25398   45  281   37.32000   30.17261  19.2%   166  155s\n",
      " 20999  5992   32.73695   37  251   37.32000   30.19714  19.1%   166  160s\n",
      " 22664  6353   32.89452   42  281   37.32000   30.33008  18.7%   165  169s\n",
      " 23559  6492 infeasible   48        37.32000   30.39515  18.6%   165  173s\n",
      " 24356  6631     cutoff   44        37.32000   30.45264  18.4%   164  177s\n",
      " 25192  6798   32.74739   48  215   37.32000   30.48775  18.3%   164  181s\n",
      " 26038  6942   35.77778   44  337   37.32000   30.55372  18.1%   164  185s\n",
      " 26849  7074   35.07674   55  193   37.32000   30.61611  18.0%   163  190s\n",
      " 28598  7421   35.76614   45  228   37.32000   30.76468  17.6%   163  198s\n",
      " 29402  7422   35.54223   54  378   37.32000   30.81669  17.4%   162  249s\n",
      " 29404  7423   34.00500   37  222   37.32000   30.81669  17.4%   162  250s\n",
      " 29411  7428   31.39869   39  262   37.32000   30.81669  17.4%   162  256s\n"
     ]
    },
    {
     "name": "stdout",
     "output_type": "stream",
     "text": [
      " 29414  7430   34.52007   44  262   37.32000   30.81669  17.4%   162  260s\n",
      " 29416  7434   30.81669   36  409   37.32000   30.81669  17.4%   162  272s\n",
      " 29418  7437   30.81669   37  397   37.32000   30.81669  17.4%   163  283s\n",
      " 29422  7437   30.81669   38  372   37.32000   30.81669  17.4%   163  293s\n",
      " 29429  7441   30.81669   39  323   37.32000   30.81669  17.4%   163  297s\n",
      " 29445  7450   30.81669   40  260   37.32000   30.81669  17.4%   163  300s\n",
      " 29484  7474   32.36265   43  284   37.32000   30.81669  17.4%   163  305s\n",
      " 29622  7491   30.81669   47  268   37.32000   30.81669  17.4%   163  310s\n",
      " 29880  7523   30.81669   43  255   37.32000   30.81669  17.4%   164  316s\n",
      " 29996  7536   36.86000   50  202   37.32000   30.81669  17.4%   164  321s\n",
      " 30401  7630   35.37959   60  308   37.32000   30.81669  17.4%   164  325s\n",
      " 31125  7663   30.96667   50  315   37.32000   30.81669  17.4%   165  330s\n",
      " 31933  7709   34.82816   48  188   37.32000   30.81669  17.4%   165  335s\n",
      " 32539  7729   34.15200   52  268   37.32000   30.81669  17.4%   165  340s\n",
      "*33222  7201              54      36.3600000   30.81669  15.2%   166  343s\n",
      " 33423  7205   30.81669   51  352   36.36000   30.81669  15.2%   166  346s\n",
      " 33672  7203   36.30369   68  329   36.36000   30.81669  15.2%   166  351s\n",
      " 34329  7171   33.88606   53  375   36.36000   30.81669  15.2%   167  355s\n",
      " 35491  7091 infeasible   61        36.36000   30.81669  15.2%   167  361s\n",
      " 36345  7005   35.46667   62  373   36.36000   30.81669  15.2%   167  366s\n",
      " 37429  6934   35.48667   59  234   36.36000   30.94211  14.9%   167  372s\n",
      " 38246  6850   32.47333   51  280   36.36000   31.10671  14.4%   167  375s\n",
      " 39216  6691     cutoff   55        36.36000   31.30000  13.9%   166  380s\n",
      " 40113  6610   33.50400   55  310   36.36000   31.41457  13.6%   166  385s\n",
      " 40746  6506   35.70800   47  292   36.36000   31.49420  13.4%   167  390s\n",
      " 41834  6369   33.27935   50  340   36.36000   31.61833  13.0%   167  395s\n",
      " 42948  6238   34.67335   54  263   36.36000   31.73333  12.7%   166  401s\n",
      " 44246  6062   35.87287   54  172   36.36000   31.84000  12.4%   166  408s\n",
      " 44929  5961   34.63000   47  194   36.36000   31.90421  12.3%   166  412s\n",
      " 45578  5850   33.71970   46  384   36.36000   31.95512  12.1%   166  416s\n",
      " 47020  5555   32.68000   56  421   36.36000   32.10262  11.7%   165  428s\n",
      " 47063  5681   34.39167   58  373   36.36000   32.10279  11.7%   165  431s\n",
      " 47938  5537   34.64000   50  328   36.36000   32.16800  11.5%   165  436s\n",
      " 48813  5341   34.45362   70  242   36.36000   32.22242  11.4%   164  440s\n",
      " 50412  5037     cutoff   58        36.36000   32.32701  11.1%   164  448s\n",
      " 51300  5071   34.56000   53  257   36.36000   32.38182  10.9%   164  453s\n",
      " 52026  5228   34.53315   54  302   36.36000   32.43907  10.8%   164  458s\n",
      " 52947  5385   33.75231   59  378   36.36000   32.47337  10.7%   164  462s\n",
      " 53850  5540   34.93244   58  460   36.36000   32.54000  10.5%   163  467s\n",
      " 54654  5709   33.92000   57  287   36.36000   32.59278  10.4%   163  471s\n",
      " 55671  5753     cutoff   53        36.36000   32.63592  10.2%   163  478s\n",
      " 55997  5911   35.56000   51  301   36.36000   32.64000  10.2%   163  483s\n",
      " 57009  5993   33.64505   50  311   36.36000   32.70000  10.1%   162  488s\n",
      " 57826  6125   32.86013   54  405   36.36000   32.73641  10.0%   162  492s\n",
      " 58690  6245   35.55534   57  219   36.36000   32.77583  9.86%   162  496s\n",
      " 59666  6285   33.78615   54  330   36.36000   32.82000  9.74%   161  500s\n",
      " 59882  6415   34.89386   52  294   36.36000   32.82667  9.72%   161  505s\n",
      " 61697  6593   35.74667   55  322   36.36000   32.90000  9.52%   161  513s\n",
      " 62570  6690   35.06466   51  315   36.36000   32.93855  9.41%   161  518s\n",
      " 63441  6752   35.59028   62  335   36.36000   32.97602  9.31%   160  522s\n",
      " 64326  6835 infeasible   57        36.36000   33.00645  9.22%   160  526s\n",
      " 65020  6928     cutoff   62        36.36000   33.04000  9.13%   160  530s\n",
      " 66757  7129     cutoff   62        36.36000   33.08000  9.02%   160  538s\n",
      " 67644  7251   34.72545   56  371   36.36000   33.12005  8.91%   159  542s\n",
      " 68579  7346     cutoff   54        36.36000   33.15283  8.82%   159  546s\n",
      " 69485  7455   34.18002   59  385   36.36000   33.18404  8.73%   158  550s\n",
      " 71192  7611     cutoff   54        36.36000   33.24123  8.58%   158  558s\n",
      " 72075  7698     cutoff   58        36.36000   33.28203  8.47%   158  564s\n",
      " 72918  7791   35.97455   52  233   36.36000   33.31067  8.39%   157  568s\n",
      " 73797  7813 infeasible   65        36.36000   33.33379  8.32%   157  572s\n",
      " 74153  7903   35.86000   62  208   36.36000   33.35200  8.27%   157  576s\n",
      " 75077  7995 infeasible   58        36.36000   33.38689  8.18%   157  580s\n",
      " 76772  8129   34.91411   54  203   36.36000   33.44000  8.03%   156  588s\n",
      " 77721  8165 infeasible   56        36.36000   33.46400  7.96%   156  592s\n",
      " 78497  8242 infeasible   57        36.36000   33.49524  7.88%   156  596s\n",
      " 79361  8271   35.71154   55  349   36.36000   33.52000  7.81%   155  606s\n",
      "H79661  8149                      36.2000000   33.52949  7.38%   155  606s\n",
      " 79671  8169     cutoff   54        36.20000   33.53333  7.37%   155  610s\n",
      " 81291  8205   34.82400   58  311   36.20000   33.59556  7.19%   155  618s\n",
      " 82115  8225   34.24959   53  371   36.20000   33.62057  7.13%   155  622s\n",
      " 82882  8251     cutoff   52        36.20000   33.65000  7.04%   155  625s\n",
      " 84663  8291     cutoff   53        36.20000   33.71506  6.86%   154  633s\n",
      "H85048  8039                      36.0000000   33.71934  6.34%   154  633s\n",
      " 85543  8008     cutoff   65        36.00000   33.75091  6.25%   154  637s\n",
      " 86294  8023   35.69941   63  420   36.00000   33.77326  6.19%   154  641s\n",
      " 87215  8005   34.28930   51  308   36.00000   33.80645  6.09%   154  645s\n",
      " 88962  7959     cutoff   63        36.00000   33.87167  5.91%   153  653s\n",
      " 89875  7957   35.05828   55  250   36.00000   33.89608  5.84%   153  659s\n",
      " 90272  7944     cutoff   60        36.00000   33.91971  5.78%   153  663s\n",
      " 91143  7923   34.23248   54  305   36.00000   33.96000  5.67%   153  666s\n",
      " 92064  7895     cutoff   52        36.00000   33.98667  5.59%   152  670s\n",
      " 93807  7862   35.64920   59  175   36.00000   34.04584  5.43%   152  679s\n",
      " 94744  7816     cutoff   61        36.00000   34.08933  5.31%   152  683s\n",
      " 95700  7744     cutoff   57        36.00000   34.12733  5.20%   151  686s\n",
      " 96519  7715   35.88267   55  330   36.00000   34.16222  5.10%   151  690s\n",
      " 98236  7559 infeasible   55        36.00000   34.22919  4.92%   151  698s\n",
      " 99104  7528     cutoff   65        36.00000   34.26913  4.81%   150  702s\n",
      " 99967  7493     cutoff   60        36.00000   34.29337  4.74%   150  706s\n",
      " 100822  7445   35.14050   48  319   36.00000   34.32000  4.67%   150  710s\n",
      " 102607  7327   35.39324   55  271   36.00000   34.38000  4.50%   149  717s\n",
      " 103538  7261     cutoff   62        36.00000   34.40572  4.43%   149  720s\n",
      " 105378  7091     cutoff   59        36.00000   34.46105  4.27%   148  727s\n",
      " 106213  6938   35.56429   56  299   36.00000   34.48891  4.20%   148  731s\n",
      " 107979  6708   35.13099   55  242   36.00000   34.56444  3.99%   148  738s\n",
      " 108884  6596     cutoff   46        36.00000   34.59100  3.91%   147  741s\n",
      " 109784  6481     cutoff   57        36.00000   34.62252  3.83%   147  745s\n",
      " 111538  6146   35.94588   61  415   36.00000   34.68410  3.66%   146  752s\n",
      " 112384  5971 infeasible   58        36.00000   34.73039  3.53%   146  755s\n",
      " 114156  5628     cutoff   49        36.00000   34.79333  3.35%   145  762s\n",
      " 115124  5421     cutoff   61        36.00000   34.85350  3.18%   145  765s\n",
      " 116867  4985   35.71185   63  288   36.00000   34.94293  2.94%   144  772s\n",
      " 117782  4695     cutoff   58        36.00000   34.98393  2.82%   144  775s\n",
      " 119644  4051 infeasible   57        36.00000   35.08370  2.55%   143  782s\n",
      " 120718  3653     cutoff   52        36.00000   35.12877  2.42%   143  785s\n",
      " 122653  2675   35.76021   50  410   36.00000   35.26688  2.04%   142  791s\n",
      " 124768  1361     cutoff   58        36.00000   35.46400  1.49%   141  796s\n",
      "\n",
      "Cutting planes:\n",
      "  Learned: 5\n",
      "  Gomory: 43\n",
      "  Implied bound: 291\n",
      "  MIR: 52\n",
      "  StrongCG: 1\n",
      "  Flow cover: 1617\n",
      "  Inf proof: 220\n",
      "  Zero half: 247\n",
      "  RLT: 62\n",
      "  Relax-and-lift: 80\n",
      "\n",
      "Explored 127514 nodes (17702438 simplex iterations) in 799.20 seconds\n"
     ]
    },
    {
     "name": "stdout",
     "output_type": "stream",
     "text": [
      "Thread count was 8 (of 8 available processors)\n",
      "\n",
      "Solution count 10: 36 36.2 36.36 ... 39.92\n",
      "\n",
      "Optimal solution found (tolerance 1.00e-03)\n",
      "Best objective 3.599999999691e+01, best bound 3.599999999691e+01, gap 0.0000%\n"
     ]
    }
   ],
   "source": [
    "twostage, t = Mod2()"
   ]
  },
  {
   "cell_type": "markdown",
   "metadata": {},
   "source": [
    "for model in lshaped.submodel.values():\n",
    "    print(model.relaxmod.status)\n",
    "lshaped.submodel[1].relaxmod.computeIIS()\n",
    "lshaped.submodel[1].relaxmod.write('./Reports/IIS/Infeasible.ilp')"
   ]
  },
  {
   "cell_type": "code",
   "execution_count": 10,
   "metadata": {},
   "outputs": [
    {
     "data": {
      "image/png": "[encoded data removed]",
      "text/plain": [
       "<Figure size 432x288 with 1 Axes>"
      ]
     },
     "metadata": {
      "needs_background": "light"
     },
     "output_type": "display_data"
    },
    {
     "data": {
      "text/plain": [
       "({0: (8.03175786801889, 6.385563261004748),\n",
       "  1: (9.884391291875286, 1.0547632324240919),\n",
       "  2: (5.720383270142763, 0.25601762778477144),\n",
       "  3: (2.662929707430531, 7.320719714750375),\n",
       "  4: (8.861828521878833, 8.66896243738729),\n",
       "  5: (9.652691924332323, 3.6413895324157486),\n",
       "  6: (4.367865627198975, 3.531038304371805),\n",
       "  7: (2.1948605771432863, 4.603991384233213),\n",
       "  8: (6.830780418445613, 2.4407941850230843),\n",
       "  9: (3.242839969210128, 3.0497813888806924),\n",
       "  10: (1.1726440304268293, 8.486123067054907),\n",
       "  11: (8.03175786801889, 6.385563261004748)},\n",
       " {0: [(7, 3),\n",
       "   (1, 6),\n",
       "   (10, 8),\n",
       "   (0, 4),\n",
       "   (4, 5),\n",
       "   (5, 1),\n",
       "   (9, 7),\n",
       "   (6, 2),\n",
       "   (3, 10),\n",
       "   (2, 9),\n",
       "   (8, 0)]})"
      ]
     },
     "execution_count": 10,
     "metadata": {},
     "output_type": "execute_result"
    }
   ],
   "source": [
    "nodes = mappy.node\n",
    "edges = {k:[] for k in range(twostage.bus)}\n",
    "for i, j in twostage.parameters.edges:\n",
    "    for k in range(twostage.bus):\n",
    "        if twostage.MP.variables.x[i,j,k].X > 0.5:\n",
    "            if j != twostage.last:\n",
    "                edges[k].append((i,j))\n",
    "            else:\n",
    "                edges[k].append((i,0))\n",
    "\n",
    "objtwosp = twostage.model.ObjVal\n",
    "displaygraph(nodes, edges,'Two-Stage')\n",
    "nodes,edges"
   ]
  },
  {
   "cell_type": "code",
   "execution_count": 14,
   "metadata": {},
   "outputs": [
    {
     "data": {
      "text/plain": [
       "2"
      ]
     },
     "execution_count": 14,
     "metadata": {},
     "output_type": "execute_result"
    }
   ],
   "source": [
    "twostage.model.status"
   ]
  }
 ],
 "metadata": {
  "kernelspec": {
   "display_name": "Python 3",
   "language": "python",
   "name": "python3"
  },
  "language_info": {
   "codemirror_mode": {
    "name": "ipython",
    "version": 3
   },
   "file_extension": ".py",
   "mimetype": "text/x-python",
   "name": "python",
   "nbconvert_exporter": "python",
   "pygments_lexer": "ipython3",
   "version": "3.7.7"
  }
 },
 "nbformat": 4,
 "nbformat_minor": 2
}
