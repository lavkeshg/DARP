{
 "cells": [
  {
   "cell_type": "code",
   "execution_count": 1,
   "metadata": {},
   "outputs": [],
   "source": [
    "import os\n",
    "os.chdir(os.path.dirname(os.getcwd()))"
   ]
  },
  {
   "cell_type": "code",
   "execution_count": 2,
   "metadata": {},
   "outputs": [],
   "source": [
    "from Map import Map\n",
    "from Tabu import Tabu\n",
    "from TwoStage import TwoStage\n",
    "from L_shaped import MasterProblem as mp\n",
    "import matplotlib.pyplot as plt\n",
    "import matplotlib.pylab as pl \n",
    "import matplotlib.cm as cm\n",
    "import time\n",
    "import networkx as nx\n",
    "import matplotlib as mpl\n",
    "from gurobipy import *\n",
    "import csv"
   ]
  },
  {
   "cell_type": "markdown",
   "metadata": {},
   "source": [
    "**Modelling Parameters**"
   ]
  },
  {
   "cell_type": "code",
   "execution_count": 3,
   "metadata": {},
   "outputs": [],
   "source": [
    "rides = 5\n",
    "bus = 1\n",
    "scenarios = 25\n",
    "MIPGap = 0.001\n",
    "TimeLimit = 18000\n",
    "probability = [0.7, 0.1, 0.15, 0.05]"
   ]
  },
  {
   "cell_type": "markdown",
   "metadata": {},
   "source": [
    "**Defining the Map**"
   ]
  },
  {
   "cell_type": "code",
   "execution_count": 4,
   "metadata": {},
   "outputs": [],
   "source": [
    "mappy = Map(rides)"
   ]
  },
  {
   "cell_type": "markdown",
   "metadata": {},
   "source": [
    "**Plotting Functions**"
   ]
  },
  {
   "cell_type": "code",
   "execution_count": 5,
   "metadata": {},
   "outputs": [],
   "source": [
    "def plot_trend(ub,lb,base):\n",
    "    x = list(range(len(ub)))\n",
    "    figure = plt.figure()\n",
    "    plt.plot(x,ub,label='upper-bound')\n",
    "    plt.plot(x,[base]*len(ub),label='two-stage')\n",
    "    plt.plot(x,lb,label='lower-bound')\n",
    "    plt.annotate(int(ub[-1]),[x[-1],ub[-1]])\n",
    "    plt.legend()\n",
    "    plt.savefig('./figures/trend.png')\n",
    "    plt.show()\n",
    "\n",
    "colors = ['green','blue','yellow','red','pink'] \n",
    "def displaygraph(n, e, modname):\n",
    "    for k in e.keys():\n",
    "        for i, j in e[k]:\n",
    "            plt.plot((n[i][0],n[j][0]),(n[i][1],n[j][1]), color=colors[k] ,marker='o', linewidth=2, linestyle='dashed')\n",
    "    for i in n:\n",
    "        plt.annotate(i,n[i],textcoords=\"offset points\",xytext=(0,10),ha='center')\n",
    "    plt.savefig('./figures/'+modname+'.png')\n",
    "    plt.show()\n"
   ]
  },
  {
   "cell_type": "markdown",
   "metadata": {},
   "source": [
    "#### Model formulation"
   ]
  },
  {
   "cell_type": "code",
   "execution_count": 6,
   "metadata": {},
   "outputs": [],
   "source": [
    "def Mod1(aux=False):\n",
    "    t1 = time.time()\n",
    "    drpstw = mp(mappy,bus=bus,scenarios=scenarios, probability=probability)\n",
    "    drpstw.initialize()\n",
    "    drpstw.setMIP()\n",
    "    drpstw.variables.th.obj=0\n",
    "    if aux:\n",
    "        drpstw.setLowerBound()\n",
    "        for s in range(drpstw.scenarios):\n",
    "            drpstw.submodel[s].model.params.MIPGap = MIPGap\n",
    "#             drpstw.submodel[s].model.params.OutputFlag = 1\n",
    "    else:\n",
    "        drpstw.model.params.TimeLimit = TimeLimit\n",
    "        drpstw.model.optimize()\n",
    "    t1 = time.time() - t1\n",
    "    return drpstw, t1"
   ]
  },
  {
   "cell_type": "code",
   "execution_count": 7,
   "metadata": {},
   "outputs": [],
   "source": [
    "def Mod2(model=None):\n",
    "    t2 = time.time()\n",
    "    twosp = TwoStage(mappy, bus=bus, scenarios=scenarios, probability=probability)\n",
    "    twosp.model.params.TimeLimit = TimeLimit\n",
    "    if model is not None:\n",
    "        for i,j,k in twosp.MP.variables.x.keys():\n",
    "            twosp.MP.variables.x[i,j,k].start = model.variables.x[i,j,k].X\n",
    "    twosp.optimize()\n",
    "    t2 = time.time() - t2\n",
    "    return twosp, t2"
   ]
  },
  {
   "cell_type": "code",
   "execution_count": 8,
   "metadata": {
    "scrolled": true
   },
   "outputs": [],
   "source": [
    "def Mod3():\n",
    "    t3 = time.time()\n",
    "    lshaped = mp(mappy, bus=bus, scenarios=scenarios, probability=probability)\n",
    "    lshaped.initialize()\n",
    "    lshaped.model.params.TimeLimit = TimeLimit\n",
    "    lshaped.optimize()\n",
    "    t3 = time.time() - t3\n",
    "    return lshaped, t3"
   ]
  },
  {
   "cell_type": "code",
   "execution_count": 9,
   "metadata": {},
   "outputs": [],
   "source": [
    "def Mod4(lshaped):\n",
    "    t4 = time.time()\n",
    "    tabu = Tabu(lshaped,tabu_iterations=200, tabu_status=10, subset=10, tsp=False)\n",
    "    tabu.tsp = True\n",
    "    tabu.tabuheuristic()\n",
    "    t4 = time.time() - t4\n",
    "    return tabu, t4"
   ]
  },
  {
   "cell_type": "code",
   "execution_count": 10,
   "metadata": {},
   "outputs": [],
   "source": [
    "def Mod5(lshaped):\n",
    "    t5 = time.time()\n",
    "    tabutsp = Tabu(lshaped,tabu_itcerations=100, subset=10, tsp=True)\n",
    "    tabutsp.tabuheuristic()\n",
    "    t5 = time.time() - t5\n",
    "    return tabutsp, t5"
   ]
  },
  {
   "cell_type": "markdown",
   "metadata": {},
   "source": [
    "### Test Block"
   ]
  },
  {
   "cell_type": "code",
   "execution_count": 11,
   "metadata": {},
   "outputs": [
    {
     "name": "stdout",
     "output_type": "stream",
     "text": [
      "Using license file C:\\Users\\lavkeshg\\gurobi.lic\n",
      "Academic license - for non-commercial use only\n",
      "Changed value of parameter NodefileStart to 0.5\n",
      "   Prev: inf  Min: 0.0  Max: inf  Default: inf\n",
      "Changed value of parameter TimeLimit to 18000.0\n",
      "   Prev: inf  Min: 0.0  Max: inf  Default: inf\n",
      "Gurobi Optimizer version 9.0.2 build v9.0.2rc0 (win64)\n",
      "Optimize a model with 2624 rows, 1570 columns and 10138 nonzeros\n",
      "Model fingerprint: 0xe0068029\n",
      "Variable types: 624 continuous, 946 integer (946 binary)\n",
      "Coefficient statistics:\n",
      "  Matrix range     [1e+00, 1e+05]\n",
      "  Objective range  [1e-16, 7e-01]\n",
      "  Bounds range     [1e+00, 9e+02]\n",
      "  RHS range        [1e+00, 1e+05]\n",
      "Presolve removed 493 rows and 548 columns\n",
      "Presolve time: 0.04s\n",
      "Presolved: 2131 rows, 1022 columns, 7788 nonzeros\n",
      "Variable types: 422 continuous, 600 integer (600 binary)\n",
      "\n",
      "Root relaxation: objective 1.480000e+01, 655 iterations, 0.02 seconds\n",
      "\n",
      "    Nodes    |    Current Node    |     Objective Bounds      |     Work\n",
      " Expl Unexpl |  Obj  Depth IntInf | Incumbent    BestBd   Gap | It/Node Time\n",
      "\n",
      "     0     0   14.80000    0  122          -   14.80000      -     -    0s\n",
      "     0     0   15.20833    0  124          -   15.20833      -     -    0s\n",
      "     0     0   16.06667    0  114          -   16.06667      -     -    0s\n",
      "     0     0   16.07037    0  144          -   16.07037      -     -    0s\n",
      "     0     0   16.29437    0  192          -   16.29437      -     -    0s\n",
      "     0     0   16.29437    0  192          -   16.29437      -     -    0s\n",
      "H    0     0                      31.0309426   16.85000  45.7%     -    0s\n",
      "     0     0   17.25398    0  284   31.03094   17.25398  44.4%     -    0s\n",
      "H    0     0                      29.9000000   17.25398  42.3%     -    0s\n",
      "     0     0   17.25398    0  284   29.90000   17.25398  42.3%     -    0s\n",
      "     0     0   19.50000    0  234   29.90000   19.50000  34.8%     -    0s\n",
      "     0     0   20.40015    0  231   29.90000   20.40015  31.8%     -    0s\n",
      "     0     0   20.40029    0  231   29.90000   20.40029  31.8%     -    0s\n",
      "     0     0   21.10000    0  267   29.90000   21.10000  29.4%     -    0s\n",
      "     0     0   21.83333    0  265   29.90000   21.83333  27.0%     -    0s\n",
      "     0     0   22.00000    0  289   29.90000   22.00000  26.4%     -    0s\n",
      "     0     0   22.80000    0  306   29.90000   22.80000  23.7%     -    0s\n",
      "H    0     0                      27.0309426   22.90024  15.3%     -    0s\n",
      "     0     0   22.90024    0  294   27.03094   22.90024  15.3%     -    0s\n",
      "     0     0   24.60225    0  227   27.03094   24.60225  8.98%     -    0s\n",
      "     0     0   27.03094    0  202   27.03094   27.03094  0.00%     -    0s\n",
      "\n",
      "Cutting planes:\n",
      "  Implied bound: 12\n",
      "  MIR: 6\n",
      "  Zero half: 29\n",
      "  RLT: 32\n",
      "  Relax-and-lift: 8\n",
      "\n",
      "Explored 1 nodes (1964 simplex iterations) in 0.78 seconds\n",
      "Thread count was 8 (of 8 available processors)\n",
      "\n",
      "Solution count 3: 27.0309 29.9 31.0309 \n",
      "\n",
      "Optimal solution found (tolerance 1.00e-04)\n",
      "Best objective 2.703094264427e+01, best bound 2.703094264427e+01, gap 0.0000%\n",
      "Changed value of parameter lazyConstraints to 1\n",
      "   Prev: 0  Min: 0  Max: 1  Default: 0\n",
      "Changed value of parameter NodefileStart to 0.5\n",
      "   Prev: inf  Min: 0.0  Max: inf  Default: inf\n",
      "Changed value of parameter Presolve to 2\n",
      "   Prev: -1  Min: -1  Max: 2  Default: -1\n",
      "Changed value of parameter MIPFocus to 2\n",
      "   Prev: 0  Min: 0  Max: 3  Default: 0\n",
      "Parameter Heuristics unchanged\n",
      "   Value: 0.05  Min: 0.0  Max: 1.0  Default: 0.05\n",
      "Changed value of parameter TimeLimit to 18000.0\n",
      "   Prev: inf  Min: 0.0  Max: inf  Default: inf\n",
      "-39.037759601242215 -9.727790000000008\n",
      "29.30996960124245 2.4158453015843406e-13\n",
      "-29.21186938383471 -5.674074264581029\n",
      "26.573185378064778 3.0353902588110984\n",
      "-29.873982007602358 -6.9885899999999985\n",
      "25.924316132609516 3.0389241250071564\n",
      "-23.4834830985983 -9.713720000000002\n",
      "19.07342167021178 5.303658571613482\n",
      "-21.569140851779714 -6.250602983145288\n",
      "23.245652499247957 7.927114630613531\n",
      "-21.452730120521995 -6.312739999999996\n",
      "23.08488660029043 7.944896479768435\n",
      "-21.173040873842755 -7.318980000000004\n",
      "23.312426434136004 9.458365560293252\n",
      "-13.867425103385083 -6.5605100000000025\n",
      "17.84134584260822 10.534430739223142\n",
      "-15.616616769446146 -8.51271\n",
      "18.569036345121162 11.465129575675014\n",
      "-11.65306707224209 -6.410410000000001\n",
      "17.434063705227857 12.191406632985766\n",
      "-12.646578426155852 -6.975299999999997\n",
      "18.60980846539241 12.938530039236554\n",
      "-10.840200285894735 -5.498520000000003\n",
      "18.451923453248455 13.110243167353723\n",
      "-10.67287911825473 -6.578290000000003\n",
      "17.459086009101362 13.364496890846635\n",
      "-10.631097503504282 -5.728159999999999\n",
      "18.44559430209167 13.542656798587387\n",
      "-10.78013913495489 -6.237740000000003\n",
      "18.281267277739865 13.738868142784977\n",
      "-10.775797192591993 -7.015410000000001\n",
      "17.568613304994685 13.808226112402695\n",
      "-11.361441135233779 -6.998200000000004\n",
      "18.241348450629136 13.878107315395361\n",
      "-11.132603672406931 -7.393059999999998\n",
      "17.709929674346494 13.970386001939561\n",
      "-10.747898914125432 -8.134670000000002\n",
      "16.671358415879283 14.058129501753854\n",
      "-11.219937731749186 -7.648079999999996\n",
      "17.701173583510624 14.129315851761435\n",
      "-11.472936798014503 -8.448479999999998\n",
      "17.201436787459677 14.17697998944517\n",
      "-11.811429274202656 -7.344959999999999\n",
      "18.699319780045393 14.232850505842734\n",
      "-11.490924798623125 -8.126869999999997\n",
      "17.692021265412397 14.327966466789269\n",
      "-13.224334059363375 -9.37384\n",
      "18.267350109863337 14.416856050499963\n",
      "-11.072951720077384 -8.395460000000002\n",
      "17.16705408398861 14.489562363911226\n",
      "-9.381720919681865 -7.528950000000001\n",
      "16.36472992151741 14.511959001835546\n",
      "-9.620127422355393 -7.547519999999997\n",
      "16.63218784741398 14.559580425058586\n",
      "-8.824176299482232 -7.468590000000001\n",
      "15.998193500225662 14.64260720074343\n",
      "-8.020571962725112 -6.997990000000001\n",
      "15.694633947957445 14.672051985232335\n",
      "-8.204539576293849 -7.489470000000003\n",
      "15.403943817355337 14.688874241061493\n",
      "-8.814163755357336 -7.355719999999999\n",
      "16.18032997472096 14.72188621936362\n",
      "-8.550089560149756 -7.421140000000002\n",
      "15.888225845123205 14.759276284973451\n",
      "-8.927971355425788 -7.86698\n",
      "15.848561718809313 14.787570363383525\n",
      "-7.201939016877318 -7.202020000000002\n",
      "14.799740562329529 14.799821545452211\n",
      "Changed value of parameter OutputFlag to 1\n",
      "   Prev: 0  Min: 0  Max: 1  Default: 1\n",
      "Gurobi Optimizer version 9.0.2 build v9.0.2rc0 (win64)\n",
      "Optimize a model with 384 rows, 151 columns and 4181 nonzeros\n",
      "Model fingerprint: 0xed798132\n",
      "Variable types: 65 continuous, 86 integer (86 binary)\n",
      "Coefficient statistics:\n",
      "  Matrix range     [1e-01, 1e+03]\n",
      "  Objective range  [1e+00, 7e+00]\n",
      "  Bounds range     [1e+00, 1e+04]\n",
      "  RHS range        [2e-15, 1e+03]\n",
      "Presolve removed 34 rows and 2 columns\n",
      "Presolve time: 0.02s\n",
      "Presolved: 350 rows, 149 columns, 4130 nonzeros\n",
      "Variable types: 65 continuous, 84 integer (84 binary)\n",
      "Presolve removed 5 rows and 0 columns\n",
      "Presolved: 345 rows, 149 columns, 4070 nonzeros\n",
      "\n",
      "\n",
      "Root relaxation: objective 1.485486e+01, 254 iterations, 0.01 seconds\n",
      "\n",
      "    Nodes    |    Current Node    |     Objective Bounds      |     Work\n",
      " Expl Unexpl |  Obj  Depth IntInf | Incumbent    BestBd   Gap | It/Node Time\n",
      "\n",
      "     0     0   14.85486    0   39          -   14.85486      -     -    0s\n",
      "     0     0   15.30081    0   46          -   15.30081      -     -    0s\n",
      "H    0     0                      30.0000000   15.30081  49.0%     -    0s\n",
      "     0     0   18.14450    0   29   30.00000   18.14450  39.5%     -    0s\n",
      "     0     0   18.14450    0   29   30.00000   18.14450  39.5%     -    0s\n",
      "     0     0   21.35940    0   24   30.00000   21.35940  28.8%     -    0s\n",
      "H    0     0                      29.9000000   21.35940  28.6%     -    0s\n",
      "     0     0   21.56599    0   25   29.90000   21.56599  27.9%     -    0s\n",
      "     0     0   22.28254    0   25   29.90000   22.28254  25.5%     -    0s\n",
      "     0     0     cutoff    0        29.90000   29.90000  0.00%     -    0s\n",
      "\n",
      "Explored 1 nodes (635 simplex iterations) in 0.47 seconds\n",
      "Thread count was 8 (of 8 available processors)\n",
      "\n",
      "Solution count 2: 29.9 30 \n",
      "\n",
      "Optimal solution found (tolerance 1.00e-04)\n",
      "Best objective 2.990000000000e+01, best bound 2.990000000000e+01, gap 0.0000%\n",
      "\n",
      "User-callback calls 182, time in user-callback 0.26 sec\n",
      "Apprx = 29.900000\n",
      "ObjVal = 30.000000\n",
      "4  Integrality Cuts integrated into the model\n",
      "38  Sub-Gradient Cuts integrated into the model\n",
      "Building Initial Solution\n",
      "Starting Heuristic\n",
      "Neighborhood length: 3 (iteration 1)\n"
     ]
    },
    {
     "name": "stdout",
     "output_type": "stream",
     "text": [
      "39.92643388279794 666.5797929626212\n",
      "Neighborhood length: 3 (iteration 2)\n",
      "39.92643388279794 39.92643388279794\n",
      "Neighborhood length: 3 (iteration 3)\n",
      "39.92643388279794 39.92643388279794\n",
      "Neighborhood length: 3 (iteration 4)\n",
      "39.92643388279794 39.92643388279794\n",
      "Neighborhood length: 3 (iteration 5)\n",
      "39.92643388279794 39.92643388279794\n",
      "Neighborhood length: 3 (iteration 6)\n",
      "39.92643388279794 39.92643388279794\n",
      "Neighborhood length: 3 (iteration 7)\n"
     ]
    },
    {
     "ename": "KeyboardInterrupt",
     "evalue": "",
     "output_type": "error",
     "traceback": [
      "\u001b[1;31m---------------------------------------------------------------------------\u001b[0m",
      "\u001b[1;31mKeyboardInterrupt\u001b[0m                         Traceback (most recent call last)",
      "\u001b[1;32m<ipython-input-11-650dc1ffea73>\u001b[0m in \u001b[0;36m<module>\u001b[1;34m\u001b[0m\n\u001b[0;32m     46\u001b[0m             \u001b[1;31m#Tabu\u001b[0m\u001b[1;33m\u001b[0m\u001b[1;33m\u001b[0m\u001b[1;33m\u001b[0m\u001b[0m\n\u001b[0;32m     47\u001b[0m             \u001b[1;32mtry\u001b[0m\u001b[1;33m:\u001b[0m\u001b[1;33m\u001b[0m\u001b[1;33m\u001b[0m\u001b[0m\n\u001b[1;32m---> 48\u001b[1;33m                 \u001b[0mtabu\u001b[0m\u001b[1;33m,\u001b[0m \u001b[0mt3\u001b[0m \u001b[1;33m=\u001b[0m \u001b[0mMod4\u001b[0m\u001b[1;33m(\u001b[0m\u001b[0mlshaped\u001b[0m\u001b[1;33m)\u001b[0m\u001b[1;33m\u001b[0m\u001b[1;33m\u001b[0m\u001b[0m\n\u001b[0m\u001b[0;32m     49\u001b[0m                 \u001b[0mtabuobj\u001b[0m \u001b[1;33m=\u001b[0m \u001b[0mtabu\u001b[0m\u001b[1;33m.\u001b[0m\u001b[0mbest\u001b[0m\u001b[1;33m[\u001b[0m\u001b[1;33m-\u001b[0m\u001b[1;36m1\u001b[0m\u001b[1;33m]\u001b[0m\u001b[1;33m\u001b[0m\u001b[1;33m\u001b[0m\u001b[0m\n\u001b[0;32m     50\u001b[0m                 \u001b[0mtabusave\u001b[0m \u001b[1;33m=\u001b[0m \u001b[0mtabu\u001b[0m\u001b[1;33m.\u001b[0m\u001b[0mbest\u001b[0m\u001b[1;33m[\u001b[0m\u001b[1;33m-\u001b[0m\u001b[1;36m3\u001b[0m\u001b[1;33m]\u001b[0m\u001b[1;33m\u001b[0m\u001b[1;33m\u001b[0m\u001b[0m\n",
      "\u001b[1;32m<ipython-input-9-5d61e4a165a1>\u001b[0m in \u001b[0;36mMod4\u001b[1;34m(lshaped)\u001b[0m\n\u001b[0;32m      3\u001b[0m     \u001b[0mtabu\u001b[0m \u001b[1;33m=\u001b[0m \u001b[0mTabu\u001b[0m\u001b[1;33m(\u001b[0m\u001b[0mlshaped\u001b[0m\u001b[1;33m,\u001b[0m\u001b[0mtabu_iterations\u001b[0m\u001b[1;33m=\u001b[0m\u001b[1;36m200\u001b[0m\u001b[1;33m,\u001b[0m \u001b[0mtabu_status\u001b[0m\u001b[1;33m=\u001b[0m\u001b[1;36m10\u001b[0m\u001b[1;33m,\u001b[0m \u001b[0msubset\u001b[0m\u001b[1;33m=\u001b[0m\u001b[1;36m10\u001b[0m\u001b[1;33m,\u001b[0m \u001b[0mtsp\u001b[0m\u001b[1;33m=\u001b[0m\u001b[1;32mFalse\u001b[0m\u001b[1;33m)\u001b[0m\u001b[1;33m\u001b[0m\u001b[1;33m\u001b[0m\u001b[0m\n\u001b[0;32m      4\u001b[0m     \u001b[0mtabu\u001b[0m\u001b[1;33m.\u001b[0m\u001b[0mtsp\u001b[0m \u001b[1;33m=\u001b[0m \u001b[1;32mTrue\u001b[0m\u001b[1;33m\u001b[0m\u001b[1;33m\u001b[0m\u001b[0m\n\u001b[1;32m----> 5\u001b[1;33m     \u001b[0mtabu\u001b[0m\u001b[1;33m.\u001b[0m\u001b[0mtabuheuristic\u001b[0m\u001b[1;33m(\u001b[0m\u001b[1;33m)\u001b[0m\u001b[1;33m\u001b[0m\u001b[1;33m\u001b[0m\u001b[0m\n\u001b[0m\u001b[0;32m      6\u001b[0m     \u001b[0mt4\u001b[0m \u001b[1;33m=\u001b[0m \u001b[0mtime\u001b[0m\u001b[1;33m.\u001b[0m\u001b[0mtime\u001b[0m\u001b[1;33m(\u001b[0m\u001b[1;33m)\u001b[0m \u001b[1;33m-\u001b[0m \u001b[0mt4\u001b[0m\u001b[1;33m\u001b[0m\u001b[1;33m\u001b[0m\u001b[0m\n\u001b[0;32m      7\u001b[0m     \u001b[1;32mreturn\u001b[0m \u001b[0mtabu\u001b[0m\u001b[1;33m,\u001b[0m \u001b[0mt4\u001b[0m\u001b[1;33m\u001b[0m\u001b[1;33m\u001b[0m\u001b[0m\n",
      "\u001b[1;32m~\\PycharmProjects\\DARP\\Tabu.py\u001b[0m in \u001b[0;36mtabuheuristic\u001b[1;34m(self)\u001b[0m\n\u001b[0;32m     62\u001b[0m             \u001b[0mngbr\u001b[0m \u001b[1;33m=\u001b[0m \u001b[0mself\u001b[0m\u001b[1;33m.\u001b[0m\u001b[0mneighborhoodGen\u001b[0m\u001b[1;33m(\u001b[0m\u001b[1;33m)\u001b[0m\u001b[1;33m\u001b[0m\u001b[1;33m\u001b[0m\u001b[0m\n\u001b[0;32m     63\u001b[0m             \u001b[0mprint\u001b[0m\u001b[1;33m(\u001b[0m\u001b[1;34m'Neighborhood length: %d (iteration %d)'\u001b[0m \u001b[1;33m%\u001b[0m \u001b[1;33m(\u001b[0m\u001b[0mlen\u001b[0m\u001b[1;33m(\u001b[0m\u001b[0mngbr\u001b[0m\u001b[1;33m)\u001b[0m\u001b[1;33m,\u001b[0m \u001b[0miter\u001b[0m\u001b[1;33m+\u001b[0m\u001b[1;36m1\u001b[0m\u001b[1;33m)\u001b[0m\u001b[1;33m)\u001b[0m\u001b[1;33m\u001b[0m\u001b[1;33m\u001b[0m\u001b[0m\n\u001b[1;32m---> 64\u001b[1;33m             \u001b[1;33m[\u001b[0m\u001b[0mself\u001b[0m\u001b[1;33m.\u001b[0m\u001b[0msolutionEval\u001b[0m\u001b[1;33m(\u001b[0m\u001b[0mn\u001b[0m\u001b[1;33m)\u001b[0m \u001b[1;32mfor\u001b[0m \u001b[0mn\u001b[0m \u001b[1;32min\u001b[0m \u001b[0mngbr\u001b[0m\u001b[1;33m]\u001b[0m\u001b[1;33m\u001b[0m\u001b[1;33m\u001b[0m\u001b[0m\n\u001b[0m\u001b[0;32m     65\u001b[0m             \u001b[1;32mfor\u001b[0m \u001b[0mcandidate\u001b[0m \u001b[1;32min\u001b[0m \u001b[0mngbr\u001b[0m\u001b[1;33m:\u001b[0m\u001b[1;33m\u001b[0m\u001b[1;33m\u001b[0m\u001b[0m\n\u001b[0;32m     66\u001b[0m                 \u001b[1;32mif\u001b[0m \u001b[0mcandidate\u001b[0m\u001b[1;33m[\u001b[0m\u001b[1;33m-\u001b[0m\u001b[1;36m1\u001b[0m\u001b[1;33m]\u001b[0m \u001b[1;33m<\u001b[0m \u001b[0mself\u001b[0m\u001b[1;33m.\u001b[0m\u001b[0mbestcandidate\u001b[0m\u001b[1;33m[\u001b[0m\u001b[1;33m-\u001b[0m\u001b[1;36m1\u001b[0m\u001b[1;33m]\u001b[0m\u001b[1;33m:\u001b[0m\u001b[1;33m\u001b[0m\u001b[1;33m\u001b[0m\u001b[0m\n",
      "\u001b[1;32m~\\PycharmProjects\\DARP\\Tabu.py\u001b[0m in \u001b[0;36m<listcomp>\u001b[1;34m(.0)\u001b[0m\n\u001b[0;32m     62\u001b[0m             \u001b[0mngbr\u001b[0m \u001b[1;33m=\u001b[0m \u001b[0mself\u001b[0m\u001b[1;33m.\u001b[0m\u001b[0mneighborhoodGen\u001b[0m\u001b[1;33m(\u001b[0m\u001b[1;33m)\u001b[0m\u001b[1;33m\u001b[0m\u001b[1;33m\u001b[0m\u001b[0m\n\u001b[0;32m     63\u001b[0m             \u001b[0mprint\u001b[0m\u001b[1;33m(\u001b[0m\u001b[1;34m'Neighborhood length: %d (iteration %d)'\u001b[0m \u001b[1;33m%\u001b[0m \u001b[1;33m(\u001b[0m\u001b[0mlen\u001b[0m\u001b[1;33m(\u001b[0m\u001b[0mngbr\u001b[0m\u001b[1;33m)\u001b[0m\u001b[1;33m,\u001b[0m \u001b[0miter\u001b[0m\u001b[1;33m+\u001b[0m\u001b[1;36m1\u001b[0m\u001b[1;33m)\u001b[0m\u001b[1;33m)\u001b[0m\u001b[1;33m\u001b[0m\u001b[1;33m\u001b[0m\u001b[0m\n\u001b[1;32m---> 64\u001b[1;33m             \u001b[1;33m[\u001b[0m\u001b[0mself\u001b[0m\u001b[1;33m.\u001b[0m\u001b[0msolutionEval\u001b[0m\u001b[1;33m(\u001b[0m\u001b[0mn\u001b[0m\u001b[1;33m)\u001b[0m \u001b[1;32mfor\u001b[0m \u001b[0mn\u001b[0m \u001b[1;32min\u001b[0m \u001b[0mngbr\u001b[0m\u001b[1;33m]\u001b[0m\u001b[1;33m\u001b[0m\u001b[1;33m\u001b[0m\u001b[0m\n\u001b[0m\u001b[0;32m     65\u001b[0m             \u001b[1;32mfor\u001b[0m \u001b[0mcandidate\u001b[0m \u001b[1;32min\u001b[0m \u001b[0mngbr\u001b[0m\u001b[1;33m:\u001b[0m\u001b[1;33m\u001b[0m\u001b[1;33m\u001b[0m\u001b[0m\n\u001b[0;32m     66\u001b[0m                 \u001b[1;32mif\u001b[0m \u001b[0mcandidate\u001b[0m\u001b[1;33m[\u001b[0m\u001b[1;33m-\u001b[0m\u001b[1;36m1\u001b[0m\u001b[1;33m]\u001b[0m \u001b[1;33m<\u001b[0m \u001b[0mself\u001b[0m\u001b[1;33m.\u001b[0m\u001b[0mbestcandidate\u001b[0m\u001b[1;33m[\u001b[0m\u001b[1;33m-\u001b[0m\u001b[1;36m1\u001b[0m\u001b[1;33m]\u001b[0m\u001b[1;33m:\u001b[0m\u001b[1;33m\u001b[0m\u001b[1;33m\u001b[0m\u001b[0m\n",
      "\u001b[1;32m~\\PycharmProjects\\DARP\\Tabu.py\u001b[0m in \u001b[0;36msolutionEval\u001b[1;34m(self, solution)\u001b[0m\n\u001b[0;32m    290\u001b[0m                     \u001b[0mschedule\u001b[0m\u001b[1;33m[\u001b[0m\u001b[0mk\u001b[0m\u001b[1;33m]\u001b[0m\u001b[1;33m[\u001b[0m\u001b[0msol\u001b[0m\u001b[1;33m[\u001b[0m\u001b[0mk\u001b[0m\u001b[1;33m]\u001b[0m\u001b[1;33m[\u001b[0m\u001b[0mi\u001b[0m\u001b[1;33m]\u001b[0m\u001b[1;33m]\u001b[0m\u001b[1;33m[\u001b[0m\u001b[1;36m3\u001b[0m\u001b[1;33m]\u001b[0m \u001b[1;33m=\u001b[0m \u001b[0mschedule\u001b[0m\u001b[1;33m[\u001b[0m\u001b[0mk\u001b[0m\u001b[1;33m]\u001b[0m\u001b[1;33m[\u001b[0m\u001b[0msol\u001b[0m\u001b[1;33m[\u001b[0m\u001b[0mk\u001b[0m\u001b[1;33m]\u001b[0m\u001b[1;33m[\u001b[0m\u001b[0mi\u001b[0m\u001b[1;33m]\u001b[0m\u001b[1;33m]\u001b[0m\u001b[1;33m[\u001b[0m\u001b[1;36m1\u001b[0m\u001b[1;33m]\u001b[0m \u001b[1;33m+\u001b[0m \u001b[0msrvc\u001b[0m\u001b[1;33m\u001b[0m\u001b[1;33m\u001b[0m\u001b[0m\n\u001b[0;32m    291\u001b[0m                     \u001b[0mcompute\u001b[0m\u001b[1;33m(\u001b[0m\u001b[0msol\u001b[0m\u001b[1;33m[\u001b[0m\u001b[0mk\u001b[0m\u001b[1;33m]\u001b[0m\u001b[1;33m[\u001b[0m\u001b[0mi\u001b[0m\u001b[1;33m:\u001b[0m\u001b[1;33m]\u001b[0m\u001b[1;33m,\u001b[0m \u001b[0mk\u001b[0m\u001b[1;33m)\u001b[0m\u001b[1;33m\u001b[0m\u001b[1;33m\u001b[0m\u001b[0m\n\u001b[1;32m--> 292\u001b[1;33m         \u001b[0mself\u001b[0m\u001b[1;33m.\u001b[0m\u001b[0mcalculateObjective\u001b[0m\u001b[1;33m(\u001b[0m\u001b[0msolution\u001b[0m\u001b[1;33m,\u001b[0m \u001b[0msol\u001b[0m\u001b[1;33m,\u001b[0m \u001b[0mschedule\u001b[0m\u001b[1;33m)\u001b[0m\u001b[1;33m\u001b[0m\u001b[1;33m\u001b[0m\u001b[0m\n\u001b[0m\u001b[0;32m    293\u001b[0m \u001b[1;33m\u001b[0m\u001b[0m\n\u001b[0;32m    294\u001b[0m     \u001b[1;32mdef\u001b[0m \u001b[0mcalculateObjective\u001b[0m\u001b[1;33m(\u001b[0m\u001b[0mself\u001b[0m\u001b[1;33m,\u001b[0m \u001b[0msolution\u001b[0m\u001b[1;33m,\u001b[0m \u001b[0msol\u001b[0m\u001b[1;33m,\u001b[0m \u001b[0mschedule\u001b[0m\u001b[1;33m)\u001b[0m\u001b[1;33m:\u001b[0m\u001b[1;33m\u001b[0m\u001b[1;33m\u001b[0m\u001b[0m\n",
      "\u001b[1;32m~\\PycharmProjects\\DARP\\Tabu.py\u001b[0m in \u001b[0;36mcalculateObjective\u001b[1;34m(self, solution, sol, schedule)\u001b[0m\n\u001b[0;32m    367\u001b[0m             \u001b[1;33m[\u001b[0m\u001b[0mself\u001b[0m\u001b[1;33m.\u001b[0m\u001b[0mmodel\u001b[0m\u001b[1;33m.\u001b[0m\u001b[0msubmodel\u001b[0m\u001b[1;33m[\u001b[0m\u001b[0ms\u001b[0m\u001b[1;33m]\u001b[0m\u001b[1;33m.\u001b[0m\u001b[0mfix_values\u001b[0m\u001b[1;33m(\u001b[0m\u001b[0mself\u001b[0m\u001b[1;33m,\u001b[0m \u001b[0msol\u001b[0m\u001b[1;33m=\u001b[0m\u001b[0mxsol\u001b[0m\u001b[1;33m)\u001b[0m \u001b[1;32mfor\u001b[0m \u001b[0ms\u001b[0m \u001b[1;32min\u001b[0m \u001b[0mS\u001b[0m\u001b[1;33m]\u001b[0m\u001b[1;33m\u001b[0m\u001b[1;33m\u001b[0m\u001b[0m\n\u001b[0;32m    368\u001b[0m             \u001b[1;31m# Optimize MIP 2nd Stage\u001b[0m\u001b[1;33m\u001b[0m\u001b[1;33m\u001b[0m\u001b[1;33m\u001b[0m\u001b[0m\n\u001b[1;32m--> 369\u001b[1;33m             \u001b[1;33m[\u001b[0m\u001b[0mself\u001b[0m\u001b[1;33m.\u001b[0m\u001b[0mmodel\u001b[0m\u001b[1;33m.\u001b[0m\u001b[0msubmodel\u001b[0m\u001b[1;33m[\u001b[0m\u001b[0ms\u001b[0m\u001b[1;33m]\u001b[0m\u001b[1;33m.\u001b[0m\u001b[0moptimize\u001b[0m\u001b[1;33m(\u001b[0m\u001b[1;33m)\u001b[0m \u001b[1;32mfor\u001b[0m \u001b[0ms\u001b[0m \u001b[1;32min\u001b[0m \u001b[0mS\u001b[0m\u001b[1;33m]\u001b[0m\u001b[1;33m\u001b[0m\u001b[1;33m\u001b[0m\u001b[0m\n\u001b[0m\u001b[0;32m    370\u001b[0m             \u001b[1;32mfor\u001b[0m \u001b[0ms\u001b[0m \u001b[1;32min\u001b[0m \u001b[0mS\u001b[0m\u001b[1;33m:\u001b[0m\u001b[1;33m\u001b[0m\u001b[1;33m\u001b[0m\u001b[0m\n\u001b[0;32m    371\u001b[0m                 \u001b[0mstat\u001b[0m \u001b[1;33m=\u001b[0m \u001b[0mself\u001b[0m\u001b[1;33m.\u001b[0m\u001b[0mmodel\u001b[0m\u001b[1;33m.\u001b[0m\u001b[0msubmodel\u001b[0m\u001b[1;33m[\u001b[0m\u001b[0ms\u001b[0m\u001b[1;33m]\u001b[0m\u001b[1;33m.\u001b[0m\u001b[0mmodel\u001b[0m\u001b[1;33m.\u001b[0m\u001b[0mstatus\u001b[0m\u001b[1;33m\u001b[0m\u001b[1;33m\u001b[0m\u001b[0m\n",
      "\u001b[1;32m~\\PycharmProjects\\DARP\\Tabu.py\u001b[0m in \u001b[0;36m<listcomp>\u001b[1;34m(.0)\u001b[0m\n\u001b[0;32m    367\u001b[0m             \u001b[1;33m[\u001b[0m\u001b[0mself\u001b[0m\u001b[1;33m.\u001b[0m\u001b[0mmodel\u001b[0m\u001b[1;33m.\u001b[0m\u001b[0msubmodel\u001b[0m\u001b[1;33m[\u001b[0m\u001b[0ms\u001b[0m\u001b[1;33m]\u001b[0m\u001b[1;33m.\u001b[0m\u001b[0mfix_values\u001b[0m\u001b[1;33m(\u001b[0m\u001b[0mself\u001b[0m\u001b[1;33m,\u001b[0m \u001b[0msol\u001b[0m\u001b[1;33m=\u001b[0m\u001b[0mxsol\u001b[0m\u001b[1;33m)\u001b[0m \u001b[1;32mfor\u001b[0m \u001b[0ms\u001b[0m \u001b[1;32min\u001b[0m \u001b[0mS\u001b[0m\u001b[1;33m]\u001b[0m\u001b[1;33m\u001b[0m\u001b[1;33m\u001b[0m\u001b[0m\n\u001b[0;32m    368\u001b[0m             \u001b[1;31m# Optimize MIP 2nd Stage\u001b[0m\u001b[1;33m\u001b[0m\u001b[1;33m\u001b[0m\u001b[1;33m\u001b[0m\u001b[0m\n\u001b[1;32m--> 369\u001b[1;33m             \u001b[1;33m[\u001b[0m\u001b[0mself\u001b[0m\u001b[1;33m.\u001b[0m\u001b[0mmodel\u001b[0m\u001b[1;33m.\u001b[0m\u001b[0msubmodel\u001b[0m\u001b[1;33m[\u001b[0m\u001b[0ms\u001b[0m\u001b[1;33m]\u001b[0m\u001b[1;33m.\u001b[0m\u001b[0moptimize\u001b[0m\u001b[1;33m(\u001b[0m\u001b[1;33m)\u001b[0m \u001b[1;32mfor\u001b[0m \u001b[0ms\u001b[0m \u001b[1;32min\u001b[0m \u001b[0mS\u001b[0m\u001b[1;33m]\u001b[0m\u001b[1;33m\u001b[0m\u001b[1;33m\u001b[0m\u001b[0m\n\u001b[0m\u001b[0;32m    370\u001b[0m             \u001b[1;32mfor\u001b[0m \u001b[0ms\u001b[0m \u001b[1;32min\u001b[0m \u001b[0mS\u001b[0m\u001b[1;33m:\u001b[0m\u001b[1;33m\u001b[0m\u001b[1;33m\u001b[0m\u001b[0m\n\u001b[0;32m    371\u001b[0m                 \u001b[0mstat\u001b[0m \u001b[1;33m=\u001b[0m \u001b[0mself\u001b[0m\u001b[1;33m.\u001b[0m\u001b[0mmodel\u001b[0m\u001b[1;33m.\u001b[0m\u001b[0msubmodel\u001b[0m\u001b[1;33m[\u001b[0m\u001b[0ms\u001b[0m\u001b[1;33m]\u001b[0m\u001b[1;33m.\u001b[0m\u001b[0mmodel\u001b[0m\u001b[1;33m.\u001b[0m\u001b[0mstatus\u001b[0m\u001b[1;33m\u001b[0m\u001b[1;33m\u001b[0m\u001b[0m\n",
      "\u001b[1;31mKeyboardInterrupt\u001b[0m: "
     ]
    }
   ],
   "source": [
    "TimeLimit = 18000\n",
    "tests = [(3,2),(4,2),(5,2),(6,2),(7,2),(9,3),(10,3),(11,3),(13,4),(15,4),(18,5),(20,5),(22,6),(24,6),(25,7),(27,8)]\n",
    "scenarioslist = [10,20,30]\n",
    "\n",
    "with open('./Reports/Report.csv', 'w', newline='') as csv_file:\n",
    "    write = csv.writer(csv_file, delimiter=',')\n",
    "    write.writerow(('Rides','Bus','Scenarios','TSPObj','TSPGap','TSPTime','LshapeObj','LshapeSave','LshapeGap','LshapeTime','TabuObj','TabuSave','TabuTime'))\n",
    "    for s in scenarioslist:\n",
    "        scenarios = s\n",
    "        for test in tests:\n",
    "            rides, bus = test\n",
    "            mappy = Map(rides)\n",
    "            #Two-Stage\n",
    "            try:    \n",
    "                twostage, t1 = Mod2()\n",
    "                if twostage.model.status in [2,9]:\n",
    "                    twostageobj = twostage.model.ObjVal\n",
    "                    twostagegap = twostage.model.MIPGap\n",
    "                    twostagetime = t1\n",
    "                else:\n",
    "                    twostageobj = 'NA'\n",
    "                    twostagegap = 'NA'\n",
    "                    twostagetime = t1\n",
    "            except GurobiError:\n",
    "                twostageobj = 'Failed'\n",
    "                twostagegap = 'Failed'\n",
    "                twostagetime = 'Failed'\n",
    "            #L-shaped\n",
    "            try:    \n",
    "                lshaped, t2 = Mod3()\n",
    "                if lshaped.model.status in [2,9]:\n",
    "                    lshapedobj = lshaped.model.ObjVal\n",
    "                    lshapedsave = lshaped.variables.th.X\n",
    "                    lshapedgap = lshaped.model.MIPGap\n",
    "                    lshapedtime = t2\n",
    "                else:\n",
    "                    lshapedobj = 'NA'\n",
    "                    lshapedgap = 'NA'\n",
    "                    lshapedtime = t2\n",
    "                    lshapedsave = 'NA'\n",
    "            except GurobiError:\n",
    "                lshapedobj = 'Failed'\n",
    "                lshapedsave = 'Failed'\n",
    "                lshapedgap = 'Failed'\n",
    "                lshapedtime = 'Failed'\n",
    "            #Tabu\n",
    "            try:    \n",
    "                tabu, t3 = Mod4(lshaped)\n",
    "                tabuobj = tabu.best[-1]\n",
    "                tabusave = tabu.best[-3]\n",
    "                tabutime = t3\n",
    "                \n",
    "            except GurobiError:\n",
    "                tabuobj = 'Failed'\n",
    "                tabusave = 'Failed'\n",
    "                tabutime = 'Failed'\n",
    "            \n",
    "            write.writerow((str(rides),\n",
    "                            str(bus),\n",
    "                            str(scenarios),\n",
    "                            str(twostageobj),\n",
    "                            str(twostagegap),\n",
    "                            str(twostagetime),\n",
    "                            str(lshapedobj),\n",
    "                            str(lshapedsave),\n",
    "                            str(lshapedgap),\n",
    "                            str(lshapedtime),\n",
    "                            str(tabuobj),\n",
    "                            str(tabusave),\n",
    "                            str(tabutime)))"
   ]
  },
  {
   "cell_type": "code",
   "execution_count": null,
   "metadata": {},
   "outputs": [],
   "source": [
    "MIPGap = 0.001\n",
    "tests = [(3,1),(4,1),(5,1),(6,2),(7,2),(8,2),(9,2)]\n",
    "scenarioslist = [10,15,20]\n",
    "for s in scenarioslist:\n",
    "    scenarios = s\n",
    "    for test in tests:\n",
    "        rides, bus = test\n",
    "        mappy = Map(rides)        \n",
    "#         drpstw, t1 = Mod1()\n",
    "#         objdrpstw = drpstw.model.ObjVal\n",
    "        twosp, t2 = Mod2()\n",
    "        objtwosp = twosp.model.ObjVal\n",
    "        lshaped, t3 = Mod3() \n",
    "        objlshaped = lshaped.model.ObjVal\n",
    "#         tabu, t4 = Mod4()\n",
    "#         objtabu = tabu.best[-2]\n",
    "        write = [\n",
    "#             str(objdrpstw), str(t1),\n",
    "            str(objtwosp), str(t2),\n",
    "            str(objlshaped), str(t3),\n",
    "#             str(objtabu), str(t4),\n",
    "            str(scenarios),str(bus),str(rides)]\n",
    "        with open('report.txt', 'a') as file:\n",
    "            file.write('\\n')\n",
    "            for w in write:\n",
    "                file.write(w)\n",
    "                file.write(',')"
   ]
  },
  {
   "cell_type": "markdown",
   "metadata": {},
   "source": [
    "### DARP-STW Model"
   ]
  },
  {
   "cell_type": "markdown",
   "metadata": {},
   "source": [
    "#### Model Solution "
   ]
  },
  {
   "cell_type": "code",
   "execution_count": null,
   "metadata": {},
   "outputs": [],
   "source": [
    "drpstw, t1 = Mod1()"
   ]
  },
  {
   "cell_type": "code",
   "execution_count": null,
   "metadata": {},
   "outputs": [],
   "source": [
    "nodes = mappy.node\n",
    "edges = {k:[] for k in range(drpstw.bus)}\n",
    "for i, j in drpstw.parameters.edges:\n",
    "    for k in range(drpstw.bus):\n",
    "        if drpstw.variables.x[i,j,k].X > 0.5:\n",
    "            if j != drpstw.last:\n",
    "                edges[k].append((i,j))\n",
    "            else:\n",
    "                edges[k].append((i,0))\n",
    "\n",
    "objdrpstw = drpstw.model.ObjVal\n",
    "displaygraph(nodes, edges,'DARP-STW')\n",
    "nodes,edges"
   ]
  },
  {
   "cell_type": "markdown",
   "metadata": {},
   "source": [
    "### Two-Stage Stochastic Model"
   ]
  },
  {
   "cell_type": "markdown",
   "metadata": {},
   "source": [
    "#### Model Solution"
   ]
  },
  {
   "cell_type": "code",
   "execution_count": null,
   "metadata": {},
   "outputs": [],
   "source": [
    "twosp, t2 = Mod2()"
   ]
  },
  {
   "cell_type": "code",
   "execution_count": null,
   "metadata": {},
   "outputs": [],
   "source": [
    "nodes = mappy.node\n",
    "edges = {k:[] for k in range(twosp.bus)}\n",
    "for i, j in twosp.parameters.edges:\n",
    "    for k in range(twosp.bus):\n",
    "        if twosp.MP.variables.x[i,j,k].X > 0.5:\n",
    "            if j != twosp.last:\n",
    "                edges[k].append((i,j))\n",
    "            else:\n",
    "                edges[k].append((i,0))\n",
    "\n",
    "objtwosp = twosp.model.ObjVal\n",
    "displaygraph(nodes, edges,'Two-Stage')\n",
    "nodes,edges"
   ]
  },
  {
   "cell_type": "markdown",
   "metadata": {},
   "source": [
    "### L-Shaped Method"
   ]
  },
  {
   "cell_type": "markdown",
   "metadata": {},
   "source": [
    "#### Model Solution"
   ]
  },
  {
   "cell_type": "code",
   "execution_count": null,
   "metadata": {
    "scrolled": true
   },
   "outputs": [],
   "source": [
    "lshaped, t3 = Mod3()"
   ]
  },
  {
   "cell_type": "code",
   "execution_count": null,
   "metadata": {},
   "outputs": [],
   "source": [
    "lshaped.LazyInt"
   ]
  },
  {
   "cell_type": "code",
   "execution_count": null,
   "metadata": {},
   "outputs": [],
   "source": [
    "nodes = mappy.node\n",
    "edges = {k:[] for k in range(lshaped.bus)}\n",
    "for i, j in lshaped.parameters.edges:\n",
    "    for k in range(lshaped.bus):\n",
    "        if lshaped.variables.x[i,j,k].X > 0.5:\n",
    "            if j != lshaped.last:\n",
    "                edges[k].append((i,j))\n",
    "            else:\n",
    "                edges[k].append((i,0))\n",
    "bounds = lshaped.getcancel()\n",
    "objlshaped = lshaped.model.ObjVal\n",
    "displaygraph(nodes, edges,'L-Shaped')\n",
    "nodes,edges,bounds"
   ]
  },
  {
   "cell_type": "code",
   "execution_count": null,
   "metadata": {
    "scrolled": true
   },
   "outputs": [],
   "source": [
    "plot_trend(lshaped.upperbounds[2:],lshaped.lowerbounds[2:],0)"
   ]
  },
  {
   "cell_type": "code",
   "execution_count": null,
   "metadata": {},
   "outputs": [],
   "source": [
    "mostcancel = {i: 0 for i in lshaped.parameters.pickup}\n",
    "for i in lshaped.parameters.pickup:\n",
    "    for s in range(lshaped.scenarios):\n",
    "        mostcancel[i] += 2 - lshaped.submodel[s].sim.alpha[i] - lshaped.submodel[s].sim.alpha[i+lshaped.parameters.rides]\n",
    "mostcancel = sorted(mostcancel.items(), key=lambda x: (x[1]))\n",
    "mostcancel"
   ]
  },
  {
   "cell_type": "markdown",
   "metadata": {},
   "source": [
    "### Tabu-Heuristic"
   ]
  },
  {
   "cell_type": "markdown",
   "metadata": {},
   "source": [
    "#### Model Solution"
   ]
  },
  {
   "cell_type": "code",
   "execution_count": null,
   "metadata": {},
   "outputs": [],
   "source": [
    "tabu, t4 = Mod4()"
   ]
  },
  {
   "cell_type": "code",
   "execution_count": null,
   "metadata": {},
   "outputs": [],
   "source": [
    "nodes = mappy.node\n",
    "edges = {k:[] for k in tabu.bus}\n",
    "for k in tabu.bus:\n",
    "    for i in tabu.best[k]:\n",
    "        n = tabu.best[k][i]\n",
    "        if i != tabu.model.last:\n",
    "            edges[k].append((i,n.next.key))\n",
    "objtabu = tabu.best[-2]\n",
    "displaygraph(nodes, edges,'Tabu')    \n",
    "nodes,edges, tabu.best"
   ]
  },
  {
   "cell_type": "code",
   "execution_count": null,
   "metadata": {},
   "outputs": [],
   "source": [
    "tabutsp, t5 = Mod5()"
   ]
  },
  {
   "cell_type": "code",
   "execution_count": null,
   "metadata": {},
   "outputs": [],
   "source": [
    "nodes = mappy.node\n",
    "edges = {k:[] for k in tabu.bus}\n",
    "for k in tabutsp.bus:\n",
    "    for i in tabutsp.best[k]:\n",
    "        n = tabutsp.best[k][i]\n",
    "        if i != tabutsp.model.last:\n",
    "            edges[k].append((i,n.next.key))\n",
    "objtabutsp = tabutsp.best[-2]\n",
    "displaygraph(nodes, edges,'TabuTSP')    \n",
    "nodes,edges, tabutsp.best"
   ]
  },
  {
   "cell_type": "code",
   "execution_count": null,
   "metadata": {},
   "outputs": [],
   "source": [
    "print(t1,t2,t3,t4,t5)\n",
    "objdrpstw,objtwosp,objlshaped,objtabu,objtabutsp"
   ]
  },
  {
   "cell_type": "code",
   "execution_count": null,
   "metadata": {},
   "outputs": [],
   "source": [
    "mappy.pickup_time"
   ]
  },
  {
   "cell_type": "code",
   "execution_count": null,
   "metadata": {},
   "outputs": [],
   "source": [
    "# print(twosp.sim.alpha)\n",
    "lshaped.printsol(lshaped.submodel)"
   ]
  },
  {
   "cell_type": "code",
   "execution_count": null,
   "metadata": {},
   "outputs": [],
   "source": [
    "nodes = mappy.node\n",
    "edges = {k:[] for k in range(lshaped.bus)}\n",
    "for i, j in lshaped.parameters.edges:\n",
    "    for k in range(lshaped.bus):\n",
    "        if lshaped.submodel[3].variables.xs[i,j,k].X > 0.5:\n",
    "            if i == 0 and j == 9:\n",
    "                continue\n",
    "            if j != lshaped.last:\n",
    "                edges[k].append((i,j))\n",
    "            else:\n",
    "                edges[k].append((i,0))\n",
    "bounds = lshaped.getcancel()\n",
    "objlshaped = lshaped.model.ObjVal\n",
    "displaygraph(nodes, edges,'L-Shaped')\n",
    "nodes,edges"
   ]
  },
  {
   "cell_type": "code",
   "execution_count": null,
   "metadata": {},
   "outputs": [],
   "source": [
    "drpstw"
   ]
  }
 ],
 "metadata": {
  "kernelspec": {
   "display_name": "Python 3",
   "language": "python",
   "name": "python3"
  },
  "language_info": {
   "codemirror_mode": {
    "name": "ipython",
    "version": 3
   },
   "file_extension": ".py",
   "mimetype": "text/x-python",
   "name": "python",
   "nbconvert_exporter": "python",
   "pygments_lexer": "ipython3",
   "version": "3.7.7"
  }
 },
 "nbformat": 4,
 "nbformat_minor": 2
}
