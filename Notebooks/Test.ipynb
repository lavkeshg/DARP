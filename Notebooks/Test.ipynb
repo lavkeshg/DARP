{
 "cells": [
  {
   "cell_type": "code",
   "execution_count": null,
   "metadata": {},
   "outputs": [],
   "source": [
    "import os\n",
    "os.chdir(os.path.dirname(os.getcwd()))"
   ]
  },
  {
   "cell_type": "code",
   "execution_count": null,
   "metadata": {},
   "outputs": [],
   "source": [
    "from src.Map import Map\n",
    "from src.Tabu import Tabu\n",
    "from src.TwoStage import TwoStage\n",
    "from src.L_shaped import MasterProblem as mp\n",
    "import matplotlib.pyplot as plt\n",
    "import matplotlib.pylab as pl \n",
    "import matplotlib.cm as cm\n",
    "import time\n",
    "import networkx as nx\n",
    "import matplotlib as mpl\n",
    "from gurobipy import *\n",
    "import csv"
   ]
  },
  {
   "cell_type": "markdown",
   "metadata": {},
   "source": [
    "**Modelling Parameters**"
   ]
  },
  {
   "cell_type": "code",
   "execution_count": null,
   "metadata": {},
   "outputs": [],
   "source": [
    "rides = 3\n",
    "bus = 2\n",
    "scenarios = 10\n",
    "MIPGap = 0.001\n",
    "TimeLimit = 18000\n",
    "probability = [0.7, 0.1, 0.15, 0.05]"
   ]
  },
  {
   "cell_type": "markdown",
   "metadata": {},
   "source": [
    "**Defining the Map**"
   ]
  },
  {
   "cell_type": "code",
   "execution_count": null,
   "metadata": {},
   "outputs": [],
   "source": [
    "mappy = Map(rides, seed=200)"
   ]
  },
  {
   "cell_type": "markdown",
   "metadata": {},
   "source": [
    "**Plotting Functions**"
   ]
  },
  {
   "cell_type": "code",
   "execution_count": null,
   "metadata": {},
   "outputs": [],
   "source": [
    "def plot_trend(ub,lb,base):\n",
    "    x = list(range(len(ub)))\n",
    "    figure = plt.figure()\n",
    "    plt.plot(x,ub,label='upper-bound')\n",
    "    plt.plot(x,[base]*len(ub),label='two-stage')\n",
    "    plt.plot(x,lb,label='lower-bound')\n",
    "    plt.annotate(int(ub[-1]),[x[-1],ub[-1]])\n",
    "    plt.legend()\n",
    "    plt.savefig('./figures/trend.png')\n",
    "    plt.show()\n",
    "\n",
    "colors = ['green','blue','yellow','red','pink'] \n",
    "def displaygraph(n, e, modname):\n",
    "    for k in e.keys():\n",
    "        for i, j in e[k]:\n",
    "            plt.plot((n[i][0],n[j][0]),(n[i][1],n[j][1]), color=colors[k] ,marker='o', linewidth=2, linestyle='dashed')\n",
    "    for i in n:\n",
    "        plt.annotate(i,n[i],textcoords=\"offset points\",xytext=(0,10),ha='center')\n",
    "    plt.savefig('./figures/'+modname+'.png')\n",
    "    plt.show()\n"
   ]
  },
  {
   "cell_type": "markdown",
   "metadata": {},
   "source": [
    "#### Model formulation"
   ]
  },
  {
   "cell_type": "code",
   "execution_count": null,
   "metadata": {},
   "outputs": [],
   "source": [
    "def Mod1(aux=False): # Standard DARP model\n",
    "    t1 = time.time()\n",
    "    drpstw = mp(mappy,bus=bus,scenarios=scenarios, probability=probability)\n",
    "    drpstw.initialize()\n",
    "    drpstw.setMIP()\n",
    "    drpstw.variables.th.obj=0\n",
    "    if aux:\n",
    "        drpstw.setLowerBound()\n",
    "        for s in range(drpstw.scenarios):\n",
    "            drpstw.submodel[s].model.params.MIPGap = MIPGap\n",
    "#             drpstw.submodel[s].model.params.OutputFlag = 1\n",
    "    else:\n",
    "        drpstw.model.params.TimeLimit = TimeLimit\n",
    "        drpstw.model.optimize()\n",
    "    t1 = time.time() - t1\n",
    "    return drpstw, t1"
   ]
  },
  {
   "cell_type": "code",
   "execution_count": null,
   "metadata": {},
   "outputs": [],
   "source": [
    "def Mod2(model=None): # Standard Two-Stage Optimization for DARP problem\n",
    "    t2 = time.time()\n",
    "    twosp = TwoStage(mappy, bus=bus, scenarios=scenarios, probability=probability)\n",
    "    twosp.model.params.TimeLimit = TimeLimit\n",
    "    if model is not None:\n",
    "        for i,j,k in twosp.MP.variables.x.keys():\n",
    "            twosp.MP.variables.x[i,j,k].start = model.variables.x[i,j,k].X\n",
    "    twosp.optimize()\n",
    "    \n",
    "    master =sum(twosp.MP.variables.x[i, j, k].X * twosp.parameters.distance[i, j]\n",
    "                     + twosp.MP.variables.h[i, j].X\n",
    "                     # * twosp.MP.variables.w[i]\n",
    "                     for i, j in twosp.parameters.edges for k in range(twosp.MP.bus)) + \\\n",
    "            sum(twosp.MP.variables.p_l[i].X for i in twosp.parameters.pickup)\n",
    "    \n",
    "    savings = (sum((1 / twosp.scenarios) * (twosp.parameters.distance[i, j] * (twosp.variables.xs[i, j, k, s].X -\n",
    "                                                                               twosp.MP.variables.x[i, j, k].X)\n",
    "                                             + (twosp.variables.hs[i, j, s].X - twosp.MP.variables.h[i, j].X))\n",
    "                                             for i, j in twosp.parameters.edges\n",
    "                                             for k in range(twosp.MP.bus) for s in twosp.parameters.xi) +\n",
    "                                    sum((1 / twosp.scenarios) * (twosp.variables.p_ls[i, s].X - twosp.MP.variables.p_l[i].X)\n",
    "                                             for i in twosp.parameters.pickup for s in twosp.parameters.xi))\n",
    "    \n",
    "    t2 = time.time() - t2\n",
    "    return twosp, savings,master, t2"
   ]
  },
  {
   "cell_type": "code",
   "execution_count": null,
   "metadata": {
    "scrolled": true
   },
   "outputs": [],
   "source": [
    "def Mod3(): # L-Shaped method implementation for DARP with Initialisation\n",
    "    t3 = time.time()\n",
    "    lshaped = mp(mappy, bus=bus, scenarios=scenarios, probability=probability)\n",
    "    lshaped.initialize()\n",
    "    lshaped.model.params.TimeLimit = TimeLimit\n",
    "    lshaped.model.params.MIPGap = MIPGap\n",
    "#     if lshaped.model.runtime < TimeLimit:\n",
    "#         lshaped.model.params.MIPGap\n",
    "    lshaped.optimize(skip_init=False)\n",
    "    savings = sum((1/scenarios)*lshaped.submodel[i].model.ObjVal for i in lshaped.submodel.keys())\n",
    "    t3 = time.time() - t3\n",
    "    return lshaped, savings, t3"
   ]
  },
  {
   "cell_type": "code",
   "execution_count": null,
   "metadata": {},
   "outputs": [],
   "source": [
    "def Mod4(lshaped): # Tabu search heuristic for DARP\n",
    "    t4 = time.time()\n",
    "    if lshaped.submodel is not None:\n",
    "        tabu = Tabu(lshaped,tabu_iterations=800, tabu_status=rides + 2, rtoptm=5, subset=20, tsp=False)\n",
    "        tabu.tsp = True\n",
    "    else:\n",
    "        tabu = Tabu(lshaped,tabu_iterations=800, tabu_status=rides + 2, rtoptm=5, subset=20, tsp=True)\n",
    "    tabu.tabuheuristic()\n",
    "    t4 = time.time() - t4\n",
    "    return tabu, t4"
   ]
  },
  {
   "cell_type": "code",
   "execution_count": null,
   "metadata": {},
   "outputs": [],
   "source": [
    "def Mod5(): # L-Shaped method implementation for DARP without Initialisation\n",
    "    t3 = time.time()\n",
    "    lshaped = mp(mappy, bus=bus, scenarios=scenarios, probability=probability)\n",
    "    lshaped.initialize()\n",
    "    lshaped.model.params.TimeLimit = TimeLimit\n",
    "    lshaped.optimize(skip_init=True)\n",
    "    savings = sum((1/scenarios)*lshaped.submodel[i].model.ObjVal for i in lshaped.submodel.keys())\n",
    "    t3 = time.time() - t3\n",
    "    return lshaped, savings, t3"
   ]
  },
  {
   "cell_type": "markdown",
   "metadata": {},
   "source": [
    "### Test Block"
   ]
  },
  {
   "cell_type": "code",
   "execution_count": null,
   "metadata": {
    "scrolled": true
   },
   "outputs": [],
   "source": [
    "TimeLimit = 18000\n",
    "tests = [(3,2),(4,2),(5,2),(6,2),(7,2),(9,3),(10,3),(11,3),(13,4),(15,4),(18,5),(20,5),(22,6),(24,6),(25,7),(27,8)]\n",
    "scenarioslist = [10,20,30]\n",
    "\n",
    "csv_file = open('./Reports/Report.csv', 'w', newline='')\n",
    "write = csv.writer(csv_file, delimiter=',')\n",
    "write.writerow(('Rides','Bus','Scenarios', 'DRPObj', 'DRPTime', 'TSPObj', 'TSPSave','TSPGap','TSPTime','LshapeNsObj','LshapeNsSave','LshapeNsGap','LshapeNsTime','LshapeObj','LshapeSave','LshapeGap','LshapeTime','TabuObj','TabuSave','TabuTime'))\n",
    "csv_file.close()\n",
    "for s in scenarioslist:\n",
    "    scenarios = s\n",
    "    for test in tests:\n",
    "        \n",
    "        rides, bus = test\n",
    "        mappy = Map(rides, seed=200)\n",
    "\n",
    "        #Darp-stw\n",
    "        try:\n",
    "            drpstw, t1 = Mod1()\n",
    "            if drpstw.model.status in [2,9]:\n",
    "                drpobj = drpstw.model.ObjVal\n",
    "                drptime = t1\n",
    "            else:\n",
    "                drpobj = 'NA'\n",
    "                drptime = t1\n",
    "        except (GurobiError, AttributeError, KeyboardInterrupt):\n",
    "            drpobj = 'Failed'\n",
    "            drptime = 'Failed'\n",
    "        #Two-Stage\n",
    "        try:    \n",
    "            twostage, savings, master, t1 = Mod2()\n",
    "            if twostage.model.status in [2,9]:\n",
    "                twostageobj = twostage.model.ObjVal\n",
    "                twostagesave = savings\n",
    "                twostagegap = twostage.model.MIPGap\n",
    "                twostagetime = t1\n",
    "            else:\n",
    "                twostageobj = 'NA'\n",
    "                twostagesave = 'NA'\n",
    "                twostagegap = 'NA'\n",
    "                twostagetime = t1\n",
    "        except (GurobiError, AttributeError, KeyboardInterrupt):\n",
    "            twostageobj = 'Failed'\n",
    "            twostagesave = 'Failed'\n",
    "            twostagegap = 'Failed'\n",
    "            twostagetime = 'Failed'\n",
    "        #L-shaped no initialisation\n",
    "        try:    \n",
    "            lshaped, apprxskip, t2 = Mod5()\n",
    "            if lshaped.model.status in [2,9]:\n",
    "                lshapedobjns = lshaped.model.ObjVal\n",
    "                lshapedsavens = lshaped.variables.th.X\n",
    "                lshapedgapns = lshaped.model.MIPGap\n",
    "                lshapedtimens = t2\n",
    "            else:\n",
    "                lshapedobjns = 'NA'\n",
    "                lshapedgapns = 'NA'\n",
    "                lshapedtimens = t2\n",
    "                lshapedsavens = 'NA'\n",
    "        except (GurobiError, AttributeError, KeyboardInterrupt):\n",
    "            lshapedobjns = 'Failed'\n",
    "            lshapedsavens = 'Failed'\n",
    "            lshapedgapns = 'Failed'\n",
    "            lshapedtimens = 'Failed'\n",
    "        #L-shaped\n",
    "        try:    \n",
    "            lshaped, apprx, t2 = Mod3()\n",
    "            if lshaped.model.status in [2,9]:\n",
    "                lshapedobj = lshaped.model.ObjVal\n",
    "                lshapedsave = lshaped.variables.th.X\n",
    "                lshapedgap = lshaped.model.MIPGap\n",
    "                lshapedtime = t2\n",
    "            else:\n",
    "                lshapedobj = 'NA'\n",
    "                lshapedgap = 'NA'\n",
    "                lshapedtime = t2\n",
    "                lshapedsave = 'NA'\n",
    "        except (GurobiError, AttributeError, KeyboardInterrupt):\n",
    "            lshapedobj = 'Failed'\n",
    "            lshapedsave = 'Failed'\n",
    "            lshapedgap = 'Failed'\n",
    "            lshapedtime = 'Failed'\n",
    "        #Tabu\n",
    "        try:    \n",
    "            tabu, t3 = Mod4(lshaped)\n",
    "            tabuobj = tabu.best[-1]\n",
    "            tabusave = tabu.best[-3]\n",
    "            tabutime = t3\n",
    "        except (GurobiError, AttributeError, KeyboardInterrupt):\n",
    "            tabuobj = 'Failed'\n",
    "            tabusave = 'Failed'\n",
    "            tabutime = 'Failed'\n",
    "\n",
    "        csv_file = open('./Reports/Report.csv', 'a', newline='')\n",
    "        write = csv.writer(csv_file, delimiter=',')\n",
    "        write.writerow((str(rides),\n",
    "                        str(bus),\n",
    "                        str(scenarios),\n",
    "                        str(drpobj),\n",
    "                        str(drptime),\n",
    "                        str(twostageobj),\n",
    "                        str(twostagesave),\n",
    "                        str(twostagegap),\n",
    "                        str(twostagetime),\n",
    "                        str(lshapedobjns),\n",
    "                        str(lshapedsavens),\n",
    "                        str(lshapedgapns),\n",
    "                        str(lshapedtimens),\n",
    "                        str(lshapedobj),\n",
    "                        str(lshapedsave),\n",
    "                        str(lshapedgap),\n",
    "                        str(lshapedtime),\n",
    "                        str(tabuobj),\n",
    "                        str(tabusave),\n",
    "                        str(tabutime)))\n",
    "        csv_file.close()\n",
    "        "
   ]
  },
  {
   "cell_type": "raw",
   "metadata": {},
   "source": [
    "MIPGap = 0.001\n",
    "tests = [(3,1),(4,1),(5,1),(6,2),(7,2),(8,2),(9,2)]\n",
    "scenarioslist = [10,15,20]\n",
    "for s in scenarioslist:\n",
    "    scenarios = s\n",
    "    for test in tests:\n",
    "        rides, bus = test\n",
    "        mappy = Map(rides)        \n",
    "#         drpstw, t1 = Mod1()\n",
    "#         objdrpstw = drpstw.model.ObjVal\n",
    "        twosp, t2 = Mod2()\n",
    "        objtwosp = twosp.model.ObjVal\n",
    "        lshaped, t3 = Mod3() \n",
    "        objlshaped = lshaped.model.ObjVal\n",
    "#         tabu, t4 = Mod4()\n",
    "#         objtabu = tabu.best[-2]\n",
    "        write = [\n",
    "#             str(objdrpstw), str(t1),\n",
    "            str(objtwosp), str(t2),\n",
    "            str(objlshaped), str(t3),\n",
    "#             str(objtabu), str(t4),\n",
    "            str(scenarios),str(bus),str(rides)]\n",
    "        with open('report.txt', 'a') as file:\n",
    "            file.write('\\n')\n",
    "            for w in write:\n",
    "                file.write(w)\n",
    "                file.write(',')"
   ]
  },
  {
   "cell_type": "markdown",
   "metadata": {},
   "source": [
    "### DARP-STW Model"
   ]
  },
  {
   "cell_type": "markdown",
   "metadata": {},
   "source": [
    "#### Model Solution "
   ]
  },
  {
   "cell_type": "code",
   "execution_count": null,
   "metadata": {},
   "outputs": [],
   "source": [
    "drpstw, t1 = Mod1()"
   ]
  },
  {
   "cell_type": "code",
   "execution_count": null,
   "metadata": {},
   "outputs": [],
   "source": [
    "nodes = mappy.node\n",
    "edges = {k:[] for k in range(drpstw.bus)}\n",
    "for i, j in drpstw.parameters.edges:\n",
    "    for k in range(drpstw.bus):\n",
    "        if drpstw.variables.x[i,j,k].X > 0.5:\n",
    "            if j != drpstw.last:\n",
    "                edges[k].append((i,j))\n",
    "            else:\n",
    "                edges[k].append((i,0))\n",
    "\n",
    "objdrpstw = drpstw.model.ObjVal\n",
    "displaygraph(nodes, edges,'DARP-STW')\n",
    "nodes,edges"
   ]
  },
  {
   "cell_type": "markdown",
   "metadata": {},
   "source": [
    "### Two-Stage Stochastic Model"
   ]
  },
  {
   "cell_type": "markdown",
   "metadata": {},
   "source": [
    "#### Model Solution"
   ]
  },
  {
   "cell_type": "code",
   "execution_count": null,
   "metadata": {},
   "outputs": [],
   "source": [
    "twosp, savings, master, t2 = Mod2()"
   ]
  },
  {
   "cell_type": "code",
   "execution_count": null,
   "metadata": {},
   "outputs": [],
   "source": [
    "nodes = mappy.node\n",
    "edges = {k:[] for k in range(twosp.bus)}\n",
    "for i, j in twosp.parameters.edges:\n",
    "    for k in range(twosp.bus):\n",
    "        if twosp.MP.variables.x[i,j,k].X > 0.5:\n",
    "            if j != twosp.last:\n",
    "                edges[k].append((i,j))\n",
    "            else:\n",
    "                edges[k].append((i,0))\n",
    "\n",
    "objtwosp = twosp.model.ObjVal\n",
    "displaygraph(nodes, edges,'Two-Stage')\n",
    "nodes,edges"
   ]
  },
  {
   "cell_type": "markdown",
   "metadata": {},
   "source": [
    "### L-Shaped Method"
   ]
  },
  {
   "cell_type": "markdown",
   "metadata": {},
   "source": [
    "#### Model Solution"
   ]
  },
  {
   "cell_type": "code",
   "execution_count": null,
   "metadata": {
    "scrolled": true
   },
   "outputs": [],
   "source": [
    "lshaped, apprx, t3 = Mod3()"
   ]
  },
  {
   "cell_type": "code",
   "execution_count": null,
   "metadata": {},
   "outputs": [],
   "source": [
    "nodes = mappy.node\n",
    "edges = {k:[] for k in range(lshaped.bus)}\n",
    "for i, j in lshaped.parameters.edges:\n",
    "    for k in range(lshaped.bus):\n",
    "        if lshaped.variables.x[i,j,k].X > 0.5:\n",
    "            if j != lshaped.last:\n",
    "                edges[k].append((i,j))\n",
    "            else:\n",
    "                edges[k].append((i,0))\n",
    "bounds = lshaped.getcancel()\n",
    "objlshaped = lshaped.model.ObjVal\n",
    "displaygraph(nodes, edges,'L-Shaped')\n",
    "nodes,edges,bounds"
   ]
  },
  {
   "cell_type": "code",
   "execution_count": null,
   "metadata": {
    "scrolled": true
   },
   "outputs": [],
   "source": [
    "plot_trend(lshaped.upperbounds[2:],lshaped.lowerbounds[2:],0)"
   ]
  },
  {
   "cell_type": "code",
   "execution_count": null,
   "metadata": {},
   "outputs": [],
   "source": [
    "mostcancel = {i: 0 for i in lshaped.parameters.pickup}\n",
    "for i in lshaped.parameters.pickup:\n",
    "    for s in range(lshaped.scenarios):\n",
    "        mostcancel[i] += 2 - lshaped.submodel[s].sim.alpha[i] - lshaped.submodel[s].sim.alpha[i+lshaped.parameters.rides]\n",
    "mostcancel = sorted(mostcancel.items(), key=lambda x: (x[1]))\n",
    "mostcancel"
   ]
  },
  {
   "cell_type": "code",
   "execution_count": null,
   "metadata": {},
   "outputs": [],
   "source": [
    "lshaped.printsol()"
   ]
  },
  {
   "cell_type": "code",
   "execution_count": null,
   "metadata": {},
   "outputs": [],
   "source": [
    "from _datetime import timedelta\n",
    "str(timedelta(minutes=tabu.best[0][2].time))"
   ]
  },
  {
   "cell_type": "code",
   "execution_count": null,
   "metadata": {},
   "outputs": [],
   "source": [
    "sum((1/scenarios)*lshaped.submodel[i].model.ObjVal for i in lshaped.submodel.keys())"
   ]
  },
  {
   "cell_type": "markdown",
   "metadata": {},
   "source": [
    "### Tabu-Heuristic"
   ]
  },
  {
   "cell_type": "markdown",
   "metadata": {},
   "source": [
    "#### Model Solution"
   ]
  },
  {
   "cell_type": "code",
   "execution_count": null,
   "metadata": {
    "scrolled": true
   },
   "outputs": [],
   "source": [
    "tabu, t4 = Mod4(lshaped)"
   ]
  },
  {
   "cell_type": "code",
   "execution_count": null,
   "metadata": {},
   "outputs": [],
   "source": [
    "nodes = mappy.node\n",
    "edges = {k:[] for k in tabu.bus}\n",
    "for k in tabu.bus:\n",
    "    for i in tabu.best[k]:\n",
    "        n = tabu.best[k][i]\n",
    "        if i != tabu.model.last:\n",
    "            edges[k].append((i,n.next.key))\n",
    "objtabu = tabu.best[-2]\n",
    "displaygraph(nodes, edges,'Tabu')    \n",
    "nodes,edges, tabu.best"
   ]
  },
  {
   "cell_type": "code",
   "execution_count": null,
   "metadata": {},
   "outputs": [],
   "source": [
    "# tabu.best[0] = LinkedList()\n",
    "# [0,1,4,2,6,7,9,11]\n",
    "for i in tabu.bestcandidate[0]:\n",
    "    print(tabu.bestcandidate[0][i].bus)"
   ]
  },
  {
   "cell_type": "markdown",
   "metadata": {},
   "source": [
    "### L-Shaped Method (without Initialisation)"
   ]
  },
  {
   "cell_type": "markdown",
   "metadata": {},
   "source": [
    "#### Model Solution"
   ]
  },
  {
   "cell_type": "code",
   "execution_count": null,
   "metadata": {},
   "outputs": [],
   "source": [
    "lshaped_skp, t5 = Mod5()"
   ]
  },
  {
   "cell_type": "code",
   "execution_count": null,
   "metadata": {},
   "outputs": [],
   "source": [
    "nodes = mappy.node\n",
    "edges = {k:[] for k in tabu.bus}\n",
    "for k in tabutsp.bus:\n",
    "    for i in tabutsp.best[k]:\n",
    "        n = tabutsp.best[k][i]\n",
    "        if i != tabutsp.model.last:\n",
    "            edges[k].append((i,n.next.key))\n",
    "objtabutsp = tabutsp.best[-2]\n",
    "displaygraph(nodes, edges,'TabuTSP')    \n",
    "nodes,edges, tabutsp.best"
   ]
  },
  {
   "cell_type": "code",
   "execution_count": null,
   "metadata": {},
   "outputs": [],
   "source": [
    "t3,t4"
   ]
  },
  {
   "cell_type": "raw",
   "metadata": {},
   "source": [
    "mappy.pickup_time"
   ]
  },
  {
   "cell_type": "raw",
   "metadata": {},
   "source": [
    "# print(twosp.sim.alpha)\n",
    "lshaped.printsol(lshaped.submodel)"
   ]
  },
  {
   "cell_type": "raw",
   "metadata": {},
   "source": [
    "nodes = mappy.node\n",
    "edges = {k:[] for k in range(lshaped.bus)}\n",
    "for i, j in lshaped.parameters.edges:\n",
    "    for k in range(lshaped.bus):\n",
    "        if lshaped.submodel[3].variables.xs[i,j,k].X > 0.5:\n",
    "            if i == 0 and j == 9:\n",
    "                continue\n",
    "            if j != lshaped.last:\n",
    "                edges[k].append((i,j))\n",
    "            else:\n",
    "                edges[k].append((i,0))\n",
    "bounds = lshaped.getcancel()\n",
    "objlshaped = lshaped.model.ObjVal\n",
    "displaygraph(nodes, edges,'L-Shaped')\n",
    "nodes,edges"
   ]
  }
 ],
 "metadata": {
  "kernelspec": {
   "display_name": "Python 3",
   "language": "python",
   "name": "python3"
  },
  "language_info": {
   "codemirror_mode": {
    "name": "ipython",
    "version": 3
   },
   "file_extension": ".py",
   "mimetype": "text/x-python",
   "name": "python",
   "nbconvert_exporter": "python",
   "pygments_lexer": "ipython3",
   "version": "3.8.5"
  }
 },
 "nbformat": 4,
 "nbformat_minor": 2
}
