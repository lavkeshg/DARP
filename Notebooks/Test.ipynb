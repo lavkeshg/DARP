{
 "cells": [
  {
   "cell_type": "code",
   "execution_count": 1,
   "metadata": {},
   "outputs": [],
   "source": [
    "import os\n",
    "os.chdir(os.path.dirname(os.getcwd()))"
   ]
  },
  {
   "cell_type": "code",
   "execution_count": 2,
   "metadata": {},
   "outputs": [],
   "source": [
    "from Map import Map\n",
    "from Tabu import Tabu\n",
    "from TwoStage import TwoStage\n",
    "from L_shaped import MasterProblem as mp\n",
    "import matplotlib.pyplot as plt\n",
    "import matplotlib.pylab as pl \n",
    "import matplotlib.cm as cm\n",
    "import time\n",
    "import networkx as nx\n",
    "import matplotlib as mpl\n",
    "from gurobipy import *\n",
    "import csv"
   ]
  },
  {
   "cell_type": "markdown",
   "metadata": {},
   "source": [
    "**Modelling Parameters**"
   ]
  },
  {
   "cell_type": "code",
   "execution_count": 3,
   "metadata": {},
   "outputs": [],
   "source": [
    "rides = 5\n",
    "bus = 2\n",
    "scenarios = 20\n",
    "MIPGap = 0.001\n",
    "TimeLimit = 18000\n",
    "probability = [0.7, 0.1, 0.15, 0.05]"
   ]
  },
  {
   "cell_type": "markdown",
   "metadata": {},
   "source": [
    "**Defining the Map**"
   ]
  },
  {
   "cell_type": "code",
   "execution_count": 4,
   "metadata": {},
   "outputs": [],
   "source": [
    "mappy = Map(rides, seed=200)"
   ]
  },
  {
   "cell_type": "markdown",
   "metadata": {},
   "source": [
    "**Plotting Functions**"
   ]
  },
  {
   "cell_type": "code",
   "execution_count": 5,
   "metadata": {},
   "outputs": [],
   "source": [
    "def plot_trend(ub,lb,base):\n",
    "    x = list(range(len(ub)))\n",
    "    figure = plt.figure()\n",
    "    plt.plot(x,ub,label='upper-bound')\n",
    "    plt.plot(x,[base]*len(ub),label='two-stage')\n",
    "    plt.plot(x,lb,label='lower-bound')\n",
    "    plt.annotate(int(ub[-1]),[x[-1],ub[-1]])\n",
    "    plt.legend()\n",
    "    plt.savefig('./figures/trend.png')\n",
    "    plt.show()\n",
    "\n",
    "colors = ['green','blue','yellow','red','pink'] \n",
    "def displaygraph(n, e, modname):\n",
    "    for k in e.keys():\n",
    "        for i, j in e[k]:\n",
    "            plt.plot((n[i][0],n[j][0]),(n[i][1],n[j][1]), color=colors[k] ,marker='o', linewidth=2, linestyle='dashed')\n",
    "    for i in n:\n",
    "        plt.annotate(i,n[i],textcoords=\"offset points\",xytext=(0,10),ha='center')\n",
    "    plt.savefig('./figures/'+modname+'.png')\n",
    "    plt.show()\n"
   ]
  },
  {
   "cell_type": "markdown",
   "metadata": {},
   "source": [
    "#### Model formulation"
   ]
  },
  {
   "cell_type": "code",
   "execution_count": 6,
   "metadata": {},
   "outputs": [],
   "source": [
    "def Mod1(aux=False):\n",
    "    t1 = time.time()\n",
    "    drpstw = mp(mappy,bus=bus,scenarios=scenarios, probability=probability)\n",
    "    drpstw.initialize()\n",
    "    drpstw.setMIP()\n",
    "    drpstw.variables.th.obj=0\n",
    "    if aux:\n",
    "        drpstw.setLowerBound()\n",
    "        for s in range(drpstw.scenarios):\n",
    "            drpstw.submodel[s].model.params.MIPGap = MIPGap\n",
    "#             drpstw.submodel[s].model.params.OutputFlag = 1\n",
    "    else:\n",
    "        drpstw.model.params.TimeLimit = TimeLimit\n",
    "        drpstw.model.optimize()\n",
    "    t1 = time.time() - t1\n",
    "    return drpstw, t1"
   ]
  },
  {
   "cell_type": "code",
   "execution_count": 7,
   "metadata": {},
   "outputs": [],
   "source": [
    "def Mod2(model=None):\n",
    "    t2 = time.time()\n",
    "    twosp = TwoStage(mappy, bus=bus, scenarios=scenarios, probability=probability)\n",
    "    twosp.model.params.TimeLimit = TimeLimit\n",
    "    if model is not None:\n",
    "        for i,j,k in twosp.MP.variables.x.keys():\n",
    "            twosp.MP.variables.x[i,j,k].start = model.variables.x[i,j,k].X\n",
    "    twosp.optimize()\n",
    "    t2 = time.time() - t2\n",
    "    return twosp, t2"
   ]
  },
  {
   "cell_type": "code",
   "execution_count": 8,
   "metadata": {
    "scrolled": true
   },
   "outputs": [],
   "source": [
    "def Mod3():\n",
    "    t3 = time.time()\n",
    "    lshaped = mp(mappy, bus=bus, scenarios=scenarios, probability=probability)\n",
    "    lshaped.initialize()\n",
    "    lshaped.model.params.TimeLimit = TimeLimit\n",
    "    lshaped.optimize()\n",
    "    t3 = time.time() - t3\n",
    "    return lshaped, t3"
   ]
  },
  {
   "cell_type": "code",
   "execution_count": 9,
   "metadata": {},
   "outputs": [],
   "source": [
    "def Mod4(lshaped):\n",
    "    t4 = time.time()\n",
    "    if lshaped.submodel is not None:\n",
    "        tabu = Tabu(lshaped,tabu_iterations=200, tabu_status=3, rtoptm=5, subset=20, tsp=False)\n",
    "        tabu.tsp = True\n",
    "    else:\n",
    "        tabu = Tabu(lshaped,tabu_iterations=200, tabu_status=4, rtoptm=5, subset=20, tsp=True)\n",
    "    tabu.tabuheuristic()\n",
    "    t4 = time.time() - t4\n",
    "    return tabu, t4"
   ]
  },
  {
   "cell_type": "code",
   "execution_count": 10,
   "metadata": {},
   "outputs": [],
   "source": [
    "def Mod5(lshaped):\n",
    "    t5 = time.time()\n",
    "    tabutsp = Tabu(lshaped,tabu_itcerations=100, subset=10, tsp=True)\n",
    "    tabutsp.tabuheuristic()\n",
    "    t5 = time.time() - t5\n",
    "    return tabutsp, t5"
   ]
  },
  {
   "cell_type": "markdown",
   "metadata": {},
   "source": [
    "### Test Block"
   ]
  },
  {
   "cell_type": "code",
   "execution_count": null,
   "metadata": {
    "scrolled": true
   },
   "outputs": [],
   "source": [
    "TimeLimit = 18000\n",
    "tests = [(3,2),(4,2),(5,2),(6,2),(7,2),(9,3),(10,3),(11,3),(13,4),(15,4),(18,5),(20,5),(22,6),(24,6),(25,7),(27,8)]\n",
    "scenarioslist = [10,20,30]\n",
    "\n",
    "with open('./Reports/Report.csv', 'w', newline='') as csv_file:\n",
    "    write = csv.writer(csv_file, delimiter=',')\n",
    "    write.writerow(('Rides','Bus','Scenarios','TSPObj','TSPGap','TSPTime','LshapeObj','LshapeSave','LshapeGap','LshapeTime','TabuObj','TabuSave','TabuTime'))\n",
    "    for s in scenarioslist:\n",
    "        scenarios = s\n",
    "        for test in tests:\n",
    "            rides, bus = test\n",
    "            mappy = Map(rides)\n",
    "            #Two-Stage\n",
    "            try:    \n",
    "                twostage, t1 = Mod2()\n",
    "                if twostage.model.status in [2,9]:\n",
    "                    twostageobj = twostage.model.ObjVal\n",
    "                    twostagegap = twostage.model.MIPGap\n",
    "                    twostagetime = t1\n",
    "                else:\n",
    "                    twostageobj = 'NA'\n",
    "                    twostagegap = 'NA'\n",
    "                    twostagetime = t1\n",
    "            except GurobiError:\n",
    "                twostageobj = 'Failed'\n",
    "                twostagegap = 'Failed'\n",
    "                twostagetime = 'Failed'\n",
    "            #L-shaped\n",
    "            try:    \n",
    "                lshaped, t2 = Mod3()\n",
    "                if lshaped.model.status in [2,9]:\n",
    "                    lshapedobj = lshaped.model.ObjVal\n",
    "                    lshapedsave = lshaped.variables.th.X\n",
    "                    lshapedgap = lshaped.model.MIPGap\n",
    "                    lshapedtime = t2\n",
    "                else:\n",
    "                    lshapedobj = 'NA'\n",
    "                    lshapedgap = 'NA'\n",
    "                    lshapedtime = t2\n",
    "                    lshapedsave = 'NA'\n",
    "            except GurobiError:\n",
    "                lshapedobj = 'Failed'\n",
    "                lshapedsave = 'Failed'\n",
    "                lshapedgap = 'Failed'\n",
    "                lshapedtime = 'Failed'\n",
    "            #Tabu\n",
    "            try:    \n",
    "                tabu, t3 = Mod4(lshaped)\n",
    "                tabuobj = tabu.best[-1]\n",
    "                tabusave = tabu.best[-3]\n",
    "                tabutime = t3\n",
    "                \n",
    "            except GurobiError:\n",
    "                tabuobj = 'Failed'\n",
    "                tabusave = 'Failed'\n",
    "                tabutime = 'Failed'\n",
    "            \n",
    "            write.writerow((str(rides),\n",
    "                            str(bus),\n",
    "                            str(scenarios),\n",
    "                            str(twostageobj),\n",
    "                            str(twostagegap),\n",
    "                            str(twostagetime),\n",
    "                            str(lshapedobj),\n",
    "                            str(lshapedsave),\n",
    "                            str(lshapedgap),\n",
    "                            str(lshapedtime),\n",
    "                            str(tabuobj),\n",
    "                            str(tabusave),\n",
    "                            str(tabutime)))"
   ]
  },
  {
   "cell_type": "code",
   "execution_count": null,
   "metadata": {},
   "outputs": [],
   "source": [
    "MIPGap = 0.001\n",
    "tests = [(3,1),(4,1),(5,1),(6,2),(7,2),(8,2),(9,2)]\n",
    "scenarioslist = [10,15,20]\n",
    "for s in scenarioslist:\n",
    "    scenarios = s\n",
    "    for test in tests:\n",
    "        rides, bus = test\n",
    "        mappy = Map(rides)        \n",
    "#         drpstw, t1 = Mod1()\n",
    "#         objdrpstw = drpstw.model.ObjVal\n",
    "        twosp, t2 = Mod2()\n",
    "        objtwosp = twosp.model.ObjVal\n",
    "        lshaped, t3 = Mod3() \n",
    "        objlshaped = lshaped.model.ObjVal\n",
    "#         tabu, t4 = Mod4()\n",
    "#         objtabu = tabu.best[-2]\n",
    "        write = [\n",
    "#             str(objdrpstw), str(t1),\n",
    "            str(objtwosp), str(t2),\n",
    "            str(objlshaped), str(t3),\n",
    "#             str(objtabu), str(t4),\n",
    "            str(scenarios),str(bus),str(rides)]\n",
    "        with open('report.txt', 'a') as file:\n",
    "            file.write('\\n')\n",
    "            for w in write:\n",
    "                file.write(w)\n",
    "                file.write(',')"
   ]
  },
  {
   "cell_type": "markdown",
   "metadata": {},
   "source": [
    "### DARP-STW Model"
   ]
  },
  {
   "cell_type": "markdown",
   "metadata": {},
   "source": [
    "#### Model Solution "
   ]
  },
  {
   "cell_type": "code",
   "execution_count": null,
   "metadata": {},
   "outputs": [],
   "source": [
    "drpstw, t1 = Mod1()"
   ]
  },
  {
   "cell_type": "code",
   "execution_count": null,
   "metadata": {},
   "outputs": [],
   "source": [
    "nodes = mappy.node\n",
    "edges = {k:[] for k in range(drpstw.bus)}\n",
    "for i, j in drpstw.parameters.edges:\n",
    "    for k in range(drpstw.bus):\n",
    "        if drpstw.variables.x[i,j,k].X > 0.5:\n",
    "            if j != drpstw.last:\n",
    "                edges[k].append((i,j))\n",
    "            else:\n",
    "                edges[k].append((i,0))\n",
    "\n",
    "objdrpstw = drpstw.model.ObjVal\n",
    "displaygraph(nodes, edges,'DARP-STW')\n",
    "nodes,edges"
   ]
  },
  {
   "cell_type": "markdown",
   "metadata": {},
   "source": [
    "### Two-Stage Stochastic Model"
   ]
  },
  {
   "cell_type": "markdown",
   "metadata": {},
   "source": [
    "#### Model Solution"
   ]
  },
  {
   "cell_type": "code",
   "execution_count": null,
   "metadata": {},
   "outputs": [],
   "source": [
    "twosp, t2 = Mod2()"
   ]
  },
  {
   "cell_type": "code",
   "execution_count": null,
   "metadata": {},
   "outputs": [],
   "source": [
    "nodes = mappy.node\n",
    "edges = {k:[] for k in range(twosp.bus)}\n",
    "for i, j in twosp.parameters.edges:\n",
    "    for k in range(twosp.bus):\n",
    "        if twosp.MP.variables.x[i,j,k].X > 0.5:\n",
    "            if j != twosp.last:\n",
    "                edges[k].append((i,j))\n",
    "            else:\n",
    "                edges[k].append((i,0))\n",
    "\n",
    "objtwosp = twosp.model.ObjVal\n",
    "displaygraph(nodes, edges,'Two-Stage')\n",
    "nodes,edges"
   ]
  },
  {
   "cell_type": "markdown",
   "metadata": {},
   "source": [
    "### L-Shaped Method"
   ]
  },
  {
   "cell_type": "markdown",
   "metadata": {},
   "source": [
    "#### Model Solution"
   ]
  },
  {
   "cell_type": "code",
   "execution_count": 11,
   "metadata": {
    "scrolled": true
   },
   "outputs": [
    {
     "name": "stdout",
     "output_type": "stream",
     "text": [
      "Using license file C:\\Users\\lavkeshg\\gurobi.lic\n",
      "Academic license - for non-commercial use only\n",
      "Changed value of parameter lazyConstraints to 1\n",
      "   Prev: 0  Min: 0  Max: 1  Default: 0\n",
      "Changed value of parameter NodefileStart to 0.5\n",
      "   Prev: inf  Min: 0.0  Max: inf  Default: inf\n",
      "Changed value of parameter Presolve to 2\n",
      "   Prev: -1  Min: -1  Max: 2  Default: -1\n",
      "Changed value of parameter MIPFocus to 2\n",
      "   Prev: 0  Min: 0  Max: 3  Default: 0\n",
      "Parameter Heuristics unchanged\n",
      "   Value: 0.05  Min: 0.0  Max: 1.0  Default: 0.05\n",
      "Changed value of parameter TimeLimit to 18000.0\n",
      "   Prev: inf  Min: 0.0  Max: inf  Default: inf\n",
      "-58.3059212283606 -12.371540000000008\n",
      "45.93433083383516 -5.039452543087464e-05\n",
      "-57.18085543189045 -12.45680500000001\n",
      "46.0651338510836 1.3410834191931613\n",
      "-55.62857840694778 -14.236994999999997\n",
      "45.10695039306903 3.7153669861212393\n",
      "-53.558013182997456 -14.622376735721835\n",
      "43.821823207565295 4.886186760289675\n",
      "-49.023336614227446 -13.445430000000002\n",
      "41.37758928741507 5.799682673187625\n",
      "-32.79303523760156 -6.757465544664969\n",
      "33.531914703151486 7.496345010214895\n",
      "-31.83341059036769 -7.5664550000000075\n",
      "31.895842895189066 7.628887304821383\n",
      "-33.28617233553544 -9.354375000000008\n",
      "34.1303073362907 10.198510000755263\n",
      "-22.23082772629064 -8.350599999999995\n",
      "25.577048140478247 11.696820414187599\n",
      "-22.646627599859663 -8.164104999999994\n",
      "27.722118784085424 13.239596184225753\n",
      "-20.179399510512752 -8.122180000000006\n",
      "26.498790568850737 14.441571058337992\n",
      "-20.95973877438132 -8.245054999999999\n",
      "28.001272106036197 15.286588331654876\n",
      "-18.28134855810779 -7.730765000000003\n",
      "26.5592554652007 16.008671907092914\n",
      "-14.953454821211006 -7.72437\n",
      "23.358738039645402 16.1296532184344\n",
      "-16.605444126676957 -7.782530000000002\n",
      "25.47914065609097 16.656226529414013\n",
      "-14.426694416260473 -7.6417250000000045\n",
      "23.71770246934995 16.93273305308948\n",
      "-12.29567701276318 -7.148215000000003\n",
      "22.35316505563141 17.205703042868237\n",
      "-14.186876749215935 -7.763535000000005\n",
      "24.018472003080582 17.595130253864653\n",
      "-11.532880777396956 -8.196130000000004\n",
      "21.0634283584601 17.72667758106315\n",
      "-11.88344339715594 -8.364320000000001\n",
      "21.451905375009567 17.932781977853626\n",
      "-12.169800165708516 -9.073584999999998\n",
      "21.223479231166454 18.127264065457936\n",
      "-10.53013095642841 -8.923924999999999\n",
      "19.848951488095423 18.242745531667012\n",
      "-10.381404545929302 -9.064015000000003\n",
      "19.60519587156299 18.287806325633696\n",
      "-9.871453806731221 -9.079284999999997\n",
      "19.10907698839609 18.316908181664868\n",
      "-10.219836383295224 -9.470195\n",
      "19.089951553462356 18.340310170167132\n",
      "-9.780251332917345 -9.609380000000005\n",
      "18.543537196413237 18.372665863495897\n",
      "-9.688906203753266 -9.631245000000003\n",
      "18.43325738661069 18.37559618285743\n",
      "-9.696500524473947 -9.644415\n",
      "18.429794029150756 18.37770850467681\n",
      "-9.717599285395199 -9.641310000000004\n",
      "18.455436641151376 18.37914735575618\n",
      "-9.690860638535728 -9.610545000000002\n",
      "18.461074265877983 18.380758627342257\n",
      "-9.67770329610718 -9.666674999999998\n",
      "18.39263643210154 18.381608135994355\n",
      "Changed value of parameter OutputFlag to 1\n",
      "   Prev: 0  Min: 0  Max: 1  Default: 1\n",
      "Gurobi Optimizer version 9.0.2 build v9.0.2rc0 (win64)\n",
      "Optimize a model with 929 rows, 365 columns and 10323 nonzeros\n",
      "Model fingerprint: 0x1b676596\n",
      "Variable types: 143 continuous, 222 integer (222 binary)\n",
      "Coefficient statistics:\n",
      "  Matrix range     [5e-02, 1e+03]\n",
      "  Objective range  [1e+00, 9e+00]\n",
      "  Bounds range     [1e+00, 1e+04]\n",
      "  RHS range        [4e-06, 1e+03]\n",
      "Presolve removed 94 rows and 2 columns\n",
      "Presolve time: 0.05s\n",
      "Presolved: 835 rows, 363 columns, 11677 nonzeros\n",
      "Variable types: 143 continuous, 220 integer (220 binary)\n",
      "Presolve removed 7 rows and 0 columns\n",
      "Presolved: 828 rows, 363 columns, 11537 nonzeros\n",
      "\n",
      "\n",
      "Root relaxation: objective 1.882576e+01, 418 iterations, 0.04 seconds\n",
      "\n",
      "    Nodes    |    Current Node    |     Objective Bounds      |     Work\n",
      " Expl Unexpl |  Obj  Depth IntInf | Incumbent    BestBd   Gap | It/Node Time\n",
      "\n",
      "     0     0   18.82576    0   53          -   18.82576      -     -    0s\n",
      "     0     0   19.36999    0   70          -   19.36999      -     -    0s\n",
      "     0     0   19.79740    0   62          -   19.79740      -     -    0s\n",
      "     0     0   19.79740    0   62          -   19.79740      -     -    0s\n",
      "     0     0   21.14176    0   61          -   21.14176      -     -    0s\n",
      "     0     0   21.20489    0   63          -   21.20489      -     -    0s\n",
      "     0     0   21.24207    0   63          -   21.24207      -     -    0s\n",
      "     0     0   21.24207    0   63          -   21.24207      -     -    0s\n",
      "     0     0   22.31469    0   66          -   22.31469      -     -    0s\n",
      "     0     0   22.31469    0   66          -   22.31469      -     -    0s\n",
      "     0     0   22.74731    0   64          -   22.74731      -     -    0s\n",
      "     0     0   22.76752    0   69          -   22.76752      -     -    0s\n",
      "     0     0   22.77086    0   69          -   22.77086      -     -    0s\n",
      "     0     0   22.77721    0   69          -   22.77721      -     -    0s\n",
      "     0     0   23.15310    0   62          -   23.15310      -     -    0s\n",
      "     0     0   23.17637    0   62          -   23.17637      -     -    0s\n",
      "     0     0   23.19132    0   63          -   23.19132      -     -    0s\n",
      "     0     0   23.19161    0   63          -   23.19161      -     -    0s\n",
      "     0     0   23.33781    0   63          -   23.33781      -     -    1s\n",
      "     0     0   23.34463    0   66          -   23.34463      -     -    1s\n",
      "     0     0   23.34532    0   65          -   23.34532      -     -    1s\n",
      "     0     0   23.38116    0   65          -   23.38116      -     -    1s\n",
      "H    0     0                     363.1283249   23.38116  93.6%     -    1s\n",
      "     0     0   23.39788    0   65  363.12832   23.39788  93.6%     -    1s\n",
      "     0     0   23.39826    0   66  363.12832   23.39826  93.6%     -    1s\n",
      "     0     0   23.49135    0   64  363.12832   23.49135  93.5%     -    1s\n",
      "     0     0   23.49135    0   64  363.12832   23.49135  93.5%     -    1s\n",
      "     0     0   23.54709    0   62  363.12832   23.54709  93.5%     -    2s\n",
      "     0     0   23.54997    0   63  363.12832   23.54997  93.5%     -    2s\n",
      "     0     0   23.59496    0   62  363.12832   23.59496  93.5%     -    2s\n",
      "     0     0   23.60039    0   87  363.12832   23.60039  93.5%     -    2s\n",
      "     0     0   23.60056    0   88  363.12832   23.60056  93.5%     -    2s\n",
      "     0     0   23.60084    0   88  363.12832   23.60084  93.5%     -    2s\n",
      "     0     0   23.60084    0   88  363.12832   23.60084  93.5%     -    2s\n",
      "     0     2   23.60084    0   88  363.12832   23.60084  93.5%     -    2s\n",
      "*   75    68              14     269.9191985   24.59418  90.9%  33.2    3s\n",
      "H  139   115                     232.2000384   24.59418  89.4%  32.1    4s\n",
      "*  165   120              16     212.0726207   24.59418  88.4%  30.8    4s\n",
      "H  249   145                     183.6799817   24.59418  86.6%  26.6    5s\n",
      "H  545   218                     155.8601840   27.16733  82.6%  26.5    6s\n",
      "*  733   257              27     130.7103277   27.76037  78.8%  27.4    7s\n",
      "* 1040   275              13      97.9599012   29.20678  70.2%  25.7    8s\n",
      "* 1088   229              14      61.6022199   29.52604  52.1%  25.7    9s\n",
      "  1328   207   35.81391   20   39   61.60222   31.24075  49.3%  25.5   10s\n",
      "* 1964   121              20      61.1271488   35.49314  41.9%  23.7   14s\n",
      "  2044    77     cutoff   11        61.12715   36.87747  39.7%  23.3   15s\n",
      "\n",
      "Cutting planes:\n",
      "  Gomory: 2\n",
      "  Cover: 3\n",
      "  Implied bound: 20\n",
      "  Projected implied bound: 3\n",
      "  Clique: 4\n",
      "  MIR: 87\n",
      "  Flow cover: 520\n",
      "  Zero half: 79\n",
      "  RLT: 47\n",
      "  Relax-and-lift: 49\n",
      "  Lazy constraints: 43\n",
      "\n",
      "Explored 2277 nodes (52720 simplex iterations) in 15.80 seconds\n",
      "Thread count was 8 (of 8 available processors)\n",
      "\n",
      "Solution count 10: 61.1271 61.6022 97.9599 ... 363.128\n",
      "\n",
      "Optimal solution found (tolerance 1.00e-04)\n",
      "Best objective 6.112714884225e+01, best bound 6.112714884225e+01, gap 0.0000%\n",
      "\n",
      "User-callback calls 6920, time in user-callback 10.62 sec\n",
      "Apprx = 61.127149\n",
      "ObjVal = 69.052264\n",
      "25  Integrality Cuts integrated into the model\n",
      "50  Sub-Gradient Cuts integrated into the model\n"
     ]
    }
   ],
   "source": [
    "lshaped, t3 = Mod3()"
   ]
  },
  {
   "cell_type": "code",
   "execution_count": null,
   "metadata": {},
   "outputs": [],
   "source": [
    "lshaped.LazyInt"
   ]
  },
  {
   "cell_type": "code",
   "execution_count": null,
   "metadata": {},
   "outputs": [],
   "source": [
    "nodes = mappy.node\n",
    "edges = {k:[] for k in range(lshaped.bus)}\n",
    "for i, j in lshaped.parameters.edges:\n",
    "    for k in range(lshaped.bus):\n",
    "        if lshaped.variables.x[i,j,k].X > 0.5:\n",
    "            if j != lshaped.last:\n",
    "                edges[k].append((i,j))\n",
    "            else:\n",
    "                edges[k].append((i,0))\n",
    "bounds = lshaped.getcancel()\n",
    "objlshaped = lshaped.model.ObjVal\n",
    "displaygraph(nodes, edges,'L-Shaped')\n",
    "nodes,edges,bounds"
   ]
  },
  {
   "cell_type": "code",
   "execution_count": null,
   "metadata": {
    "scrolled": true
   },
   "outputs": [],
   "source": [
    "plot_trend(lshaped.upperbounds[2:],lshaped.lowerbounds[2:],0)"
   ]
  },
  {
   "cell_type": "code",
   "execution_count": null,
   "metadata": {},
   "outputs": [],
   "source": [
    "mostcancel = {i: 0 for i in lshaped.parameters.pickup}\n",
    "for i in lshaped.parameters.pickup:\n",
    "    for s in range(lshaped.scenarios):\n",
    "        mostcancel[i] += 2 - lshaped.submodel[s].sim.alpha[i] - lshaped.submodel[s].sim.alpha[i+lshaped.parameters.rides]\n",
    "mostcancel = sorted(mostcancel.items(), key=lambda x: (x[1]))\n",
    "mostcancel"
   ]
  },
  {
   "cell_type": "code",
   "execution_count": 12,
   "metadata": {},
   "outputs": [
    {
     "name": "stdout",
     "output_type": "stream",
     "text": [
      "Routing for bus 1\n",
      "+---------+------+-------------+---------------+\n",
      "| Pick-up | Drop | Pickup time | Drop-off time |\n",
      "+---------+------+-------------+---------------+\n",
      "|    6    |  7   |    9:36     |     10:04     |\n",
      "+---------+------+-------------+---------------+\n",
      "|    2    |  6   |    9:20     |     9:36      |\n",
      "+---------+------+-------------+---------------+\n",
      "|    0    |  1   |    8:18     |     8:24      |\n",
      "+---------+------+-------------+---------------+\n",
      "|    9    |  11  |    10:35    |     10:51     |\n",
      "+---------+------+-------------+---------------+\n",
      "|    1    |  4   |    8:24     |     8:46      |\n",
      "+---------+------+-------------+---------------+\n",
      "|    4    |  2   |    8:46     |     9:20      |\n",
      "+---------+------+-------------+---------------+\n",
      "|    7    |  9   |    10:04    |     10:35     |\n",
      "+---------+------+-------------+---------------+\n",
      "Routing for bus 2\n",
      "+---------+------+-------------+---------------+\n",
      "| Pick-up | Drop | Pickup time | Drop-off time |\n",
      "+---------+------+-------------+---------------+\n",
      "|    8    |  5   |    12:48    |     13:04     |\n",
      "+---------+------+-------------+---------------+\n",
      "|    5    |  10  |    13:04    |     13:32     |\n",
      "+---------+------+-------------+---------------+\n",
      "|   10    |  11  |    13:32    |     14:09     |\n",
      "+---------+------+-------------+---------------+\n",
      "|    0    |  3   |    12:11    |     12:20     |\n",
      "+---------+------+-------------+---------------+\n",
      "|    3    |  8   |    12:20    |     12:48     |\n",
      "+---------+------+-------------+---------------+\n"
     ]
    }
   ],
   "source": [
    "lshaped.printsol()"
   ]
  },
  {
   "cell_type": "code",
   "execution_count": null,
   "metadata": {},
   "outputs": [],
   "source": [
    "sum((1/scenarios)*lshaped.submodel[i].model.ObjVal for i in lshaped.submodel.keys())"
   ]
  },
  {
   "cell_type": "markdown",
   "metadata": {},
   "source": [
    "### Tabu-Heuristic"
   ]
  },
  {
   "cell_type": "markdown",
   "metadata": {},
   "source": [
    "#### Model Solution"
   ]
  },
  {
   "cell_type": "code",
   "execution_count": 13,
   "metadata": {
    "scrolled": true
   },
   "outputs": [
    {
     "name": "stdout",
     "output_type": "stream",
     "text": [
      "Building Initial Solution\n",
      "Starting Heuristic\n",
      "Neighborhood length: 5 (iteration 1)\n",
      "321.89351381668445 800.8252932098392\n",
      "Neighborhood length: 4 (iteration 2)\n",
      "138.92479045318763 321.89351381668445\n",
      "Neighborhood length: 3 (iteration 3)\n",
      "138.92479045318763 138.92479045318763\n",
      "Neighborhood length: 3 (iteration 4)\n",
      "138.92479045318763 138.92479045318763\n",
      "Neighborhood length: 3 (iteration 5)\n",
      "138.92479045318763 138.92479045318763\n",
      "Neighborhood length: 3 (iteration 6)\n",
      "138.92479045318763 138.92479045318763\n",
      "Neighborhood length: 3 (iteration 7)\n",
      "97.36410153125571 138.92479045318763\n",
      "Neighborhood length: 3 (iteration 8)\n",
      "97.36410153125571 97.36410153125571\n",
      "Neighborhood length: 3 (iteration 9)\n",
      "97.36410153125571 97.36410153125571\n",
      "Neighborhood length: 3 (iteration 10)\n",
      "97.36410153125571 97.36410153125571\n",
      "Neighborhood length: 3 (iteration 11)\n",
      "97.36410153125571 97.36410153125571\n",
      "Neighborhood length: 3 (iteration 12)\n",
      "97.36410153125571 97.36410153125571\n",
      "Neighborhood length: 3 (iteration 13)\n",
      "97.36410153125571 97.36410153125571\n",
      "Neighborhood length: 3 (iteration 14)\n",
      "97.36410153125571 97.36410153125571\n",
      "Neighborhood length: 3 (iteration 15)\n",
      "97.36410153125571 97.36410153125571\n",
      "Neighborhood length: 3 (iteration 16)\n",
      "97.36410153125571 97.36410153125571\n",
      "Neighborhood length: 3 (iteration 17)\n",
      "97.36410153125571 97.36410153125571\n",
      "Neighborhood length: 3 (iteration 18)\n",
      "97.36410153125571 97.36410153125571\n",
      "Neighborhood length: 3 (iteration 19)\n",
      "97.36410153125571 97.36410153125571\n",
      "Neighborhood length: 3 (iteration 20)\n",
      "97.36410153125571 97.36410153125571\n",
      "Neighborhood length: 3 (iteration 21)\n",
      "97.36410153125571 97.36410153125571\n",
      "Neighborhood length: 3 (iteration 22)\n",
      "97.36410153125571 97.36410153125571\n",
      "Neighborhood length: 3 (iteration 23)\n",
      "97.36410153125571 97.36410153125571\n",
      "Neighborhood length: 3 (iteration 24)\n",
      "97.36410153125571 97.36410153125571\n",
      "Neighborhood length: 3 (iteration 25)\n",
      "97.36410153125571 97.36410153125571\n",
      "Neighborhood length: 3 (iteration 26)\n",
      "97.36410153125571 97.36410153125571\n",
      "Neighborhood length: 3 (iteration 27)\n",
      "97.36410153125571 97.36410153125571\n",
      "Neighborhood length: 3 (iteration 28)\n",
      "97.36410153125571 97.36410153125571\n",
      "Neighborhood length: 3 (iteration 29)\n",
      "97.36410153125571 97.36410153125571\n",
      "Neighborhood length: 3 (iteration 30)\n",
      "97.36410153125571 97.36410153125571\n",
      "Neighborhood length: 3 (iteration 31)\n",
      "97.36410153125571 97.36410153125571\n",
      "Neighborhood length: 3 (iteration 32)\n",
      "97.36410153125571 97.36410153125571\n",
      "Neighborhood length: 3 (iteration 33)\n",
      "97.36410153125571 97.36410153125571\n",
      "Neighborhood length: 3 (iteration 34)\n",
      "97.36410153125571 97.36410153125571\n",
      "Neighborhood length: 3 (iteration 35)\n",
      "97.36410153125571 97.36410153125571\n",
      "Neighborhood length: 3 (iteration 36)\n",
      "97.36410153125571 97.36410153125571\n",
      "Neighborhood length: 3 (iteration 37)\n",
      "97.36410153125571 97.36410153125571\n",
      "Neighborhood length: 3 (iteration 38)\n",
      "97.36410153125571 97.36410153125571\n",
      "Neighborhood length: 3 (iteration 39)\n",
      "97.36410153125571 97.36410153125571\n",
      "Neighborhood length: 3 (iteration 40)\n",
      "97.36410153125571 97.36410153125571\n",
      "Neighborhood length: 3 (iteration 41)\n",
      "97.36410153125571 97.36410153125571\n",
      "Neighborhood length: 3 (iteration 42)\n",
      "97.36410153125571 97.36410153125571\n",
      "Neighborhood length: 3 (iteration 43)\n",
      "97.36410153125571 97.36410153125571\n",
      "Neighborhood length: 3 (iteration 44)\n",
      "97.36410153125571 97.36410153125571\n",
      "Neighborhood length: 3 (iteration 45)\n",
      "97.36410153125571 97.36410153125571\n",
      "Neighborhood length: 3 (iteration 46)\n",
      "97.36410153125571 97.36410153125571\n",
      "Neighborhood length: 3 (iteration 47)\n",
      "97.36410153125571 97.36410153125571\n",
      "Neighborhood length: 3 (iteration 48)\n",
      "97.36410153125571 97.36410153125571\n",
      "Neighborhood length: 3 (iteration 49)\n",
      "97.36410153125571 97.36410153125571\n",
      "Neighborhood length: 3 (iteration 50)\n",
      "97.36410153125571 97.36410153125571\n",
      "Neighborhood length: 3 (iteration 51)\n",
      "97.36410153125571 97.36410153125571\n"
     ]
    }
   ],
   "source": [
    "tabu, t4 = Mod4(lshaped)"
   ]
  },
  {
   "cell_type": "code",
   "execution_count": 14,
   "metadata": {},
   "outputs": [
    {
     "data": {
      "image/png": "[encoded data removed]",
      "text/plain": [
       "<Figure size 432x288 with 1 Axes>"
      ]
     },
     "metadata": {
      "needs_background": "light"
     },
     "output_type": "display_data"
    },
    {
     "data": {
      "text/plain": [
       "({0: (2.6671226260336733, 0.11472960500748308),\n",
       "  1: (4.399705433090418, 1.672104054587421),\n",
       "  2: (0.16226131011587097, 2.781366738635583),\n",
       "  3: (4.597999247302336, 1.9285636878249712),\n",
       "  4: (8.528244429906145, 3.0002455193093036),\n",
       "  5: (7.008269160039364, 3.509502235742331),\n",
       "  6: (1.0094211595822156, 4.3458724193158105),\n",
       "  7: (6.856550495783891, 4.8700804482709135),\n",
       "  8: (6.421958261391797, 1.2173880439760654),\n",
       "  9: (1.3990110801878353, 1.3013328971009641),\n",
       "  10: (4.9166847140006, 8.609822704622246),\n",
       "  11: (2.6671226260336733, 0.11472960500748308)},\n",
       " {0: [(0, 3), (3, 8), (8, 5), (5, 10), (10, 11)],\n",
       "  1: [(0, 1), (1, 6), (6, 4), (4, 2), (2, 9), (9, 7), (7, 11)]},\n",
       " {0: 0-->3-->8-->5-->10-->11,\n",
       "  1: 0-->1-->6-->4-->2-->9-->7-->11,\n",
       "  -1: 97.36410153125571,\n",
       "  -2: 112.49164908331204,\n",
       "  -3: -15.127547552056322})"
      ]
     },
     "execution_count": 14,
     "metadata": {},
     "output_type": "execute_result"
    }
   ],
   "source": [
    "nodes = mappy.node\n",
    "edges = {k:[] for k in tabu.bus}\n",
    "for k in tabu.bus:\n",
    "    for i in tabu.best[k]:\n",
    "        n = tabu.best[k][i]\n",
    "        if i != tabu.model.last:\n",
    "            edges[k].append((i,n.next.key))\n",
    "objtabu = tabu.best[-2]\n",
    "displaygraph(nodes, edges,'Tabu')    \n",
    "nodes,edges, tabu.best"
   ]
  },
  {
   "cell_type": "code",
   "execution_count": null,
   "metadata": {},
   "outputs": [],
   "source": [
    "# tabu.best[0] = LinkedList()\n",
    "# [0,1,4,2,6,7,9,11]\n",
    "for i in tabu.bestcandidate[0]:\n",
    "    print(tabu.bestcandidate[0][i].bus)"
   ]
  },
  {
   "cell_type": "code",
   "execution_count": null,
   "metadata": {},
   "outputs": [],
   "source": [
    "tabutsp, t5 = Mod5()"
   ]
  },
  {
   "cell_type": "code",
   "execution_count": null,
   "metadata": {},
   "outputs": [],
   "source": [
    "nodes = mappy.node\n",
    "edges = {k:[] for k in tabu.bus}\n",
    "for k in tabutsp.bus:\n",
    "    for i in tabutsp.best[k]:\n",
    "        n = tabutsp.best[k][i]\n",
    "        if i != tabutsp.model.last:\n",
    "            edges[k].append((i,n.next.key))\n",
    "objtabutsp = tabutsp.best[-2]\n",
    "displaygraph(nodes, edges,'TabuTSP')    \n",
    "nodes,edges, tabutsp.best"
   ]
  },
  {
   "cell_type": "code",
   "execution_count": null,
   "metadata": {},
   "outputs": [],
   "source": [
    "t3,t4"
   ]
  },
  {
   "cell_type": "code",
   "execution_count": null,
   "metadata": {},
   "outputs": [],
   "source": [
    "mappy.pickup_time"
   ]
  },
  {
   "cell_type": "code",
   "execution_count": null,
   "metadata": {},
   "outputs": [],
   "source": [
    "# print(twosp.sim.alpha)\n",
    "lshaped.printsol(lshaped.submodel)"
   ]
  },
  {
   "cell_type": "code",
   "execution_count": null,
   "metadata": {},
   "outputs": [],
   "source": [
    "nodes = mappy.node\n",
    "edges = {k:[] for k in range(lshaped.bus)}\n",
    "for i, j in lshaped.parameters.edges:\n",
    "    for k in range(lshaped.bus):\n",
    "        if lshaped.submodel[3].variables.xs[i,j,k].X > 0.5:\n",
    "            if i == 0 and j == 9:\n",
    "                continue\n",
    "            if j != lshaped.last:\n",
    "                edges[k].append((i,j))\n",
    "            else:\n",
    "                edges[k].append((i,0))\n",
    "bounds = lshaped.getcancel()\n",
    "objlshaped = lshaped.model.ObjVal\n",
    "displaygraph(nodes, edges,'L-Shaped')\n",
    "nodes,edges"
   ]
  },
  {
   "cell_type": "code",
   "execution_count": null,
   "metadata": {},
   "outputs": [],
   "source": [
    "drpstw"
   ]
  }
 ],
 "metadata": {
  "kernelspec": {
   "display_name": "Python 3",
   "language": "python",
   "name": "python3"
  },
  "language_info": {
   "codemirror_mode": {
    "name": "ipython",
    "version": 3
   },
   "file_extension": ".py",
   "mimetype": "text/x-python",
   "name": "python",
   "nbconvert_exporter": "python",
   "pygments_lexer": "ipython3",
   "version": "3.7.7"
  }
 },
 "nbformat": 4,
 "nbformat_minor": 2
}
