{
 "cells": [
  {
   "cell_type": "code",
   "execution_count": 1,
   "metadata": {},
   "outputs": [],
   "source": [
    "import os\n",
    "os.chdir(os.path.dirname(os.getcwd()))"
   ]
  },
  {
   "cell_type": "code",
   "execution_count": 2,
   "metadata": {},
   "outputs": [],
   "source": [
    "from Map import Map\n",
    "from Tabu import Tabu\n",
    "from TwoStage import TwoStage\n",
    "from L_shaped import MasterProblem as mp\n",
    "import matplotlib.pyplot as plt\n",
    "import matplotlib.pylab as pl \n",
    "import matplotlib.cm as cm\n",
    "import time\n",
    "import networkx as nx\n",
    "import matplotlib as mpl"
   ]
  },
  {
   "cell_type": "markdown",
   "metadata": {},
   "source": [
    "**Modelling Parameters**"
   ]
  },
  {
   "cell_type": "code",
   "execution_count": 3,
   "metadata": {},
   "outputs": [],
   "source": [
    "rides = 5\n",
    "bus = 1\n",
    "scenarios = 25\n",
    "MIPGap = 0.001\n",
    "probability = [0.7, 0.1, 0.15, 0.05]"
   ]
  },
  {
   "cell_type": "markdown",
   "metadata": {},
   "source": [
    "**Defining the Map**"
   ]
  },
  {
   "cell_type": "code",
   "execution_count": 4,
   "metadata": {},
   "outputs": [],
   "source": [
    "mappy = Map(rides)"
   ]
  },
  {
   "cell_type": "markdown",
   "metadata": {
    "scrolled": true
   },
   "source": [
    "def Mod3():\n",
    "    t3 = time.time()\n",
    "    lshaped = mp(\n",
    "        mappy,\n",
    "        bus=bus,\n",
    "        scenarios=scenarios,\n",
    "#         probability=probability\n",
    "    )\n",
    "    lshaped.initialize()\n",
    "    lshaped.model.params.MIPGap = MIPGap\n",
    "    lshaped.optimize()\n",
    "    t3 = time.time() - t3\n",
    "    return lshaped, t3"
   ]
  },
  {
   "cell_type": "markdown",
   "metadata": {},
   "source": [
    "**Plotting Functions**"
   ]
  },
  {
   "cell_type": "code",
   "execution_count": 5,
   "metadata": {},
   "outputs": [],
   "source": [
    "def plot_trend(ub,lb,base):\n",
    "    x = list(range(len(ub)))\n",
    "    figure = plt.figure()\n",
    "    plt.plot(x,ub,label='upper-bound')\n",
    "    plt.plot(x,[base]*len(ub),label='two-stage')\n",
    "    plt.plot(x,lb,label='lower-bound')\n",
    "    plt.annotate(int(ub[-1]),[x[-1],ub[-1]])\n",
    "    plt.legend()\n",
    "    plt.savefig('./figures/trend.png')\n",
    "    plt.show()\n",
    "\n",
    "colors = ['green','blue','yellow','red','pink'] \n",
    "def displaygraph(n, e, modname):\n",
    "    for k in e.keys():\n",
    "        for i, j in e[k]:\n",
    "            plt.plot((n[i][0],n[j][0]),(n[i][1],n[j][1]), color=colors[k] ,marker='o', linewidth=2, linestyle='dashed')\n",
    "    for i in n:\n",
    "        plt.annotate(i,n[i],textcoords=\"offset points\",xytext=(0,10),ha='center')\n",
    "    plt.savefig('./figures/'+modname+'.png')\n",
    "    plt.show()\n"
   ]
  },
  {
   "cell_type": "code",
   "execution_count": 6,
   "metadata": {
    "scrolled": true
   },
   "outputs": [
    {
     "name": "stdout",
     "output_type": "stream",
     "text": [
      "Using license file C:\\Users\\lavkeshg\\gurobi.lic\n",
      "Academic license - for non-commercial use only\n",
      "Changed value of parameter lazyConstraints to 1\n",
      "   Prev: 0  Min: 0  Max: 1  Default: 0\n",
      "Changed value of parameter NodefileStart to 0.5\n",
      "   Prev: inf  Min: 0.0  Max: inf  Default: inf\n",
      "Changed value of parameter Presolve to 2\n",
      "   Prev: -1  Min: -1  Max: 2  Default: -1\n",
      "Changed value of parameter MIPFocus to 2\n",
      "   Prev: 0  Min: 0  Max: 3  Default: 0\n",
      "Parameter Heuristics unchanged\n",
      "   Value: 0.05  Min: 0.0  Max: 1.0  Default: 0.05\n",
      "-73.33230631182596 -8.894132000000017\n",
      "63.85392488672663 -0.5842494250993155\n",
      "-68.66652689562943 -7.202689999999988\n",
      "61.3038531446517 -0.15998375097774442\n",
      "-65.18302050001512 -7.69211905001866\n",
      "58.7705820771816 1.2796806271851437\n",
      "-59.099887127946204 -6.236673185740636\n",
      "55.30174667137381 2.4385327291682444\n",
      "-52.37823253396687 -6.417772268117353\n",
      "50.02114677715364 4.0606865113041195\n",
      "-25.192609961277117 -2.198749492456355\n",
      "31.63021942059409 8.636358951773328\n",
      "-25.406973590678838 -2.3024786612738555\n",
      "31.863407745020357 8.758912815615375\n",
      "-17.587012718614954 -2.161680524106961\n",
      "25.803772060725315 10.378439866217324\n",
      "-17.539673293688853 -2.1811956860292048\n",
      "25.744443175852844 10.385965568193196\n",
      "-16.958344317127892 -2.567465051456308\n",
      "26.35158805052687 11.960708784855289\n",
      "-15.441657108227446 -2.119633009950503\n",
      "26.35944699651708 13.037422898240134\n",
      "-15.623775991978517 -2.2000114092121517\n",
      "27.54665712202898 14.122892539262613\n",
      "-15.690250581060095 -2.641916000000003\n",
      "27.17731331015124 14.128978729091148\n",
      "-9.59543333225944 -1.424580770955301\n",
      "23.90643039786891 15.735577836564772\n",
      "-9.578356733272866 -1.462087301632031\n",
      "23.852111605170098 15.735842173529264\n",
      "-9.11665868827913 -1.6463555766055555\n",
      "23.95396659728241 16.483663485608833\n",
      "-9.123996538153333 -1.6679059612736256\n",
      "23.94231647062334 16.48622589374363\n",
      "-6.070622899179882 -1.4431416215218036\n",
      "21.814392030285656 17.18691075262758\n",
      "-5.98772682661312 -1.63123583786675\n",
      "22.08463529626273 17.72814430751636\n",
      "-5.142575740430103 -1.6585953016320283\n",
      "21.410349203573833 17.92636876477576\n",
      "-7.654861007855835 -1.9917677929889408\n",
      "23.833427293050075 18.17033407818318\n",
      "-7.674577686537471 -1.9935541000373287\n",
      "23.851498288043082 18.17047470154294\n",
      "-6.608258651703758 -1.8300966473236027\n",
      "23.59626740066432 18.818105396284167\n",
      "-6.606236555013947 -1.8373598713111479\n",
      "23.58814371035189 18.81926702664909\n",
      "-6.066226047155649 -1.9976967563777663\n",
      "23.05590474173982 18.987375450961938\n",
      "-5.379954006106345 -1.8285805482294433\n",
      "23.00147730702827 19.45010384915137\n",
      "-5.498831160297038 -1.8713030102120123\n",
      "23.078031807376842 19.45050365729182\n",
      "-2.506202709502946 -1.3680036653785959\n",
      "20.770135406455328 19.631936362330975\n",
      "-2.505897046196678 -1.4334874787760503\n",
      "20.70438553055634 19.631975963135712\n",
      "-2.499845997277121 -1.7712024694459203\n",
      "20.361403446390412 19.632759918559213\n",
      "-2.566911441018879 -1.663487301632033\n",
      "20.715778841705536 19.81235470231869\n",
      "-3.1406045335964725 -1.6875479999999983\n",
      "21.360152934425628 19.907096400829154\n",
      "-2.344478050899458 -1.6667107663223446\n",
      "20.62229404929492 19.944526764717807\n",
      "-2.1823057513663673 -1.7061505750279888\n",
      "20.437301980602065 19.961146804263688\n",
      "-2.040881017129144 -1.8297181899705737\n",
      "20.25949290693447 20.048330079775898\n",
      "-2.041022745122866 -1.8368950500186576\n",
      "20.252483758161812 20.048356063057604\n",
      "-2.206631184438186 -1.810723258649488\n",
      "20.496402680031238 20.10049475424254\n",
      "-2.2062990206365263 -1.818978100037321\n",
      "20.487816824109206 20.10049590351\n",
      "-1.9564414596362185 -1.8693984694459151\n",
      "20.18840338634782 20.101360396157517\n",
      "-2.024810966052486 -1.817677234722955\n",
      "20.31312969505138 20.10599596372185\n",
      "-2.0293921388247913 -1.8759400000000004\n",
      "20.26882854554671 20.11537640672192\n",
      "-2.1649879327772874 -1.8911160000000022\n",
      "20.392735362521574 20.11886342974429\n",
      "-1.8801629004276912 -1.858534660740278\n",
      "20.146623755323425 20.124995515636012\n",
      "-1.8830300004182423 -1.8729304694459175\n",
      "20.13738743476149 20.127287903789167\n",
      "Changed value of parameter OutputFlag to 1\n",
      "   Prev: 0  Min: 0  Max: 1  Default: 1\n",
      "Gurobi Optimizer version 9.0.2 build v9.0.2rc0 (win64)\n",
      "Optimize a model with 503 rows, 252 columns and 6688 nonzeros\n",
      "Model fingerprint: 0x59e67948\n",
      "Variable types: 141 continuous, 111 integer (111 binary)\n",
      "Coefficient statistics:\n",
      "  Matrix range     [4e-02, 1e+03]\n",
      "  Objective range  [1e+00, 1e+01]\n",
      "  Bounds range     [1e+00, 1e+04]\n",
      "  RHS range        [1e-04, 1e+03]\n",
      "Presolve removed 47 rows and 1 columns\n",
      "Presolve time: 0.02s\n",
      "Presolved: 456 rows, 251 columns, 6031 nonzeros\n",
      "Variable types: 141 continuous, 110 integer (110 binary)\n",
      "Presolve removed 11 rows and 0 columns\n",
      "Presolved: 445 rows, 251 columns, 5911 nonzeros\n",
      "\n",
      "\n",
      "Root relaxation: objective 2.119923e+01, 150 iterations, 0.01 seconds\n",
      "\n",
      "    Nodes    |    Current Node    |     Objective Bounds      |     Work\n",
      " Expl Unexpl |  Obj  Depth IntInf | Incumbent    BestBd   Gap | It/Node Time\n",
      "\n",
      "     0     0   21.19923    0   29          -   21.19923      -     -    0s\n",
      "     0     0   24.26595    0   38          -   24.26595      -     -    0s\n",
      "     0     0   28.11151    0   29          -   28.11151      -     -    0s\n",
      "     0     0   28.35647    0   31          -   28.35647      -     -    0s\n",
      "     0     0   30.58137    0   28          -   30.58137      -     -    0s\n",
      "     0     0   30.59404    0   25          -   30.59404      -     -    0s\n",
      "     0     0   31.43422    0   32          -   31.43422      -     -    0s\n",
      "     0     0   31.51186    0   32          -   31.51186      -     -    0s\n",
      "     0     0   31.55861    0   33          -   31.55861      -     -    0s\n",
      "     0     0   31.55861    0   33          -   31.55861      -     -    0s\n",
      "     0     0   32.15570    0   28          -   32.15570      -     -    0s\n",
      "H    0     0                     621.4959173   32.15570  94.8%     -    0s\n",
      "     0     0   32.15570    0   28  621.49592   32.15570  94.8%     -    0s\n",
      "     0     0   34.18867    0   22  621.49592   34.18867  94.5%     -    0s\n",
      "     0     0   34.70701    0   29  621.49592   34.70701  94.4%     -    0s\n",
      "     0     0   34.76386    0   14  621.49592   34.76386  94.4%     -    0s\n",
      "     0     0   34.76718    0   30  621.49592   34.76718  94.4%     -    0s\n",
      "     0     0   35.15575    0   27  621.49592   35.15575  94.3%     -    0s\n",
      "H    0     0                     253.4133520   35.15575  86.1%     -    1s\n",
      "     0     0   35.15575    0   27  253.41335   35.15575  86.1%     -    1s\n",
      "     0     0   35.22259    0   29  253.41335   35.22259  86.1%     -    1s\n",
      "     0     0   35.23024    0   26  253.41335   35.23024  86.1%     -    1s\n",
      "     0     0   35.23024    0   26  253.41335   35.23024  86.1%     -    1s\n",
      "     0     0   35.24210    0   30  253.41335   35.24210  86.1%     -    1s\n",
      "     0     0   35.24210    0   30  253.41335   35.24210  86.1%     -    1s\n",
      "     0     0   35.24338    0   29  253.41335   35.24338  86.1%     -    1s\n",
      "     0     0   35.24338    0   29  253.41335   35.24338  86.1%     -    1s\n",
      "     0     2   37.34000    0   29  253.41335   37.34000  85.3%     -    1s\n",
      "H    4     5                     177.3085845   37.34000  78.9%  20.8    1s\n",
      "H    6     5                     171.6981343   37.34000  78.3%  20.8    2s\n",
      "H   31    33                     111.3707924   37.64835  66.2%  19.0    2s\n",
      "H  232   102                     111.3093814   41.31626  62.9%  15.7    3s\n",
      "H  260   108                      99.4730633   42.68132  57.1%  16.3    3s\n",
      "H  311   112                      82.2730633   44.48938  45.9%  16.7    3s\n",
      "*  365   118              15      79.1930633   46.30241  41.5%  16.5    4s\n",
      "*  395   112              14      74.6085651   48.30086  35.3%  16.5    4s\n",
      "   486    76   64.26595   10   18   74.60857   56.31223  24.5%  16.7    5s\n",
      "*  514    77              10      72.1379919   56.57622  21.6%  16.4    5s\n",
      "\n",
      "Cutting planes:\n",
      "  Gomory: 2\n",
      "  Implied bound: 25\n",
      "  Projected implied bound: 1\n",
      "  MIR: 26\n",
      "  Flow cover: 159\n",
      "  Zero half: 2\n",
      "  RLT: 11\n",
      "  Relax-and-lift: 18\n",
      "  Lazy constraints: 3\n",
      "\n",
      "Explored 651 nodes (10179 simplex iterations) in 5.64 seconds\n",
      "Thread count was 8 (of 8 available processors)\n",
      "\n",
      "Solution count 10: 72.138 74.6086 79.1931 ... 253.413\n",
      "\n",
      "Optimal solution found (tolerance 1.00e-04)\n",
      "Best objective 7.213799185279e+01, best bound 7.213799185279e+01, gap 0.0000%\n",
      "\n",
      "User-callback calls 2243, time in user-callback 4.06 sec\n",
      "Apprx = -17.448553\n",
      "ObjVal = 0.242302\n",
      "11  Integrality Cuts integrated into the model\n",
      "47  Sub-Gradient Cuts integrated into the model\n"
     ]
    }
   ],
   "source": [
    "lshaped = mp(mappy, bus=bus, scenarios=scenarios)\n",
    "lshaped.initialize()\n",
    "lshaped.optimize()"
   ]
  },
  {
   "cell_type": "markdown",
   "metadata": {},
   "source": [
    "for model in lshaped.submodel.values():\n",
    "    print(model.relaxmod.status)\n",
    "lshaped.submodel[1].relaxmod.computeIIS()\n",
    "lshaped.submodel[1].relaxmod.write('./Reports/IIS/Infeasible.ilp')"
   ]
  },
  {
   "cell_type": "code",
   "execution_count": 8,
   "metadata": {},
   "outputs": [
    {
     "data": {
      "image/png": "[encoded data removed]",
      "text/plain": [
       "<Figure size 432x288 with 1 Axes>"
      ]
     },
     "metadata": {
      "needs_background": "light"
     },
     "output_type": "display_data"
    },
    {
     "data": {
      "text/plain": [
       "({0: (4.42986490392226, 2.690427087376892),\n",
       "  1: (1.4600799221373484, 6.59001498048031),\n",
       "  2: (3.280993946327475, 8.256975828710063),\n",
       "  3: (2.6439208077136698, 0.5388357165300128),\n",
       "  4: (8.52774664185043, 4.7533721327711564),\n",
       "  5: (9.412350917124254, 4.6262609223838025),\n",
       "  6: (5.746326208784382, 0.5375615095983477),\n",
       "  7: (8.764686524955787, 3.8167632146088772),\n",
       "  8: (6.42697445052931, 4.234756844090077),\n",
       "  9: (0.3915760658950451, 8.550912800854025),\n",
       "  10: (1.9058218886242195, 8.757679121047522),\n",
       "  11: (4.42986490392226, 2.690427087376892)},\n",
       " {0: [(7, 6),\n",
       "   (6, 10),\n",
       "   (0, 4),\n",
       "   (8, 2),\n",
       "   (2, 1),\n",
       "   (1, 5),\n",
       "   (5, 7),\n",
       "   (9, 8),\n",
       "   (3, 9),\n",
       "   (10, 0),\n",
       "   (4, 3)]},\n",
       " [1, 2, 3, 4, 5])"
      ]
     },
     "execution_count": 8,
     "metadata": {},
     "output_type": "execute_result"
    }
   ],
   "source": [
    "nodes = mappy.node\n",
    "edges = {k:[] for k in range(lshaped.bus)}\n",
    "for i, j in lshaped.parameters.edges:\n",
    "    for k in range(lshaped.bus):\n",
    "        if lshaped.variables.x[i,j,k].X > 0.5:\n",
    "            if j != lshaped.last:\n",
    "                edges[k].append((i,j))\n",
    "            else:\n",
    "                edges[k].append((i,0))\n",
    "bounds = lshaped.getcancel()\n",
    "objlshaped = lshaped.model.ObjVal\n",
    "displaygraph(nodes, edges,'L-Shaped')\n",
    "nodes,edges,bounds"
   ]
  },
  {
   "cell_type": "code",
   "execution_count": null,
   "metadata": {
    "scrolled": true
   },
   "outputs": [],
   "source": [
    "plot_trend(lshaped.upperbounds[1:],lshaped.lowerbounds[1:],0)"
   ]
  },
  {
   "cell_type": "code",
   "execution_count": null,
   "metadata": {},
   "outputs": [],
   "source": [
    "lshaped.printsol(lshaped.submodel)"
   ]
  },
  {
   "cell_type": "code",
   "execution_count": null,
   "metadata": {},
   "outputs": [],
   "source": [
    "(sum(lshaped.variables.h[i,j].X for i,j in lshaped.variables.h.keys()),\n",
    "sum(lshaped.variables.p_l[j].X for j in lshaped.variables.p_l.keys()))"
   ]
  },
  {
   "cell_type": "code",
   "execution_count": null,
   "metadata": {},
   "outputs": [],
   "source": [
    "lshaped.submodel[3].sim.alpha"
   ]
  },
  {
   "cell_type": "code",
   "execution_count": null,
   "metadata": {},
   "outputs": [],
   "source": []
  }
 ],
 "metadata": {
  "kernelspec": {
   "display_name": "Python 3",
   "language": "python",
   "name": "python3"
  },
  "language_info": {
   "codemirror_mode": {
    "name": "ipython",
    "version": 3
   },
   "file_extension": ".py",
   "mimetype": "text/x-python",
   "name": "python",
   "nbconvert_exporter": "python",
   "pygments_lexer": "ipython3",
   "version": "3.7.7"
  }
 },
 "nbformat": 4,
 "nbformat_minor": 2
}
