{
 "cells": [
  {
   "cell_type": "code",
   "execution_count": 1,
   "metadata": {},
   "outputs": [],
   "source": [
    "import os\n",
    "os.chdir(os.path.dirname(os.getcwd()))"
   ]
  },
  {
   "cell_type": "code",
   "execution_count": 2,
   "metadata": {},
   "outputs": [],
   "source": [
    "from Map import Map\n",
    "from Tabu import Tabu\n",
    "from TwoStage import TwoStage\n",
    "from L_shaped import MasterProblem as mp\n",
    "import matplotlib.pyplot as plt\n",
    "import matplotlib.pylab as pl \n",
    "import matplotlib.cm as cm\n",
    "import time\n",
    "import networkx as nx\n",
    "import matplotlib as mpl\n",
    "import logging"
   ]
  },
  {
   "cell_type": "markdown",
   "metadata": {},
   "source": [
    "**Modelling Parameters**"
   ]
  },
  {
   "cell_type": "code",
   "execution_count": 3,
   "metadata": {},
   "outputs": [],
   "source": [
    "rides = 6\n",
    "bus = 1\n",
    "scenarios = 25\n",
    "MIPGap = 0.001\n",
    "probability = [0.7, 0.1, 0.15, 0.05]"
   ]
  },
  {
   "cell_type": "markdown",
   "metadata": {},
   "source": [
    "**Defining the Map**"
   ]
  },
  {
   "cell_type": "code",
   "execution_count": 4,
   "metadata": {},
   "outputs": [],
   "source": [
    "mappy = Map(rides)"
   ]
  },
  {
   "cell_type": "code",
   "execution_count": 5,
   "metadata": {},
   "outputs": [],
   "source": [
    "def Mod3():\n",
    "    t3 = time.time()\n",
    "    lshaped = mp(\n",
    "        mappy,\n",
    "        bus=bus,\n",
    "        scenarios=scenarios,\n",
    "#         probability=probability\n",
    "    )\n",
    "    lshaped.initialize()\n",
    "    lshaped.model.params.MIPGap = MIPGap\n",
    "    lshaped.model.params.TimeLimit = 0.01\n",
    "    lshaped.optimize()\n",
    "    t3 = time.time() - t3\n",
    "    return lshaped, t3"
   ]
  },
  {
   "cell_type": "markdown",
   "metadata": {},
   "source": [
    "**Plotting Functions**"
   ]
  },
  {
   "cell_type": "code",
   "execution_count": 6,
   "metadata": {},
   "outputs": [],
   "source": [
    "def plot_trend(ub,lb,base):\n",
    "    x = list(range(len(ub)))\n",
    "    figure = plt.figure()\n",
    "    plt.plot(x,ub,label='upper-bound')\n",
    "    plt.plot(x,[base]*len(ub),label='two-stage')\n",
    "    plt.plot(x,lb,label='lower-bound')\n",
    "    plt.annotate(int(ub[-1]),[x[-1],ub[-1]])\n",
    "    plt.legend()\n",
    "    plt.savefig('./figures/trend.png')\n",
    "    plt.show()\n",
    "\n",
    "colors = ['green','blue','yellow','red','pink'] \n",
    "def displaygraph(n, e, modname):\n",
    "    for k in e.keys():\n",
    "        for i, j in e[k]:\n",
    "            plt.plot((n[i][0],n[j][0]),(n[i][1],n[j][1]), color=colors[k] ,marker='o', linewidth=2, linestyle='dashed')\n",
    "    for i in n:\n",
    "        plt.annotate(i,n[i],textcoords=\"offset points\",xytext=(0,10),ha='center')\n",
    "    plt.savefig('./figures/'+modname+'.png')\n",
    "    plt.show()\n"
   ]
  },
  {
   "cell_type": "code",
   "execution_count": 7,
   "metadata": {
    "scrolled": true
   },
   "outputs": [
    {
     "name": "stdout",
     "output_type": "stream",
     "text": [
      "Using license file C:\\Users\\lavkeshg\\gurobi.lic\n",
      "Academic license - for non-commercial use only\n",
      "Changed value of parameter lazyConstraints to 1\n",
      "   Prev: 0  Min: 0  Max: 1  Default: 0\n",
      "Changed value of parameter NodefileStart to 0.5\n",
      "   Prev: inf  Min: 0.0  Max: inf  Default: inf\n",
      "Changed value of parameter Presolve to 2\n",
      "   Prev: -1  Min: -1  Max: 2  Default: -1\n",
      "Changed value of parameter MIPFocus to 2\n",
      "   Prev: 0  Min: 0  Max: 3  Default: 0\n",
      "Parameter Heuristics unchanged\n",
      "   Value: 0.05  Min: 0.0  Max: 1.0  Default: 0.05\n",
      "Changed value of parameter MIPGap to 0.001\n",
      "   Prev: 0.0001  Min: 0.0  Max: inf  Default: 0.0001\n",
      "Changed value of parameter TimeLimit to 0.01\n",
      "   Prev: inf  Min: 0.0  Max: inf  Default: inf\n",
      "-84.06669017577042 -10.1080528141878\n",
      "73.95884532351084 0.00020796192822558623\n",
      "-75.73824163583231 -8.103940877050348\n",
      "67.63450872071162 0.00020796192966088256\n",
      "-72.84854328680376 -9.022970417543307\n",
      "63.825780831190116 0.00020796192966088256\n",
      "-82.8421237122293 -10.249059999999993\n",
      "72.5932716741575 0.00020796192821137538\n",
      "-64.10854221768022 -6.462969261977942\n",
      "60.46128612330718 2.8157131676048976\n",
      "-69.28999791952798 -7.776790987231438\n",
      "64.34086740149019 2.8276604691936456\n",
      "-64.29934693990843 -6.499167983934788\n",
      "60.64530990038805 2.8451309444144073\n",
      "-37.22623740421291 -3.605498349284608\n",
      "40.04056857863379 6.419829523705488\n",
      "-37.3068621610025 -3.6191938111593474\n",
      "40.14183621696417 6.454167867121022\n",
      "-37.33883683076359 -3.621853719411605\n",
      "40.17728163498813 6.4602985236361405\n",
      "-37.189537598045234 -4.36470240292388\n",
      "39.31856381873447 6.493728623613116\n",
      "-23.83290159904949 -1.952104197152773\n",
      "34.06506689867069 12.184269496773975\n",
      "-23.747732097096392 -2.206226304977842\n",
      "33.733090970070926 12.191585177952373\n",
      "-22.900301892775495 -3.00359920877164\n",
      "32.186847957971956 12.2901452739681\n",
      "-14.911252064950414 -3.2026614440608068\n",
      "28.573241345490338 16.864650724600732\n",
      "-14.842374833667101 -3.271288814187804\n",
      "28.439530091758247 16.86844407227895\n",
      "-15.091182282336492 -3.6436728058477645\n",
      "28.39537187025543 16.947862393766705\n",
      "-7.994594900832728 -3.6086538823268137\n",
      "22.455180523431927 18.069239504926013\n",
      "-8.08975610249888 -3.5800719268582593\n",
      "22.584080806863447 18.074396631222825\n",
      "-7.921520357183012 -3.6150689493000474\n",
      "22.384931050699947 18.078479642816983\n",
      "-7.597782258089275 -3.0451425449078364\n",
      "23.907250291869456 19.354610578688018\n",
      "-7.596801731128806 -3.1073399019601085\n",
      "23.84475979336853 19.355297964199835\n",
      "-7.592391972175381 -3.3732197408283304\n",
      "23.576635589218522 19.35746335787147\n",
      "-7.592901186590748 -3.809159294755237\n",
      "23.143221502009514 19.359479610174002\n",
      "-7.592318565731508 -3.8638452498694336\n",
      "23.088353111988525 19.35987979612645\n",
      "-7.708284883656181 -3.6083605486800274\n",
      "23.48833587572435 19.388411540748198\n",
      "-7.662881422812566 -4.0129687848141815\n",
      "23.068305266132715 19.418392628134328\n",
      "-7.805634101575867 -3.3775800000000027\n",
      "24.242957113462474 19.814903011886607\n",
      "-5.584764429396955 -4.16596081418781\n",
      "21.924834562189172 20.506030946980026\n",
      "-5.615906674743354 -4.240312000000001\n",
      "21.88349446126842 20.50789978652507\n",
      "-5.4051292620196625 -3.8745498623830703\n",
      "22.398544749127677 20.867965349491083\n",
      "-5.127054290428657 -3.9964640584776343\n",
      "22.003535941522365 20.872945709571344\n",
      "-6.360354465252385 -3.7019280000000006\n",
      "23.622709289977514 20.96428282472513\n",
      "-4.988027998264748 -4.799120000000001\n",
      "21.20088 21.011972001735256\n",
      "-4.967877811783174 -4.680339999999997\n",
      "21.319660000000002 21.032122188216825\n",
      "-5.066294982824708 -4.8299520000000005\n",
      "21.294648842593546 21.05830585976884\n",
      "-4.920069590962045 -4.920151999999997\n",
      "21.079907729313863 21.079990138351818\n",
      "Changed value of parameter OutputFlag to 1\n",
      "   Prev: 0  Min: 0  Max: 1  Default: 1\n",
      "Gurobi Optimizer version 9.0.2 build v9.0.2rc0 (win64)\n",
      "Optimize a model with 683 rows, 349 columns and 8327 nonzeros\n",
      "Model fingerprint: 0xfe8e0894\n",
      "Variable types: 192 continuous, 157 integer (157 binary)\n",
      "Coefficient statistics:\n",
      "  Matrix range     [4e-02, 1e+03]\n",
      "  Objective range  [1e+00, 1e+01]\n",
      "  Bounds range     [1e+00, 1e+04]\n",
      "  RHS range        [4e-06, 1e+03]\n",
      "Presolve removed 68 rows and 1 columns\n",
      "Presolve time: 0.01s\n",
      "\n",
      "Explored 0 nodes (0 simplex iterations) in 0.01 seconds\n",
      "Thread count was 1 (of 8 available processors)\n",
      "\n",
      "Solution count 0\n",
      "\n",
      "Time limit reached\n",
      "Best objective -, best bound -, gap -\n",
      "\n",
      "User-callback calls 34, time in user-callback 0.00 sec\n",
      "-inf\n",
      "Apprx = inf\n",
      "ObjVal = 21.079908\n",
      "0  Integrality Cuts integrated into the model\n",
      "37  Sub-Gradient Cuts integrated into the model\n"
     ]
    }
   ],
   "source": [
    "lshaped, t = Mod3()"
   ]
  },
  {
   "cell_type": "markdown",
   "metadata": {},
   "source": [
    "for model in lshaped.submodel.values():\n",
    "    print(model.relaxmod.status)\n",
    "lshaped.submodel[1].relaxmod.computeIIS()\n",
    "lshaped.submodel[1].relaxmod.write('./Reports/IIS/Infeasible.ilp')"
   ]
  },
  {
   "cell_type": "code",
   "execution_count": 8,
   "metadata": {},
   "outputs": [
    {
     "ename": "AttributeError",
     "evalue": "Unable to retrieve attribute 'X'",
     "output_type": "error",
     "traceback": [
      "\u001b[1;31m---------------------------------------------------------------------------\u001b[0m",
      "\u001b[1;31mAttributeError\u001b[0m                            Traceback (most recent call last)",
      "\u001b[1;32m<ipython-input-8-405d7484c05f>\u001b[0m in \u001b[0;36m<module>\u001b[1;34m\u001b[0m\n\u001b[0;32m      3\u001b[0m \u001b[1;32mfor\u001b[0m \u001b[0mi\u001b[0m\u001b[1;33m,\u001b[0m \u001b[0mj\u001b[0m \u001b[1;32min\u001b[0m \u001b[0mlshaped\u001b[0m\u001b[1;33m.\u001b[0m\u001b[0mparameters\u001b[0m\u001b[1;33m.\u001b[0m\u001b[0medges\u001b[0m\u001b[1;33m:\u001b[0m\u001b[1;33m\u001b[0m\u001b[1;33m\u001b[0m\u001b[0m\n\u001b[0;32m      4\u001b[0m     \u001b[1;32mfor\u001b[0m \u001b[0mk\u001b[0m \u001b[1;32min\u001b[0m \u001b[0mrange\u001b[0m\u001b[1;33m(\u001b[0m\u001b[0mlshaped\u001b[0m\u001b[1;33m.\u001b[0m\u001b[0mbus\u001b[0m\u001b[1;33m)\u001b[0m\u001b[1;33m:\u001b[0m\u001b[1;33m\u001b[0m\u001b[1;33m\u001b[0m\u001b[0m\n\u001b[1;32m----> 5\u001b[1;33m         \u001b[1;32mif\u001b[0m \u001b[0mlshaped\u001b[0m\u001b[1;33m.\u001b[0m\u001b[0mvariables\u001b[0m\u001b[1;33m.\u001b[0m\u001b[0mx\u001b[0m\u001b[1;33m[\u001b[0m\u001b[0mi\u001b[0m\u001b[1;33m,\u001b[0m\u001b[0mj\u001b[0m\u001b[1;33m,\u001b[0m\u001b[0mk\u001b[0m\u001b[1;33m]\u001b[0m\u001b[1;33m.\u001b[0m\u001b[0mX\u001b[0m \u001b[1;33m>\u001b[0m \u001b[1;36m0.5\u001b[0m\u001b[1;33m:\u001b[0m\u001b[1;33m\u001b[0m\u001b[1;33m\u001b[0m\u001b[0m\n\u001b[0m\u001b[0;32m      6\u001b[0m             \u001b[1;32mif\u001b[0m \u001b[0mj\u001b[0m \u001b[1;33m!=\u001b[0m \u001b[0mlshaped\u001b[0m\u001b[1;33m.\u001b[0m\u001b[0mlast\u001b[0m\u001b[1;33m:\u001b[0m\u001b[1;33m\u001b[0m\u001b[1;33m\u001b[0m\u001b[0m\n\u001b[0;32m      7\u001b[0m                 \u001b[0medges\u001b[0m\u001b[1;33m[\u001b[0m\u001b[0mk\u001b[0m\u001b[1;33m]\u001b[0m\u001b[1;33m.\u001b[0m\u001b[0mappend\u001b[0m\u001b[1;33m(\u001b[0m\u001b[1;33m(\u001b[0m\u001b[0mi\u001b[0m\u001b[1;33m,\u001b[0m\u001b[0mj\u001b[0m\u001b[1;33m)\u001b[0m\u001b[1;33m)\u001b[0m\u001b[1;33m\u001b[0m\u001b[1;33m\u001b[0m\u001b[0m\n",
      "\u001b[1;32mvar.pxi\u001b[0m in \u001b[0;36mgurobipy.Var.__getattr__\u001b[1;34m()\u001b[0m\n",
      "\u001b[1;32mvar.pxi\u001b[0m in \u001b[0;36mgurobipy.Var.getAttr\u001b[1;34m()\u001b[0m\n",
      "\u001b[1;32mattrutil.pxi\u001b[0m in \u001b[0;36mgurobipy.__getattr\u001b[1;34m()\u001b[0m\n",
      "\u001b[1;31mAttributeError\u001b[0m: Unable to retrieve attribute 'X'"
     ]
    }
   ],
   "source": [
    "nodes = mappy.node\n",
    "edges = {k:[] for k in range(lshaped.bus)}\n",
    "for i, j in lshaped.parameters.edges:\n",
    "    for k in range(lshaped.bus):\n",
    "        if lshaped.variables.x[i,j,k].X > 0.5:\n",
    "            if j != lshaped.last:\n",
    "                edges[k].append((i,j))\n",
    "            else:\n",
    "                edges[k].append((i,0))\n",
    "bounds = lshaped.getcancel()\n",
    "objlshaped = lshaped.model.ObjVal\n",
    "displaygraph(nodes, edges,'L-Shaped')\n",
    "nodes,edges,bounds"
   ]
  },
  {
   "cell_type": "code",
   "execution_count": null,
   "metadata": {
    "scrolled": true
   },
   "outputs": [],
   "source": [
    "plot_trend(lshaped.upperbounds[1:],lshaped.lowerbounds[1:],0)"
   ]
  },
  {
   "cell_type": "code",
   "execution_count": null,
   "metadata": {},
   "outputs": [],
   "source": [
    "lshaped.printsol(lshaped.submodel)"
   ]
  },
  {
   "cell_type": "code",
   "execution_count": null,
   "metadata": {},
   "outputs": [],
   "source": [
    "(sum(lshaped.variables.h[i,j].X for i,j in lshaped.variables.h.keys()),\n",
    "sum(lshaped.variables.p_l[j].X for j in lshaped.variables.p_l.keys()))"
   ]
  },
  {
   "cell_type": "code",
   "execution_count": null,
   "metadata": {},
   "outputs": [],
   "source": [
    "lshaped.submodel[3].sim.alpha"
   ]
  },
  {
   "cell_type": "code",
   "execution_count": null,
   "metadata": {},
   "outputs": [],
   "source": [
    "lshaped.model.ObjBound"
   ]
  }
 ],
 "metadata": {
  "kernelspec": {
   "display_name": "Python 3",
   "language": "python",
   "name": "python3"
  },
  "language_info": {
   "codemirror_mode": {
    "name": "ipython",
    "version": 3
   },
   "file_extension": ".py",
   "mimetype": "text/x-python",
   "name": "python",
   "nbconvert_exporter": "python",
   "pygments_lexer": "ipython3",
   "version": "3.7.7"
  }
 },
 "nbformat": 4,
 "nbformat_minor": 2
}
