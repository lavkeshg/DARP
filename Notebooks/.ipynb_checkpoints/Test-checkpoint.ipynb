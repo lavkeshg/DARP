{
 "cells": [
  {
   "cell_type": "code",
   "execution_count": null,
   "metadata": {},
   "outputs": [],
   "source": [
    "import os\n",
    "os.chdir(os.path.dirname(os.getcwd()))"
   ]
  },
  {
   "cell_type": "code",
   "execution_count": null,
   "metadata": {},
   "outputs": [],
   "source": [
    "from Map import Map\n",
    "from Tabu import Tabu\n",
    "from TwoStage import TwoStage\n",
    "from L_shaped import MasterProblem as mp\n",
    "import matplotlib.pyplot as plt\n",
    "import matplotlib.pylab as pl \n",
    "import matplotlib.cm as cm\n",
    "import time\n",
    "import networkx as nx\n",
    "import matplotlib as mpl\n",
    "from gurobipy import *\n",
    "import csv"
   ]
  },
  {
   "cell_type": "markdown",
   "metadata": {},
   "source": [
    "**Modelling Parameters**"
   ]
  },
  {
   "cell_type": "code",
   "execution_count": null,
   "metadata": {},
   "outputs": [],
   "source": [
    "rides = 5\n",
    "bus = 1\n",
    "scenarios = 25\n",
    "MIPGap = 0.001\n",
    "TimeLimit = 18000\n",
    "probability = [0.7, 0.1, 0.15, 0.05]"
   ]
  },
  {
   "cell_type": "markdown",
   "metadata": {},
   "source": [
    "**Defining the Map**"
   ]
  },
  {
   "cell_type": "code",
   "execution_count": null,
   "metadata": {},
   "outputs": [],
   "source": [
    "mappy = Map(rides)"
   ]
  },
  {
   "cell_type": "markdown",
   "metadata": {},
   "source": [
    "**Plotting Functions**"
   ]
  },
  {
   "cell_type": "code",
   "execution_count": null,
   "metadata": {},
   "outputs": [],
   "source": [
    "def plot_trend(ub,lb,base):\n",
    "    x = list(range(len(ub)))\n",
    "    figure = plt.figure()\n",
    "    plt.plot(x,ub,label='upper-bound')\n",
    "    plt.plot(x,[base]*len(ub),label='two-stage')\n",
    "    plt.plot(x,lb,label='lower-bound')\n",
    "    plt.annotate(int(ub[-1]),[x[-1],ub[-1]])\n",
    "    plt.legend()\n",
    "    plt.savefig('./figures/trend.png')\n",
    "    plt.show()\n",
    "\n",
    "colors = ['green','blue','yellow','red','pink'] \n",
    "def displaygraph(n, e, modname):\n",
    "    for k in e.keys():\n",
    "        for i, j in e[k]:\n",
    "            plt.plot((n[i][0],n[j][0]),(n[i][1],n[j][1]), color=colors[k] ,marker='o', linewidth=2, linestyle='dashed')\n",
    "    for i in n:\n",
    "        plt.annotate(i,n[i],textcoords=\"offset points\",xytext=(0,10),ha='center')\n",
    "    plt.savefig('./figures/'+modname+'.png')\n",
    "    plt.show()\n"
   ]
  },
  {
   "cell_type": "markdown",
   "metadata": {},
   "source": [
    "#### Model formulation"
   ]
  },
  {
   "cell_type": "code",
   "execution_count": null,
   "metadata": {},
   "outputs": [],
   "source": [
    "def Mod1(aux=False):\n",
    "    t1 = time.time()\n",
    "    drpstw = mp(mappy,bus=bus,scenarios=scenarios, probability=probability)\n",
    "    drpstw.initialize()\n",
    "    drpstw.setMIP()\n",
    "    drpstw.variables.th.obj=0\n",
    "    if aux:\n",
    "        drpstw.setLowerBound()\n",
    "        for s in range(drpstw.scenarios):\n",
    "            drpstw.submodel[s].model.params.MIPGap = MIPGap\n",
    "#             drpstw.submodel[s].model.params.OutputFlag = 1\n",
    "    else:\n",
    "        drpstw.model.params.TimeLimit = TimeLimit\n",
    "        drpstw.model.optimize()\n",
    "    t1 = time.time() - t1\n",
    "    return drpstw, t1"
   ]
  },
  {
   "cell_type": "code",
   "execution_count": null,
   "metadata": {},
   "outputs": [],
   "source": [
    "def Mod2(model=None):\n",
    "    t2 = time.time()\n",
    "    twosp = TwoStage(mappy, bus=bus, scenarios=scenarios, probability=probability)\n",
    "    twosp.model.params.TimeLimit = TimeLimit\n",
    "    if model is not None:\n",
    "        for i,j,k in twosp.MP.variables.x.keys():\n",
    "            twosp.MP.variables.x[i,j,k].start = model.variables.x[i,j,k].X\n",
    "    twosp.optimize()\n",
    "    t2 = time.time() - t2\n",
    "    return twosp, t2"
   ]
  },
  {
   "cell_type": "code",
   "execution_count": null,
   "metadata": {
    "scrolled": true
   },
   "outputs": [],
   "source": [
    "def Mod3():\n",
    "    t3 = time.time()\n",
    "    lshaped = mp(mappy, bus=bus, scenarios=scenarios, probability=probability)\n",
    "    lshaped.initialize()\n",
    "    lshaped.model.params.TimeLimit = TimeLimit\n",
    "    lshaped.optimize()\n",
    "    t3 = time.time() - t3\n",
    "    return lshaped, t3"
   ]
  },
  {
   "cell_type": "code",
   "execution_count": null,
   "metadata": {},
   "outputs": [],
   "source": [
    "def Mod4(lshaped):\n",
    "    t4 = time.time()\n",
    "    tabu = Tabu(lshaped,tabu_iterations=200, tabu_status=10, subset=10, tsp=False)\n",
    "    tabu.tsp = True\n",
    "    tabu.tabuheuristic()\n",
    "    t4 = time.time() - t4\n",
    "    return tabu, t4"
   ]
  },
  {
   "cell_type": "code",
   "execution_count": null,
   "metadata": {},
   "outputs": [],
   "source": [
    "def Mod5(lshaped):\n",
    "    t5 = time.time()\n",
    "    tabutsp = Tabu(lshaped,tabu_itcerations=100, subset=10, tsp=True)\n",
    "    tabutsp.tabuheuristic()\n",
    "    t5 = time.time() - t5\n",
    "    return tabutsp, t5"
   ]
  },
  {
   "cell_type": "markdown",
   "metadata": {},
   "source": [
    "### Test Block"
   ]
  },
  {
   "cell_type": "code",
   "execution_count": null,
   "metadata": {},
   "outputs": [],
   "source": [
    "TimeLimit = 18000\n",
    "tests = [(3,1),(4,1),(5,1)]\n",
    "#          (6,2),(7,2),(9,3),(10,3),(11,3),(13,4),(15,4),(18,5),(20,5),(22,6),(24,6),(25,7),(27,8)]\n",
    "scenarioslist = [10]\n",
    "\n",
    "with open('./Reports/Report.csv', 'w', newline='') as csv_file:\n",
    "    write = csv.writer(csv_file, delimiter=',')\n",
    "    write.writerow(('Rides','Bus','Scenarios','TSPObj','TSPGap','TSPTime','LshapeObj','LshapeSave','LshapeGap','LshapeTime','TabuObj','TabuSave','TabuTime'))\n",
    "    for s in scenarioslist:\n",
    "        scenarios = s\n",
    "        for test in tests:\n",
    "            rides, bus = test\n",
    "            mappy = Map(rides)\n",
    "            #Two-Stage\n",
    "            try:    \n",
    "                twostage, t1 = Mod2()\n",
    "                if twostage.model.status in [2,9]:\n",
    "                    twostageobj = twostage.model.ObjVal\n",
    "                    twostagegap = twostage.model.MIPGap\n",
    "                    twostagetime = t1\n",
    "                else:\n",
    "                    twostageobj = 'NA'\n",
    "                    twostagegap = 'NA'\n",
    "                    twostagetime = t1\n",
    "            except GurobiError:\n",
    "                twostageobj = 'Failed'\n",
    "                twostagegap = 'Failed'\n",
    "                twostagetime = 'Failed'\n",
    "            #L-shaped\n",
    "            try:    \n",
    "                lshaped, t2 = Mod3()\n",
    "                if lshaped.model.status in [2,9]:\n",
    "                    lshapedobj = lshaped.model.ObjVal\n",
    "                    lshapedsave = lshaped.variables.th.X\n",
    "                    lshapedgap = lshaped.model.MIPGap\n",
    "                    lshapedtime = t2\n",
    "                else:\n",
    "                    lshapedobj = 'NA'\n",
    "                    lshapedgap = 'NA'\n",
    "                    lshapedtime = t2\n",
    "                    lshapedsave = 'NA'\n",
    "            except GurobiError:\n",
    "                lshapedobj = 'Failed'\n",
    "                lshapedsave = 'Failed'\n",
    "                lshapedgap = 'Failed'\n",
    "                lshapedtime = 'Failed'\n",
    "            #Tabu\n",
    "            try:    \n",
    "                tabu, t3 = Mod4(lshaped)\n",
    "                tabuobj = tabu.best[-1]\n",
    "                tabusave = tabu.best[-3]\n",
    "                tabutime = t3\n",
    "                \n",
    "            except GurobiError:\n",
    "                tabuobj = 'Failed'\n",
    "                tabusave = 'Failed'\n",
    "                tabutime = 'Failed'\n",
    "            \n",
    "            write.writerow((str(rides),\n",
    "                            str(bus),\n",
    "                            str(scenarios),\n",
    "                            str(twostageobj),\n",
    "                            str(twostagegap),\n",
    "                            str(twostagetime),\n",
    "                            str(lshapedobj),\n",
    "                            str(lshapedsave),\n",
    "                            str(lshapedgap),\n",
    "                            str(lshapedtime),\n",
    "                            str(tabuobj),\n",
    "                            str(tabusave),\n",
    "                            str(tabutime)))"
   ]
  },
  {
   "cell_type": "code",
   "execution_count": null,
   "metadata": {},
   "outputs": [],
   "source": [
    "MIPGap = 0.001\n",
    "tests = [(3,1),(4,1),(5,1),(6,2),(7,2),(8,2),(9,2)]\n",
    "scenarioslist = [10,15,20]\n",
    "for s in scenarioslist:\n",
    "    scenarios = s\n",
    "    for test in tests:\n",
    "        rides, bus = test\n",
    "        mappy = Map(rides)        \n",
    "#         drpstw, t1 = Mod1()\n",
    "#         objdrpstw = drpstw.model.ObjVal\n",
    "        twosp, t2 = Mod2()\n",
    "        objtwosp = twosp.model.ObjVal\n",
    "        lshaped, t3 = Mod3() \n",
    "        objlshaped = lshaped.model.ObjVal\n",
    "#         tabu, t4 = Mod4()\n",
    "#         objtabu = tabu.best[-2]\n",
    "        write = [\n",
    "#             str(objdrpstw), str(t1),\n",
    "            str(objtwosp), str(t2),\n",
    "            str(objlshaped), str(t3),\n",
    "#             str(objtabu), str(t4),\n",
    "            str(scenarios),str(bus),str(rides)]\n",
    "        with open('report.txt', 'a') as file:\n",
    "            file.write('\\n')\n",
    "            for w in write:\n",
    "                file.write(w)\n",
    "                file.write(',')"
   ]
  },
  {
   "cell_type": "markdown",
   "metadata": {},
   "source": [
    "### DARP-STW Model"
   ]
  },
  {
   "cell_type": "markdown",
   "metadata": {},
   "source": [
    "#### Model Solution "
   ]
  },
  {
   "cell_type": "code",
   "execution_count": null,
   "metadata": {},
   "outputs": [],
   "source": [
    "drpstw, t1 = Mod1()"
   ]
  },
  {
   "cell_type": "code",
   "execution_count": null,
   "metadata": {},
   "outputs": [],
   "source": [
    "nodes = mappy.node\n",
    "edges = {k:[] for k in range(drpstw.bus)}\n",
    "for i, j in drpstw.parameters.edges:\n",
    "    for k in range(drpstw.bus):\n",
    "        if drpstw.variables.x[i,j,k].X > 0.5:\n",
    "            if j != drpstw.last:\n",
    "                edges[k].append((i,j))\n",
    "            else:\n",
    "                edges[k].append((i,0))\n",
    "\n",
    "objdrpstw = drpstw.model.ObjVal\n",
    "displaygraph(nodes, edges,'DARP-STW')\n",
    "nodes,edges"
   ]
  },
  {
   "cell_type": "markdown",
   "metadata": {},
   "source": [
    "### Two-Stage Stochastic Model"
   ]
  },
  {
   "cell_type": "markdown",
   "metadata": {},
   "source": [
    "#### Model Solution"
   ]
  },
  {
   "cell_type": "code",
   "execution_count": null,
   "metadata": {},
   "outputs": [],
   "source": [
    "twosp, t2 = Mod2()"
   ]
  },
  {
   "cell_type": "code",
   "execution_count": null,
   "metadata": {},
   "outputs": [],
   "source": [
    "nodes = mappy.node\n",
    "edges = {k:[] for k in range(twosp.bus)}\n",
    "for i, j in twosp.parameters.edges:\n",
    "    for k in range(twosp.bus):\n",
    "        if twosp.MP.variables.x[i,j,k].X > 0.5:\n",
    "            if j != twosp.last:\n",
    "                edges[k].append((i,j))\n",
    "            else:\n",
    "                edges[k].append((i,0))\n",
    "\n",
    "objtwosp = twosp.model.ObjVal\n",
    "displaygraph(nodes, edges,'Two-Stage')\n",
    "nodes,edges"
   ]
  },
  {
   "cell_type": "markdown",
   "metadata": {},
   "source": [
    "### L-Shaped Method"
   ]
  },
  {
   "cell_type": "markdown",
   "metadata": {},
   "source": [
    "#### Model Solution"
   ]
  },
  {
   "cell_type": "code",
   "execution_count": null,
   "metadata": {
    "scrolled": true
   },
   "outputs": [],
   "source": [
    "lshaped, t3 = Mod3()"
   ]
  },
  {
   "cell_type": "code",
   "execution_count": null,
   "metadata": {},
   "outputs": [],
   "source": [
    "lshaped.LazyInt"
   ]
  },
  {
   "cell_type": "code",
   "execution_count": null,
   "metadata": {},
   "outputs": [],
   "source": [
    "nodes = mappy.node\n",
    "edges = {k:[] for k in range(lshaped.bus)}\n",
    "for i, j in lshaped.parameters.edges:\n",
    "    for k in range(lshaped.bus):\n",
    "        if lshaped.variables.x[i,j,k].X > 0.5:\n",
    "            if j != lshaped.last:\n",
    "                edges[k].append((i,j))\n",
    "            else:\n",
    "                edges[k].append((i,0))\n",
    "bounds = lshaped.getcancel()\n",
    "objlshaped = lshaped.model.ObjVal\n",
    "displaygraph(nodes, edges,'L-Shaped')\n",
    "nodes,edges,bounds"
   ]
  },
  {
   "cell_type": "code",
   "execution_count": null,
   "metadata": {
    "scrolled": true
   },
   "outputs": [],
   "source": [
    "plot_trend(lshaped.upperbounds[2:],lshaped.lowerbounds[2:],0)"
   ]
  },
  {
   "cell_type": "code",
   "execution_count": null,
   "metadata": {},
   "outputs": [],
   "source": [
    "mostcancel = {i: 0 for i in lshaped.parameters.pickup}\n",
    "for i in lshaped.parameters.pickup:\n",
    "    for s in range(lshaped.scenarios):\n",
    "        mostcancel[i] += 2 - lshaped.submodel[s].sim.alpha[i] - lshaped.submodel[s].sim.alpha[i+lshaped.parameters.rides]\n",
    "mostcancel = sorted(mostcancel.items(), key=lambda x: (x[1]))\n",
    "mostcancel"
   ]
  },
  {
   "cell_type": "markdown",
   "metadata": {},
   "source": [
    "### Tabu-Heuristic"
   ]
  },
  {
   "cell_type": "markdown",
   "metadata": {},
   "source": [
    "#### Model Solution"
   ]
  },
  {
   "cell_type": "code",
   "execution_count": null,
   "metadata": {},
   "outputs": [],
   "source": [
    "tabu, t4 = Mod4()"
   ]
  },
  {
   "cell_type": "code",
   "execution_count": null,
   "metadata": {},
   "outputs": [],
   "source": [
    "nodes = mappy.node\n",
    "edges = {k:[] for k in tabu.bus}\n",
    "for k in tabu.bus:\n",
    "    for i in tabu.best[k]:\n",
    "        n = tabu.best[k][i]\n",
    "        if i != tabu.model.last:\n",
    "            edges[k].append((i,n.next.key))\n",
    "objtabu = tabu.best[-2]\n",
    "displaygraph(nodes, edges,'Tabu')    \n",
    "nodes,edges, tabu.best"
   ]
  },
  {
   "cell_type": "code",
   "execution_count": null,
   "metadata": {},
   "outputs": [],
   "source": [
    "tabutsp, t5 = Mod5()"
   ]
  },
  {
   "cell_type": "code",
   "execution_count": null,
   "metadata": {},
   "outputs": [],
   "source": [
    "nodes = mappy.node\n",
    "edges = {k:[] for k in tabu.bus}\n",
    "for k in tabutsp.bus:\n",
    "    for i in tabutsp.best[k]:\n",
    "        n = tabutsp.best[k][i]\n",
    "        if i != tabutsp.model.last:\n",
    "            edges[k].append((i,n.next.key))\n",
    "objtabutsp = tabutsp.best[-2]\n",
    "displaygraph(nodes, edges,'TabuTSP')    \n",
    "nodes,edges, tabutsp.best"
   ]
  },
  {
   "cell_type": "code",
   "execution_count": null,
   "metadata": {},
   "outputs": [],
   "source": [
    "print(t1,t2,t3,t4,t5)\n",
    "objdrpstw,objtwosp,objlshaped,objtabu,objtabutsp"
   ]
  },
  {
   "cell_type": "code",
   "execution_count": null,
   "metadata": {},
   "outputs": [],
   "source": [
    "mappy.pickup_time"
   ]
  },
  {
   "cell_type": "code",
   "execution_count": null,
   "metadata": {},
   "outputs": [],
   "source": [
    "# print(twosp.sim.alpha)\n",
    "lshaped.printsol(lshaped.submodel)"
   ]
  },
  {
   "cell_type": "code",
   "execution_count": null,
   "metadata": {},
   "outputs": [],
   "source": [
    "nodes = mappy.node\n",
    "edges = {k:[] for k in range(lshaped.bus)}\n",
    "for i, j in lshaped.parameters.edges:\n",
    "    for k in range(lshaped.bus):\n",
    "        if lshaped.submodel[3].variables.xs[i,j,k].X > 0.5:\n",
    "            if i == 0 and j == 9:\n",
    "                continue\n",
    "            if j != lshaped.last:\n",
    "                edges[k].append((i,j))\n",
    "            else:\n",
    "                edges[k].append((i,0))\n",
    "bounds = lshaped.getcancel()\n",
    "objlshaped = lshaped.model.ObjVal\n",
    "displaygraph(nodes, edges,'L-Shaped')\n",
    "nodes,edges"
   ]
  },
  {
   "cell_type": "code",
   "execution_count": null,
   "metadata": {},
   "outputs": [],
   "source": [
    "drpstw"
   ]
  }
 ],
 "metadata": {
  "kernelspec": {
   "display_name": "Python 3",
   "language": "python",
   "name": "python3"
  },
  "language_info": {
   "codemirror_mode": {
    "name": "ipython",
    "version": 3
   },
   "file_extension": ".py",
   "mimetype": "text/x-python",
   "name": "python",
   "nbconvert_exporter": "python",
   "pygments_lexer": "ipython3",
   "version": "3.7.7"
  }
 },
 "nbformat": 4,
 "nbformat_minor": 2
}
